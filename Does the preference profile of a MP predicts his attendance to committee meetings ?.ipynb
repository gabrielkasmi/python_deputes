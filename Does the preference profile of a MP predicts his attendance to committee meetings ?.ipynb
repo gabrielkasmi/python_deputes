{
 "cells": [
  {
   "cell_type": "markdown",
   "metadata": {},
   "source": [
    "# Les centres d'intérêts des députés influencent-ils leur participation aux séances en commission permanente ? (16/12/2018)\n"
   ]
  },
  {
   "cell_type": "markdown",
   "metadata": {},
   "source": [
    "## Introduction"
   ]
  },
  {
   "cell_type": "markdown",
   "metadata": {},
   "source": [
    "Introduction ici: contexte général\n",
    "\n",
    "plan (pas tout à fait au point encore)\n",
    "\n",
    "1. preprocessing\n",
    "2. faire tourner l'algo\n",
    "3. postestimation (nombre de clusters et compagnie)\n",
    "4. applications\n",
    "    4.1 quels sont les centres d'intérêt des députés ? \n",
    "    4.2 à quel(s) député(s) se réfèrent ces thématiques ? \n",
    "    \n",
    "5. ouverture pour un truc d'écono mais pas le temps ici\n",
    " \n"
   ]
  },
  {
   "cell_type": "code",
   "execution_count": 1,
   "metadata": {},
   "outputs": [
    {
     "data": {
      "text/html": [
       "<div id=\"my_id_menu_nb\">run previous cell, wait for 2 seconds</div>\n",
       "<script>\n",
       "function repeat_indent_string(n){\n",
       "    var a = \"\" ;\n",
       "    for ( ; n > 0 ; --n)\n",
       "        a += \"    \";\n",
       "    return a;\n",
       "}\n",
       "// look up into all sections and builds an automated menu //\n",
       "var update_menu_string = function(begin, lfirst, llast, sformat, send, keep_item, begin_format, end_format) {\n",
       "    var anchors = document.getElementsByClassName(\"section\");\n",
       "    if (anchors.length == 0) {\n",
       "        anchors = document.getElementsByClassName(\"text_cell_render rendered_html\");\n",
       "    }\n",
       "    var i,t;\n",
       "    var text_menu = begin;\n",
       "    var text_memo = \"<pre>\\nlength:\" + anchors.length + \"\\n\";\n",
       "    var ind = \"\";\n",
       "    var memo_level = 1;\n",
       "    var href;\n",
       "    var tags = [];\n",
       "    var main_item = 0;\n",
       "    var format_open = 0;\n",
       "    for (i = 0; i <= llast; i++)\n",
       "        tags.push(\"h\" + i);\n",
       "\n",
       "    for (i = 0; i < anchors.length; i++) {\n",
       "        text_memo += \"**\" + anchors[i].id + \"--\\n\";\n",
       "\n",
       "        var child = null;\n",
       "        for(t = 0; t < tags.length; t++) {\n",
       "            var r = anchors[i].getElementsByTagName(tags[t]);\n",
       "            if (r.length > 0) {\n",
       "child = r[0];\n",
       "break;\n",
       "            }\n",
       "        }\n",
       "        if (child == null) {\n",
       "            text_memo += \"null\\n\";\n",
       "            continue;\n",
       "        }\n",
       "        if (anchors[i].hasAttribute(\"id\")) {\n",
       "            // when converted in RST\n",
       "            href = anchors[i].id;\n",
       "            text_memo += \"#1-\" + href;\n",
       "            // passer à child suivant (le chercher)\n",
       "        }\n",
       "        else if (child.hasAttribute(\"id\")) {\n",
       "            // in a notebook\n",
       "            href = child.id;\n",
       "            text_memo += \"#2-\" + href;\n",
       "        }\n",
       "        else {\n",
       "            text_memo += \"#3-\" + \"*\" + \"\\n\";\n",
       "            continue;\n",
       "        }\n",
       "        var title = child.textContent;\n",
       "        var level = parseInt(child.tagName.substring(1,2));\n",
       "\n",
       "        text_memo += \"--\" + level + \"?\" + lfirst + \"--\" + title + \"\\n\";\n",
       "\n",
       "        if ((level < lfirst) || (level > llast)) {\n",
       "            continue ;\n",
       "        }\n",
       "        if (title.endsWith('¶')) {\n",
       "            title = title.substring(0,title.length-1).replace(\"<\", \"&lt;\")\n",
       "         .replace(\">\", \"&gt;\").replace(\"&\", \"&amp;\");\n",
       "        }\n",
       "        if (title.length == 0) {\n",
       "            continue;\n",
       "        }\n",
       "\n",
       "        while (level < memo_level) {\n",
       "            text_menu += end_format + \"</ul>\\n\";\n",
       "            format_open -= 1;\n",
       "            memo_level -= 1;\n",
       "        }\n",
       "        if (level == lfirst) {\n",
       "            main_item += 1;\n",
       "        }\n",
       "        if (keep_item != -1 && main_item != keep_item + 1) {\n",
       "            // alert(main_item + \" - \" + level + \" - \" + keep_item);\n",
       "            continue;\n",
       "        }\n",
       "        while (level > memo_level) {\n",
       "            text_menu += \"<ul>\\n\";\n",
       "            memo_level += 1;\n",
       "        }\n",
       "        text_menu += repeat_indent_string(level-2);\n",
       "        text_menu += begin_format + sformat.replace(\"__HREF__\", href).replace(\"__TITLE__\", title);\n",
       "        format_open += 1;\n",
       "    }\n",
       "    while (1 < memo_level) {\n",
       "        text_menu += end_format + \"</ul>\\n\";\n",
       "        memo_level -= 1;\n",
       "        format_open -= 1;\n",
       "    }\n",
       "    text_menu += send;\n",
       "    //text_menu += \"\\n\" + text_memo;\n",
       "\n",
       "    while (format_open > 0) {\n",
       "        text_menu += end_format;\n",
       "        format_open -= 1;\n",
       "    }\n",
       "    return text_menu;\n",
       "};\n",
       "var update_menu = function() {\n",
       "    var sbegin = \"\";\n",
       "    var sformat = '<a href=\"#__HREF__\">__TITLE__</a>';\n",
       "    var send = \"\";\n",
       "    var begin_format = '<li>';\n",
       "    var end_format = '</li>';\n",
       "    var keep_item = -1;\n",
       "    var text_menu = update_menu_string(sbegin, 2, 4, sformat, send, keep_item,\n",
       "       begin_format, end_format);\n",
       "    var menu = document.getElementById(\"my_id_menu_nb\");\n",
       "    menu.innerHTML=text_menu;\n",
       "};\n",
       "window.setTimeout(update_menu,2000);\n",
       "            </script>"
      ],
      "text/plain": [
       "<IPython.core.display.HTML object>"
      ]
     },
     "execution_count": 1,
     "metadata": {},
     "output_type": "execute_result"
    }
   ],
   "source": [
    "from jyquickhelper import add_notebook_menu\n",
    "add_notebook_menu()"
   ]
  },
  {
   "cell_type": "markdown",
   "metadata": {},
   "source": [
    "## Identifier les différentes thématiques débattues"
   ]
  },
  {
   "cell_type": "markdown",
   "metadata": {},
   "source": [
    "Première chose : créer les catégories thématiques (regrouper les champs lexicaux). Point de départ : 8 clusters"
   ]
  },
  {
   "cell_type": "markdown",
   "metadata": {},
   "source": [
    "On utilise toutes les interventions en séance en commission pour inférer les thématiques débattues. \n",
    "\n",
    "Nous utilisons un script autonome pour extraire les données à partir d'une base SQL (cf. annexes)"
   ]
  },
  {
   "cell_type": "code",
   "execution_count": 30,
   "metadata": {
    "scrolled": true
   },
   "outputs": [
    {
     "data": {
      "text/html": [
       "<div>\n",
       "<style scoped>\n",
       "    .dataframe tbody tr th:only-of-type {\n",
       "        vertical-align: middle;\n",
       "    }\n",
       "\n",
       "    .dataframe tbody tr th {\n",
       "        vertical-align: top;\n",
       "    }\n",
       "\n",
       "    .dataframe thead th {\n",
       "        text-align: right;\n",
       "    }\n",
       "</style>\n",
       "<table border=\"1\" class=\"dataframe\">\n",
       "  <thead>\n",
       "    <tr style=\"text-align: right;\">\n",
       "      <th></th>\n",
       "      <th>0</th>\n",
       "      <th>1</th>\n",
       "      <th>2</th>\n",
       "    </tr>\n",
       "  </thead>\n",
       "  <tbody>\n",
       "    <tr>\n",
       "      <th>0</th>\n",
       "      <td>3</td>\n",
       "      <td>145</td>\n",
       "      <td>J'invite les deux plus jeunes commissaires pré...</td>\n",
       "    </tr>\n",
       "    <tr>\n",
       "      <th>1</th>\n",
       "      <td>3</td>\n",
       "      <td>145</td>\n",
       "      <td>Je constate qu'il n'y a qu'un seul candidat. I...</td>\n",
       "    </tr>\n",
       "    <tr>\n",
       "      <th>2</th>\n",
       "      <td>3</td>\n",
       "      <td>77</td>\n",
       "      <td>Nous en venons à l'élection des quatre vice-pr...</td>\n",
       "    </tr>\n",
       "    <tr>\n",
       "      <th>3</th>\n",
       "      <td>3</td>\n",
       "      <td>77</td>\n",
       "      <td>Pour les postes de secrétaires, j'ai reçu les ...</td>\n",
       "    </tr>\n",
       "    <tr>\n",
       "      <th>4</th>\n",
       "      <td>3</td>\n",
       "      <td>77</td>\n",
       "      <td>MM. Stéphane Demilly, Jacques Kossowski, Arnau...</td>\n",
       "    </tr>\n",
       "  </tbody>\n",
       "</table>\n",
       "</div>"
      ],
      "text/plain": [
       "   0    1                                                  2\n",
       "0  3  145  J'invite les deux plus jeunes commissaires pré...\n",
       "1  3  145  Je constate qu'il n'y a qu'un seul candidat. I...\n",
       "2  3   77  Nous en venons à l'élection des quatre vice-pr...\n",
       "3  3   77  Pour les postes de secrétaires, j'ai reçu les ...\n",
       "4  3   77  MM. Stéphane Demilly, Jacques Kossowski, Arnau..."
      ]
     },
     "execution_count": 30,
     "metadata": {},
     "output_type": "execute_result"
    }
   ],
   "source": [
    "import pandas \n",
    "import numpy as np\n",
    "\n",
    "# sauf qu'en fait dans cette partie il ne faut pas utiliser ce fichier mais l'autre avec les séances LOL \n",
    "# (bon normalement on a VRAIMENT fait le plus dur maintenant)\n",
    "# il faut prendre les bons indices\n",
    "\n",
    "#Attention à indiquer l'emplacement local du fichier words_mps.txt (accessible en local uniquement)\n",
    "\n",
    "df=pandas.read_csv('/Users/Gabriel/Desktop/words_meetings.txt', sep='\\t',header=None)\n",
    "#df = pandas.read_csv('/Users/Hugo/Documents/Cours/ENSAE/Python/python_deputes/words_mps.txt', sep='\\t',header=None,na_filter=False)\n",
    "\n",
    "df1 = df.values\n",
    "\n",
    "df.head()"
   ]
  },
  {
   "cell_type": "markdown",
   "metadata": {},
   "source": [
    "#### Régularisation du texte\n",
    "\n",
    "Avant d'appliquer l'algorithme, on retravaille le fichier de manière à n'en conserver que les mots clefs. Pour cela, on enlève les stop-words ainsi qu'un certain nombre d'expressions redondantes, la ponctuation et on homogénéise de sorte que tout soit saisi en minuscules."
   ]
  },
  {
   "cell_type": "code",
   "execution_count": 31,
   "metadata": {
    "collapsed": true
   },
   "outputs": [],
   "source": [
    "import pandas\n",
    "import numpy as np\n",
    "\n",
    "#homogénéisation: tout en minuscules, et enlever la ponctuation\n",
    "ponctuation=[\"l'\",\"j'\",\" mme \",\" m \",\" mm \",\" m'\",\" c'\",\" j'\",\" s'\",\" n'\",\" d'\",\" l'\",'!','\"','#','$','%','&','(',')','*','+',',','.','/',':',';','<','=','>','?','@','[',']','^','_' , '`' , '{' , '|' , '}','~' , '}','«','»',\"1er\"]\n",
    "\n",
    "chiffres=[]\n",
    "for i in range(9):\n",
    "    chiffres.append(str(i))\n",
    "\n",
    "for i in range(len(df1)):\n",
    "    ligne=df1[i,2]\n",
    "    ligne=ligne.lower()\n",
    "    for w in range(len(ponctuation)):\n",
    "        ligne=ligne.replace(ponctuation[w],\" \")\n",
    "    for x in range(len(chiffres)):\n",
    "        ligne=ligne.replace(chiffres[x],\"\")        \n",
    "    df1[i,2]=ligne  \n",
    "\n",
    "# on fait une deuxixème fois car la première ça ne semble ne pas marcher. Pourquoi ? \n",
    "\n",
    "for i in range(len(df1)):\n",
    "    ligne=df1[i,2]\n",
    "    ligne=ligne.lower()\n",
    "    for w in range(len(ponctuation)):\n",
    "        ligne=ligne.replace(ponctuation[w],\" \")\n",
    "    for x in range(len(chiffres)):\n",
    "        ligne=ligne.replace(chiffres[x],\"\")        \n",
    "    df1[i,2]=ligne      "
   ]
  },
  {
   "cell_type": "code",
   "execution_count": 35,
   "metadata": {},
   "outputs": [],
   "source": [
    "from nltk.corpus import stopwords \n",
    "from nltk.tokenize import word_tokenize \n",
    "from nltk.stem import SnowballStemmer\n",
    "\n",
    "\n",
    "#mots récurrents (corpus stop words: source: PHP de Regards Citoyens)\n",
    "stop_liste=[\"n°\",\"l'\",\"j'\",\"les\",\"ayant\",\"grand-chose\",\"après-midi\", \"au-delà\", \"devant\", \"octobre\", \"novembre\", \"action\", \"assemblée\", \"activité\", \"besoin\", \"définition\", \"adopté\", \"député\", \"spéciale\", \"spécial\", \"rappelle\", \"hong\", \"précédente\", \"information\", \"délai\", \"applicable\", \"expliqué\", \"propose\", \"relative\", \"indique\", \"vingt\", \"janvier\", \"puis\", \"jour\", \"lecture\", \"séance\", \"alinéa\", \"résolution\", \"adoption\", \"collègue\", \"cher\", \"collègues\", \"chers\",\"bis\", \"  er\", \"rectifié\", \"question\", \"rédactionnel\", \"scrutin\", \"exposer\", \"identiques\", \"identique\", \"commission\", \"adopte\", \"rejette\", \"additionnel\", \"tendant\", \"examiné\", \"examine\", \"rejeté\", \"avis\", \"suivant\", \"estimé\", \"déclaré\", \"parce\", \"beaucoup\", \"afin\", \"madame\", \"sous\", \"bonne\", \"monsieur\", \"quelle\", \"quinze\", \"lors\", \"là\", \"long\", \"messieurs\", \"ici\", \"trois\", \"êtes\", \"serait\", \"seront\", \"dix\", \"mot\", \"vin\", \"mon\", \"hier\", \"date\", \"cinq\", \"celui\", \"allez\", \"après\", \"bureau\", \"cause\", \"sous-amendement\", \"certaine\", \"chose\", \"code\", \"compris\", \"général\", \"pris\", \"demande\", \"jeudi\", \"jamais\", \"juillet\", \"mois\", \"plusieurs\", \"mardi\", \"mercredi\", \"lundi\", \"quatre\", \"semaine\", \"suppression\", \"semble\", \"souvent\", \"vers\", \"jamais\", \"comité\", \"discussion\", \"liens\", \"lieux\", \"membres\", \"vendredi\", \"dernière\", \"donner\", \"délégation\", \"défendu\", \"défavorable\", \"exemple\", \"favorable\", \"fonction\", \"grand\", \"habitant\", \"haut\", \"juridique\", \"mars\", \"membre\", \"mettre\", \"mise\", \"ministère\", \"mission\", \"niveau\", \"oui\", \"organique\", \"objet\", \"notion\", \"norme\", \"pense\", \"première\", \"prendre\", \"principe\", \"procédure\", \"puisque\", \"rien\", \"sceaux\", \"réponse\", \"spécial\", \"vise\", \"vos\",\"vote\", \"suppresion\", \"urgence\", \"rapporteur\", \"rapporteure\", \"décembre\", \"dans\", \"aujourd’hui\", \"j'ai\", \"l'on\", \"n'a\", \"qu'elle\", \"qu'il\", \"s'agit\",\"mr\", \"mme\",\"vice-président\",\"si\",\"mais\",\"où\",\"et\",\"or\",\"ni\",\"car\",\"que\",\"que\",\"quoi\",\"donc\",\"ou\",\"amendement\",\"l'amendement\",\"du\",\"cet\",\"ils\",\"elles\",\"cette\",\"cela\",\"ce\",\"cela\",\"celui\",\"sinon\",\"ça\",\"sa\",\"se\",\"ma\",\"mon\",\"mes\",\"ta\",\"ton\",\"tes\",'être',\"avoir\",\"faire\",\"ai\",\"es\",\"est\",\"êtes\",\"sommes\",\"sont\",\"as\",\"a\",\"avons\",\"avez\",\"ont\",\"fais\",\"fait\",\"faisons\",\"faisez\",\"faîtes\",\"avais\",\"avait\",\"avions\",\"aviez\",\"avaient\",\"étais\",\"était\",\"étions\",\"étiez\",\"étaient\",\"faisais\",\"faisait\",\"faisions\",\"faisiez\",\"faisaient\"]\n",
    "#stop_liste=[\"n°\",\"l'\",\"j'\",\"les\",\"ayant\",\"grand-chose\",\"après-midi\", \"au-delà\", \"devant\", \"octobre\", \"novembre\", \"action\", \"assemblée\", \"activité\", \"besoin\", \"définition\", \"adopté\", \"député\", \"spéciale\", \"spécial\", \"rappelle\", \"hong\", \"précédente\", \"information\", \"délai\", \"applicable\", \"expliqué\", \"propose\", \"relative\", \"indique\", \"vingt\", \"janvier\", \"puis\", \"jour\", \"lecture\", \"séance\", \"alinéa\", \"résolution\", \"adoption\", \"collègue\", \"cher\", \"collègues\", \"chers\",\"bis\", \"  er\", \"rectifié\", \"question\", \"rédactionnel\", \"scrutin\", \"exposer\", \"identiques\", \"identique\", \"commission\", \"adopte\", \"rejette\", \"additionnel\", \"tendant\", \"examiné\", \"examine\", \"rejeté\", \"avis\", \"suivant\", \"estimé\", \"déclaré\", \"parce\", \"beaucoup\", \"afin\", \"madame\", \"sous\", \"bonne\", \"monsieur\", \"quelle\", \"quinze\", \"lors\", \"là\", \"long\", \"messieurs\", \"ici\", \"trois\", \"êtes\", \"serait\", \"seront\", \"dix\", \"mot\", \"vin\", \"mon\", \"hier\", \"date\", \"cinq\", \"celui\", \"allez\", \"après\", \"bureau\", \"cause\", \"sous-amendement\", \"certaine\", \"chose\", \"code\", \"compris\", \"général\", \"pris\", \"demande\", \"jeudi\", \"jamais\", \"juillet\", \"mois\", \"plusieurs\", \"mardi\", \"mercredi\", \"lundi\", \"quatre\", \"semaine\", \"suppression\", \"semble\", \"souvent\", \"vers\", \"jamais\", \"comité\", \"discussion\", \"liens\", \"lieux\", \"membres\", \"vendredi\", \"dernière\", \"donner\", \"délégation\", \"défendu\", \"défavorable\", \"exemple\", \"favorable\", \"fonction\", \"grand\", \"habitant\", \"haut\", \"juridique\", \"mars\", \"membre\", \"mettre\", \"mise\", \"ministère\", \"mission\", \"niveau\", \"oui\", \"organique\", \"objet\", \"notion\", \"norme\", \"pense\", \"première\", \"prendre\", \"principe\", \"procédure\", \"puisque\", \"rien\", \"sceaux\", \"réponse\", \"spécial\", \"vise\", \"vos\",\"vote\", \"suppresion\", \"urgence\", \"rapporteur\", \"rapporteure\", \"décembre\", \"dans\", \"aujourd’hui\", \"j'ai\", \"l'on\", \"n'a\", \"qu'elle\", \"qu'il\", \"s'agit\",\"mr\", \"mme\",\"vice-président\",\"si\",\"mais\",\"où\",\"et\",\"or\",\"ni\",\"car\",\"que\",\"que\",\"quoi\",\"donc\",\"ou\",\"amendement\",\"l'amendement\",\"du\",\"cet\",\"ils\",\"elles\",\"cette\",\"cela\",\"ce\",\"cela\",\"celui\",\"sinon\",\"ça\",\"sa\",\"se\",\"ma\",\"mon\",\"mes\",\"ta\",\"ton\",\"tes\",'être',\"avoir\",\"faire\",\"ai\",\"es\",\"est\",\"êtes\",\"sommes\",\"sont\",\"as\",\"a\",\"avons\",\"avez\",\"ont\",\"fais\",\"fait\",\"faisons\",\"faisez\",\"faîtes\",\"avais\",\"avait\",\"avions\",\"aviez\",\"avaient\",\"étais\",\"était\",\"étions\",\"étiez\",\"étaient\",\"faisais\",\"faisait\",\"faisions\",\"faisiez\",\"faisaient\",\"qu\",\"visent\",\"il\",\"elle\",\"doit\",\"notamment\",\"dont\",\"nous\",\"vous\",\"je\",\"elle\",\"il\",\"ils\",\"elles\",\"tu\",\"non\",\"projet\",\"cl\",\"cf\",\"sans\",\"avec\",\"très\",\"proposition\",\"propositions\",\"tout\",\"tous\",\"ans\",\"autres\",\"autre\",\"agit\",]\n",
    "\n",
    "stop_w=stopwords.words('french')\n",
    "\n",
    "fr = SnowballStemmer('french')\n",
    "\n",
    "for i in range(len(stop_liste)):\n",
    "    stop_w.append(stop_liste[i])\n",
    "\n",
    "stop_words = set(stop_w)     \n",
    "#enlever les stop words dans chacune des interventions\n",
    "\n",
    "for i in range(len(df1)):\n",
    "    \n",
    "    tokens = word_tokenize(df1[i,2])\n",
    "    \n",
    "    filtered_sentence=[]\n",
    "    for w in tokens: \n",
    "        if w not in stop_words: \n",
    "            filtered_sentence.append(w)\n",
    "\n",
    "            \n",
    "# Stemmatisation --- a passer en commentaire si nécessaire\n",
    "#+ itérer sur filtered_sentence et pas mots_stem derrière\n",
    "\n",
    "    mots_stem=[]\n",
    "    for u in range(len(filtered_sentence)):\n",
    "        mots_stem.append(fr.stem(filtered_sentence[u]))\n",
    "        \n",
    "    string_propre=\"\"\n",
    "    for j in range(len(mots_stem)):\n",
    "        string_propre=string_propre+\" \"+mots_stem[j]\n",
    "        \n",
    "    df1[i,2]=string_propre"
   ]
  },
  {
   "cell_type": "code",
   "execution_count": 36,
   "metadata": {},
   "outputs": [
    {
     "name": "stdout",
     "output_type": "stream",
     "text": [
      " invit deux plus jeun commissair présent julien aubert guillaum larriv ven sieg rempl secrétair âge âge constitu ordre appel mainten nomin conform articl 9 regl comprend outr président secrétair term articl 9 regl compos chaqu efforc reproduir configur pol assur représent tout compos alin articl précisent comm élus secret catégor lorsqu chaqu catégor nombr candidat supérieur nombr sieg pourvoir proced major absolu acquis deux prem tour major suff troisiem tour cas égal suffrag plus âgé nomm exist aucun préséanc entre enfin articl ° instruct dispos déleg droit peuvent effet secret chaqu commissair voudront bien appel nom bulletin urne allon abord proced élect président invit ceux acte candidatur connaîtr\n",
      " constat qu'un seul candidat lieu proced conséquent jean-paul chanteguet élu président invit plac fauteuil présidentiel applaud\n",
      " venon élect vice-président candidat connaîtr françois-michel lambert group écolog christoph bouillon group social républicain citoyen src alain gest group union mouv populair ump catherin quer group src constat autr candidat nombr candidat égal sieg pourvoir déclar élus christoph bouillon alain gest françois-michel lambert catherin quer\n"
     ]
    }
   ],
   "source": [
    "for i in range(3):\n",
    "    print(df1[i,2])"
   ]
  },
  {
   "cell_type": "code",
   "execution_count": 37,
   "metadata": {
    "collapsed": true
   },
   "outputs": [],
   "source": [
    "#suite ici \n",
    "#on pourrait essayer de lemmatiser si le temps et les moyens le permettent. \n",
    "#demander à Dupré comment on lemmatise en français "
   ]
  },
  {
   "cell_type": "markdown",
   "metadata": {},
   "source": [
    "On génère la donnée d'entrée de l'algorithme : "
   ]
  },
  {
   "cell_type": "code",
   "execution_count": 38,
   "metadata": {
    "collapsed": true
   },
   "outputs": [],
   "source": [
    "#on crée la liste de propositions à classifier\n",
    "\n",
    "#liste complète (assez longue à faire)\n",
    "documents=[]\n",
    "for z in range(len(df1)):\n",
    "    documents.append(df1[z,2])\n",
    "    "
   ]
  },
  {
   "cell_type": "markdown",
   "metadata": {},
   "source": [
    "Récupérer les stop words ihérents au document à partir du count vectorizer"
   ]
  },
  {
   "cell_type": "code",
   "execution_count": null,
   "metadata": {
    "collapsed": true
   },
   "outputs": [],
   "source": []
  },
  {
   "cell_type": "markdown",
   "metadata": {},
   "source": [
    "Modifier la base de données de base à partir des mots récurrents identifiés"
   ]
  },
  {
   "cell_type": "code",
   "execution_count": null,
   "metadata": {
    "collapsed": true
   },
   "outputs": [],
   "source": []
  },
  {
   "cell_type": "markdown",
   "metadata": {},
   "source": [
    "On passe à l'algorithme à proprement parler : "
   ]
  },
  {
   "cell_type": "code",
   "execution_count": 43,
   "metadata": {
    "collapsed": true
   },
   "outputs": [],
   "source": [
    "import time\n",
    "from sklearn.feature_extraction.text import TfidfVectorizer\n",
    "from sklearn.cluster import KMeans\n",
    "from sklearn.metrics import adjusted_rand_score\n",
    "\n",
    "#Première initialisation du nombre de clusters: le nombre de commissions\n",
    "\n",
    "start_time = time.time()\n",
    "true_k = 10\n",
    "\n",
    "vectorizer = TfidfVectorizer()\n",
    "X = vectorizer.fit_transform(documents)\n",
    "\n",
    "model = KMeans(n_clusters=true_k, init='k-means++', max_iter=100, n_init=1)\n",
    "out=model.fit(X)\n",
    "\n",
    "elapsed_time = time.time() - start_time"
   ]
  },
  {
   "cell_type": "code",
   "execution_count": 44,
   "metadata": {},
   "outputs": [
    {
     "data": {
      "text/plain": [
       "257.89621686935425"
      ]
     },
     "execution_count": 44,
     "metadata": {},
     "output_type": "execute_result"
    }
   ],
   "source": [
    "elapsed_time"
   ]
  },
  {
   "cell_type": "markdown",
   "metadata": {},
   "source": [
    "Des résultats préliminaires :"
   ]
  },
  {
   "cell_type": "code",
   "execution_count": 45,
   "metadata": {},
   "outputs": [
    {
     "name": "stdout",
     "output_type": "stream",
     "text": [
      "Top terms per cluster:\n",
      "Cluster 0:\n",
      " vous\n",
      " franc\n",
      " il\n",
      " plus\n",
      " quel\n",
      " qu\n",
      " pay\n",
      " comment\n",
      " el\n",
      " est\n",
      " autr\n",
      " tout\n",
      " économ\n",
      " comm\n",
      " part\n",
      " peut\n",
      " développ\n",
      " tres\n",
      " entre\n",
      " polit\n",
      " certain\n",
      " état\n",
      " not\n",
      " auss\n",
      " rapport\n",
      " bien\n",
      " énerg\n",
      " avez\n",
      " mati\n",
      " import\n",
      "\n",
      "Cluster 1:\n",
      " loi\n",
      " projet\n",
      " text\n",
      " proposit\n",
      " disposit\n",
      " financ\n",
      " plus\n",
      " tout\n",
      " gouvern\n",
      " qu\n",
      " publiqu\n",
      " rapport\n",
      " droit\n",
      " comm\n",
      " group\n",
      " présent\n",
      " examen\n",
      " président\n",
      " ministr\n",
      " conseil\n",
      " débat\n",
      " social\n",
      " articl\n",
      " appliqu\n",
      " travail\n",
      " part\n",
      " état\n",
      " sujet\n",
      " national\n",
      " autr\n",
      "\n",
      "Cluster 2:\n",
      " euros\n",
      " million\n",
      " milliard\n",
      " financ\n",
      " crédit\n",
      " dépens\n",
      " plus\n",
      " budget\n",
      " anné\n",
      " état\n",
      " mont\n",
      " impôt\n",
      " augment\n",
      " coût\n",
      " baiss\n",
      " programm\n",
      " fiscal\n",
      " recet\n",
      " an\n",
      " mesur\n",
      " social\n",
      " gouvern\n",
      " économ\n",
      " rapport\n",
      " compt\n",
      " part\n",
      " projet\n",
      " invest\n",
      " budgétair\n",
      " qu\n",
      "\n",
      "Cluster 3:\n",
      " entrepris\n",
      " salari\n",
      " travail\n",
      " accord\n",
      " social\n",
      " emploi\n",
      " plus\n",
      " employeur\n",
      " qu\n",
      " disposit\n",
      " économ\n",
      " tout\n",
      " heur\n",
      " il\n",
      " temp\n",
      " loi\n",
      " peut\n",
      " négoci\n",
      " format\n",
      " compt\n",
      " entre\n",
      " droit\n",
      " autr\n",
      " part\n",
      " branch\n",
      " tres\n",
      " certain\n",
      " comm\n",
      " impôt\n",
      " mesur\n",
      "\n",
      "Cluster 4:\n",
      " européen\n",
      " union\n",
      " europ\n",
      " pay\n",
      " franc\n",
      " plus\n",
      " polit\n",
      " état\n",
      " parl\n",
      " accord\n",
      " proposit\n",
      " qu\n",
      " national\n",
      " économ\n",
      " comm\n",
      " il\n",
      " un\n",
      " tout\n",
      " tres\n",
      " négoci\n",
      " affair\n",
      " autr\n",
      " conseil\n",
      " droit\n",
      " auss\n",
      " faut\n",
      " entre\n",
      " sujet\n",
      " part\n",
      " peut\n",
      "\n",
      "Cluster 5:\n",
      " femm\n",
      " enseign\n",
      " enfant\n",
      " écol\n",
      " éduc\n",
      " format\n",
      " scolair\n",
      " homm\n",
      " plus\n",
      " parent\n",
      " égal\n",
      " élev\n",
      " supérieur\n",
      " entre\n",
      " famill\n",
      " loi\n",
      " jeun\n",
      " professionnel\n",
      " droit\n",
      " tout\n",
      " qu\n",
      " établ\n",
      " national\n",
      " comm\n",
      " plac\n",
      " social\n",
      " travail\n",
      " il\n",
      " rapport\n",
      " violenc\n",
      "\n",
      "Cluster 6:\n",
      " amend\n",
      " retir\n",
      " cl\n",
      " dépos\n",
      " publiqu\n",
      " articl\n",
      " text\n",
      " cf\n",
      " gouvern\n",
      " rédact\n",
      " plus\n",
      " sugger\n",
      " disposit\n",
      " tout\n",
      " loi\n",
      " propos\n",
      " examen\n",
      " deux\n",
      " présent\n",
      " ministr\n",
      " bien\n",
      " adopt\n",
      " redépos\n",
      " précis\n",
      " autr\n",
      " débat\n",
      " invit\n",
      " qu\n",
      " examin\n",
      " proposit\n",
      "\n",
      "Cluster 7:\n",
      " log\n",
      " commun\n",
      " collect\n",
      " territoir\n",
      " local\n",
      " région\n",
      " territorial\n",
      " plus\n",
      " intercommunal\n",
      " social\n",
      " départ\n",
      " compétent\n",
      " rural\n",
      " état\n",
      " métropol\n",
      " qu\n",
      " mair\n",
      " vill\n",
      " habit\n",
      " tout\n",
      " loi\n",
      " polit\n",
      " élus\n",
      " zon\n",
      " certain\n",
      " régional\n",
      " epci\n",
      " disposit\n",
      " entre\n",
      " public\n",
      "\n",
      "Cluster 8:\n",
      " articl\n",
      " disposit\n",
      " supprim\n",
      " loi\n",
      " sénat\n",
      " rédact\n",
      " précis\n",
      " text\n",
      " droit\n",
      " tout\n",
      " prévu\n",
      " appliqu\n",
      " prévoit\n",
      " plus\n",
      " publiqu\n",
      " projet\n",
      " national\n",
      " gouvern\n",
      " social\n",
      " rétabl\n",
      " état\n",
      " présent\n",
      " déjà\n",
      " qu\n",
      " person\n",
      " propos\n",
      " amend\n",
      " mesur\n",
      " part\n",
      " constitu\n",
      "\n",
      "Cluster 9:\n",
      " plus\n",
      " tout\n",
      " qu\n",
      " peut\n",
      " il\n",
      " bien\n",
      " disposit\n",
      " comm\n",
      " autr\n",
      " part\n",
      " précis\n",
      " person\n",
      " tres\n",
      " compt\n",
      " rapport\n",
      " cas\n",
      " droit\n",
      " certain\n",
      " agit\n",
      " état\n",
      " non\n",
      " propos\n",
      " ministr\n",
      " faut\n",
      " entre\n",
      " président\n",
      " effet\n",
      " mesur\n",
      " san\n",
      " publiqu\n",
      "\n"
     ]
    }
   ],
   "source": [
    "from sklearn.feature_extraction.text import TfidfVectorizer\n",
    "from sklearn.cluster import KMeans\n",
    "from sklearn.metrics import adjusted_rand_score\n",
    "\n",
    "print(\"Top terms per cluster:\")\n",
    "order_centroids = model.cluster_centers_.argsort()[:, ::-1]\n",
    "terms = vectorizer.get_feature_names()\n",
    "for i in range(true_k):\n",
    "    print(\"Cluster %d:\" % i,)\n",
    "    for ind in order_centroids[i, :30]:\n",
    "        print (' %s' % terms[ind],)\n",
    "    print()"
   ]
  },
  {
   "cell_type": "markdown",
   "metadata": {},
   "source": [
    "## Évaluation du modèle"
   ]
  },
  {
   "cell_type": "markdown",
   "metadata": {},
   "source": [
    "### Visualisation des clusters, évaluation de la performance du modèle"
   ]
  },
  {
   "cell_type": "code",
   "execution_count": 11,
   "metadata": {},
   "outputs": [
    {
     "name": "stdout",
     "output_type": "stream",
     "text": [
      "[[-196.94327  -555.6186  ]\n",
      " [-600.2177   -318.12772 ]\n",
      " [-344.4969    485.51834 ]\n",
      " [-665.83685   145.26518 ]\n",
      " [ 121.89041   446.4922  ]\n",
      " [ 240.24988  -388.59424 ]\n",
      " [-151.9057    -18.232292]\n",
      " [ 382.01422    57.430416]]\n"
     ]
    },
    {
     "data": {
      "image/png": "[encoded data removed]",
      "text/plain": [
       "<matplotlib.figure.Figure at 0x1a1b801cc0>"
      ]
     },
     "metadata": {},
     "output_type": "display_data"
    }
   ],
   "source": [
    "#visualiser les trucs\n",
    "\n",
    "import matplotlib.pyplot as plt\n",
    "from sklearn.cluster import KMeans\n",
    "from sklearn.feature_extraction.text import TfidfVectorizer\n",
    "from sklearn.manifold import TSNE\n",
    "\n",
    "centroids = out.cluster_centers_\n",
    "\n",
    "tsne_init = 'pca'  # could also be 'random'\n",
    "tsne_perplexity = 20.0\n",
    "tsne_early_exaggeration = 4.0\n",
    "tsne_learning_rate = 1000\n",
    "random_state = 1\n",
    "model = TSNE(n_components=2, random_state=random_state, init=tsne_init, perplexity=tsne_perplexity,\n",
    "         early_exaggeration=tsne_early_exaggeration, learning_rate=tsne_learning_rate)\n",
    "\n",
    "transformed_centroids = model.fit_transform(centroids)\n",
    "print(transformed_centroids)\n",
    "plt.scatter(transformed_centroids[:, 0], transformed_centroids[:, 1], marker='x')\n",
    "plt.show()"
   ]
  },
  {
   "cell_type": "code",
   "execution_count": null,
   "metadata": {
    "collapsed": true
   },
   "outputs": [],
   "source": [
    "#ici mettre les indices (Davies Boulin et compagnie par exemple)"
   ]
  },
  {
   "cell_type": "markdown",
   "metadata": {},
   "source": [
    "### Ajuster le nombre de clusters"
   ]
  },
  {
   "cell_type": "code",
   "execution_count": null,
   "metadata": {
    "collapsed": true
   },
   "outputs": [],
   "source": [
    "# Tester la sélection de clusters et voir comment évoluent les performances du modèle"
   ]
  },
  {
   "cell_type": "markdown",
   "metadata": {},
   "source": [
    "### Sélection du modèle final"
   ]
  },
  {
   "cell_type": "markdown",
   "metadata": {},
   "source": [
    "## Déduire les préferences des députés"
   ]
  },
  {
   "cell_type": "markdown",
   "metadata": {},
   "source": [
    "On utilise le modèle que l'on a entrainé sur les interventions en commission pour attribuer à chaque député un profil de préférence en se fondant sur ses interventions en hémicycle."
   ]
  },
  {
   "cell_type": "code",
   "execution_count": 30,
   "metadata": {},
   "outputs": [
    {
     "data": {
      "text/html": [
       "<div>\n",
       "<style scoped>\n",
       "    .dataframe tbody tr th:only-of-type {\n",
       "        vertical-align: middle;\n",
       "    }\n",
       "\n",
       "    .dataframe tbody tr th {\n",
       "        vertical-align: top;\n",
       "    }\n",
       "\n",
       "    .dataframe thead th {\n",
       "        text-align: right;\n",
       "    }\n",
       "</style>\n",
       "<table border=\"1\" class=\"dataframe\">\n",
       "  <thead>\n",
       "    <tr style=\"text-align: right;\">\n",
       "      <th></th>\n",
       "      <th>0</th>\n",
       "      <th>1</th>\n",
       "      <th>2</th>\n",
       "    </tr>\n",
       "  </thead>\n",
       "  <tbody>\n",
       "    <tr>\n",
       "      <th>0</th>\n",
       "      <td>3</td>\n",
       "      <td>145</td>\n",
       "      <td>J'invite les deux plus jeunes commissaires pré...</td>\n",
       "    </tr>\n",
       "    <tr>\n",
       "      <th>1</th>\n",
       "      <td>3</td>\n",
       "      <td>83</td>\n",
       "      <td>Au nom du groupe socialiste, républicain et ci...</td>\n",
       "    </tr>\n",
       "    <tr>\n",
       "      <th>2</th>\n",
       "      <td>3</td>\n",
       "      <td>145</td>\n",
       "      <td>Je constate qu'il n'y a qu'un seul candidat. I...</td>\n",
       "    </tr>\n",
       "    <tr>\n",
       "      <th>3</th>\n",
       "      <td>3</td>\n",
       "      <td>77</td>\n",
       "      <td>Nous en venons à l'élection des quatre vice-pr...</td>\n",
       "    </tr>\n",
       "    <tr>\n",
       "      <th>4</th>\n",
       "      <td>3</td>\n",
       "      <td>77</td>\n",
       "      <td>Pour les postes de secrétaires, j'ai reçu les ...</td>\n",
       "    </tr>\n",
       "  </tbody>\n",
       "</table>\n",
       "</div>"
      ],
      "text/plain": [
       "   0    1                                                  2\n",
       "0  3  145  J'invite les deux plus jeunes commissaires pré...\n",
       "1  3   83  Au nom du groupe socialiste, républicain et ci...\n",
       "2  3  145  Je constate qu'il n'y a qu'un seul candidat. I...\n",
       "3  3   77  Nous en venons à l'élection des quatre vice-pr...\n",
       "4  3   77  Pour les postes de secrétaires, j'ai reçu les ..."
      ]
     },
     "execution_count": 30,
     "metadata": {},
     "output_type": "execute_result"
    }
   ],
   "source": [
    "import pandas \n",
    "import numpy as np\n",
    "\n",
    "#ce coup-ci c'est le bon emplacement \n",
    "\n",
    "#Attention à indiquer l'emplacement local du fichier words_mps.txt (accessible en local uniquement)\n",
    "\n",
    "df=pandas.read_csv('/Users/Gabriel/Desktop/words_mps.txt', sep='\\t',header=None)\n",
    "#df = pandas.read_csv('/Users/Hugo/Documents/Cours/ENSAE/Python/python_deputes/words_mps.txt', sep='\\t',header=None,na_filter=False)\n",
    "\n",
    "df1 = df.values\n",
    "\n",
    "df.head()"
   ]
  },
  {
   "cell_type": "code",
   "execution_count": null,
   "metadata": {
    "collapsed": true
   },
   "outputs": [],
   "source": [
    "#prochaines étapes: pour chaque député dire à quelle catégorie correspondait l'intervention\n",
    "#puis calculer les fréquences\n",
    "#aller ensuite chercher en vitesse le tableau des noms et coller les noms avec les ids"
   ]
  },
  {
   "cell_type": "code",
   "execution_count": null,
   "metadata": {
    "collapsed": true
   },
   "outputs": [],
   "source": [
    "## s'inspirer de cette partie pour prédire les préférences: \n",
    "\n",
    "#faire un matrice avec une colonne n° du député, une autre n° du cluster\n",
    "\n",
    "Y = vectorizer.transform([\"chrome browser to open.\"])\n",
    "prediction = model.predict(Y)\n",
    "print(prediction)\n",
    "\n",
    "Y = vectorizer.transform([\"My cat is hungry.\"])\n",
    "prediction = model.predict(Y)\n",
    "print(prediction)"
   ]
  },
  {
   "cell_type": "code",
   "execution_count": null,
   "metadata": {
    "collapsed": true
   },
   "outputs": [],
   "source": [
    "#trouver une pondération pour inférer les préfences du député"
   ]
  },
  {
   "cell_type": "markdown",
   "metadata": {},
   "source": [
    "### Quelques statistiques sur les préférences des députés"
   ]
  },
  {
   "cell_type": "code",
   "execution_count": null,
   "metadata": {
    "collapsed": true
   },
   "outputs": [],
   "source": [
    "#normalement là tout est bon, on peut utiliser le modèle"
   ]
  },
  {
   "cell_type": "markdown",
   "metadata": {},
   "source": [
    "## Applications"
   ]
  },
  {
   "cell_type": "markdown",
   "metadata": {},
   "source": [
    "### Quels sont les centres d'intérêts des députés ?"
   ]
  },
  {
   "cell_type": "markdown",
   "metadata": {},
   "source": [
    "En entrée: on donne un député\n",
    "par exemple, l'utilisateur renseigne son adresse, on en déduit le député du cru et les questions qu'il aime traiter\n",
    "Par exemple, à partir d'informations personnelles, on renseigne par exemple sa commune ou son département, on nous dit quels sont les centres d'intérêt du député du cru"
   ]
  },
  {
   "cell_type": "markdown",
   "metadata": {},
   "source": [
    "### Quel député pour quelle thématique ? "
   ]
  },
  {
   "cell_type": "markdown",
   "metadata": {},
   "source": [
    "En entrée: on donne une thématique, l'algo nous dit vers qui se tourner (par exemple envoyer une adresse mail) \n",
    "Par exemple si on veut savoir à quel député s'adresser pour en savoir plus sur une thématique précise \n",
    "\n",
    "bon après on peut aussi imaginer un truc de l'espace où à partir des cookies du mec on lui recommande des députés à qui il faut qu'il s'adresse s'il veut en savoir plus sur un sujet donné, en utilisant notamment toute l'information (et pas juste les préférences sur le député, comme par exemple les rapports qu'il a produit et compagnie) "
   ]
  },
  {
   "cell_type": "markdown",
   "metadata": {},
   "source": [
    "## Extensions "
   ]
  },
  {
   "cell_type": "markdown",
   "metadata": {},
   "source": [
    "Une autre extension du modèle peut être d'utiliser le profil de préférences généré pour voir s'il permet de prédire voire s'il cause la présence en commission. "
   ]
  },
  {
   "cell_type": "code",
   "execution_count": 31,
   "metadata": {},
   "outputs": [
    {
     "data": {
      "text/plain": [
       "(\"J'invite les deux plus jeunes commissaires\", 'np')"
      ]
     },
     "execution_count": 31,
     "metadata": {},
     "output_type": "execute_result"
    }
   ],
   "source": [
    "from french_lefff_lemmatizer.french_lefff_lemmatizer import FrenchLefffLemmatizer\n",
    "lemmatizer = FrenchLefffLemmatizer()\n",
    "lemmatizer.lemmatize(\"J'invite les deux plus jeunes commissaires\",all)"
   ]
  },
  {
   "cell_type": "code",
   "execution_count": 25,
   "metadata": {
    "collapsed": true
   },
   "outputs": [
    {
     "name": "stdout",
     "output_type": "stream",
     "text": [
      "<class 'pandas.core.frame.DataFrame'>\n",
      "<class 'numpy.ndarray'>\n",
      "<class 'numpy.ndarray'>\n",
      "(5839, 2)\n",
      "[[3\n",
      "  ' (Commission du développement durable et de l aménagement du territoirePrésidence de M  Jacques Kossowski, président d âgeJ invite les deux plus jeunes commissaires présents, MM  Julien Aubert et Guillaume Larrivé, à venir siéger au bureau pour y remplir les fonctions de secrétaires d âge Le bureau d âge est constitué L ordre du jour appelle maintenant la nomination du bureau de la Commission, conformément à l article 39 du Règlement  Ce bureau comprend, outre le président, quatre vice-présidents et quatre secrétaires  Aux termes de l article 39 du Règlement, « la composition du bureau de chaque commission s efforce de reproduire la configuration politique de l Assemblée et d assurer la représentation de toutes ses composantes »  Les alinéas 4 à 6 du même article précisent que « les bureaux des Commissions sont élus au scrutin secret par catégorie de fonction  Lorsque, pour chaque catégorie de fonction, le nombre des candidats n est pas supérieur au nombre de sièges à pourvoir, il n est pas procédé au scrutin  Si la majorité absolue n a pas été acquise aux deux premiers tours de scrutin, la majorité relative suffit au troisième tour et, en cas d égalité de suffrages, le plus âgé est nommé  Il n existe aucune préséance entre les vice-présidents  » Enfin, l article 13, 1°, alinéa 4, de l Instruction générale du Bureau dispose que « les délégations du droit de vote ne peuvent avoir effet pour un scrutin secret »  Lors de chaque scrutin, Mmes et MM  les commissaires voudront bien, à l appel de leur nom, mettre leur bulletin dans l urne Nous allons d abord procéder à l élection du président  J invite ceux de nos collègues qui désirent faire acte de candidature à se faire connaître  Au nom du groupe socialiste, républicain et citoyen, je propose la candidature de M  Jean-Paul Chanteguet Je constate qu il n y a qu un seul candidat  Il n y a donc pas lieu de procéder à un scrutin En conséquence, M  Jean-Paul Chanteguet est élu président de la Commission et je l invite à prendre place au fauteuil présidentiel (applaudissements)  Présidence de M  Jean-Paul ChanteguetNous en venons à l élection des quatre vice-présidents de la Commission Quatre candidats se sont fait connaître : M  François-Michel Lambert, pour le groupe écologiste ; M  Christophe Bouillon, pour le groupe socialiste, républicain et citoyen (SRC) ; M  Alain Gest, pour le groupe Union pour un mouvement populaire (UMP) ; Mme Catherine Quéré, pour le groupe SRC Je constate qu il n y a pas d autres candidats  Le nombre de candidats étant égal à celui des sièges à pourvoir, je déclare élus M  Christophe Bouillon, M  Alain Gest, M  François-Michel Lambert et Mme Catherine Quéré Pour les postes de secrétaires, j ai reçu les candidatures de MM  Jacques Kossowski pour le groupe UMP, Stéphane Demilly pour le groupe Union des démocrates et indépendants (UDI) et Arnaud Leroy pour le groupe SRC  Y a-t-il d autres candidats ? M  Patrice Carvalho, pour le groupe Gauche démocrate et républicaine (GDR), et M  Jacques Krabal, pour le groupe radical, républicain, démocrate et progressiste (RRDP), se portent candidats  Le nombre des candidats étant supérieur à celui des postes à pourvoir, nous allons procéder au vote  Nombre de votants : 55Bulletins blancs ou nuls : 0Nombre de suffrages exprimés : 55Majorité absolue : 28Ont obtenu :M  Stéphane Demilly : 36M  Jacques Kossowski : 35M  Arnaud Leroy : 35M  Patrice Carvalho : 33M  Jacques Krabal : 25MM  Stéphane Demilly, Jacques Kossowski, Arnaud Leroy et Patrice Carvalho sont élus secrétaires de la Commission  En conséquence, le bureau de la Commission est ainsi constitué :Président : M  Jean-Paul ChanteguetVice-Présidents :M  Christophe BouillonM  Alain GestM  François-Michel LambertMme Catherine QuéréSecrétaires :M  Patrice CarvalhoM  Stéphane DemillyM  Jacques KossowskiM  Arnaud LeroyMes chers collègues, c est un grand honneur pour moi de présider la Commission du développement durable et de l aménagement du territoire  Je vous adresse mes remerciements les plus sincères et les plus chaleureux  Je ferai tout pour être digne de la confiance que vous m avez accordée Je tiens à rendre hommage à Christian Jacob et à Serge Grouard, mes deux prédécesseurs à la présidence de notre Commission qui, je le rappelle, est née de la scission de la commission des affaires économiques à la suite de la réforme constitutionnelle de 2008  Le premier président fut Christian Jacob, actuel président du groupe UMP  Serge Grouard lui a succédé  Le climat empreint de cordialité, de sérieux et de respect mutuel qu ils ont su établir a permis aux commissaires d accomplir un excellent travail Notre Commission est de création récente mais ses compétences sont importantes  Pour vous aider dans votre mission, vous disposerez d une équipe d administrateurs très qualifiés Je souhaite que chacun d entre vous trouve sa place au sein de cette Commission  Selon moi, les deux maîtres mots sont présence et constance  Présence, parce que c est là un élément déterminant de l action que vous conduirez  Constance, parce qu il faut être déterminé &#8211; vous le savez tous : être élu est souvent le terme d un long chemin et d un long combat  Je vous adresse donc tous mes voeux de pleine réussite dans notre Commission  Si vous êtes présents, vous pourrez exercer des responsabilités et contribuer à la défense de l intérêt général et au bien commun Les dossiers dont nous aurons à connaître sont nombreux  Une conférence environnementale est prévue prochainement  Nous continuerons à assurer le suivi de la mise en oeuvre des lois Grenelle, notamment le Grenelle 2, dont deux membres importants de cette Commission, Serge Grouard et Bertrand Pancher, ont été les co-rapporteurs  Même si le domaine de l énergie relève de la compétence de la Commission des affaires économiques, nous participerons au débat sur la transition énergétique  Nous examinerons la réforme du code minier  Le projet de schéma national d infrastructures de transports (SNIT) est depuis longtemps en discussion mais il n a pas été adopté : je plaiderai auprès du Gouvernement pour qu un débat soit organisé dans l hémicycle le plus rapidement possible  Enfin, nous serons saisis de l acte III de la décentralisation, soit à la fin de l année, soit au début de l année prochaine Par ailleurs, la discussion du projet de loi de finances pour 2013 commencera en octobre, si bien que nous devrons très prochainement procéder à la répartition des rapports budgétaires  Je souhaiterais, si vous en êtes d accord, que le nombre de ces rapports passe de sept à neuf pour ce qui concerne notre Commission  Cela permettra à davantage de commissaires de se consacrer aux sujets inclus dans notre périmètre Nous procéderons également, dans des délais assez brefs, aux auditions de Mme Delphine Batho, ministre de l écologie, du développement durable et de l énergie, de M  Frédéric Cuvillier, ministre délégué chargé des transports, de la mer et de la pêche, de Mme Cécile Duflot, ministre de l égalité des territoires et du logement, et de M  François Lamy, ministre délégué chargé de la ville La première réunion du bureau de la Commission du développement durable et de l aménagement du territoire aura lieu le mercredi 4 juillet à 9 heures 30  J invite chacun des groupes politiques qui ne l aurait pas encore fait à nommer son coordinateur au sein de la Commission car les coordinateurs participent aux réunions du bureau Notre Commission se réunira ensuite, en séance plénière, les mardi 10 et mercredi 11 juillet, avec l ordre du jour suivant : organisation des travaux de la Commission ; nomination des rapporteurs pour avis sur le projet de loi de finances pour 2013 ; éventuellement, audition de Mme Delphine Batho, ministre de l écologie, du développement durable et de l énergie, et de M  Frédéric Cuvillier, ministre délégué chargé des transports, de la mer et de la pêche Je souhaite que la cordialité et le respect qui ont marqué cette première réunion prévalent tout au long de nos travaux  Merci Membres présents ou excusésCommission du développement durable et de l aménagement du territoireRéunion du jeudi 28 juin 2012 à 10 heuresPrésents  - Mme Laurence Abeille, Mme Sylviane Alaux, M  Yves Albarello, M  Christian Assaf, M  Julien Aubert, M  Alexis Bachelay, M  Serge Bardy, M  Denis Baupin, M  Jacques Alain Bénisti, M  Philippe Bies, M  Christophe Bouillon, M  Jean-Louis Bricout, Mme Sabine Buis, M  Vincent Burroni, M  Alain Calmette, M  Yann Capet, M  Patrice Carvalho, M  Christophe Castaner, M  Jean-Yves Caullet, M  Jean-Paul Chanteguet, M  Guillaume Chevrollier, M  Jean-Jacques Cottel, M  Stéphane Demilly, M  David Douillet, M  Philippe Duron, Mme Sophie Errante, M  Olivier Falorni, M  Jean-Christophe Fromantin, M  Laurent Furst, M  Claude de Ganay, M  Alain Gest, M  Jacques Kossowski, M  Jacques Krabal, Mme Valérie Lacroute, M  François-Michel Lambert, M  Guillaume Larrivé, Mme Viviane Le Dissez, M  Arnaud Leroy, M  Michel Lesage, M  Olivier Marleix, M  Franck Marlin, M  Philippe Martin, M  Philippe Noguès, M  Rémi Pauvros, M  Edouard Philippe, M  Philippe Plisson, Mme Catherine Quéré, Mme Marie-Line Reynaud, Mme Sophie Rohfritsch, M  Martial Saddier, M  Gilbert Sauvan, M  Gilles Savary, M  Jean-Marie Sermier, M  Gabriel Serville, M  Thierry Solère, M  Jean-Pierre VigierExcusés  &#8211; M  Christian Jacob, M  David Vergé  ']\n",
      " [4\n",
      "  ' (COMMISSION DES AFFAIRES CULTURELLES ET DE L ÉDUCATIONJeudi 28 juin 2012La séance est ouverte à dix heures (Présidence de M  Michel Françaix, président d âge,  puis de M  Patrick Bloche, président de la Commission)La Commission des affaires culturelles et de l éducation est réunie pour procéder à la nomination de son bureau (Présidence de M  Michel Françaix, président d âge)Élection du PrésidentLa Commission est saisie de la candidature de M  Patrick Bloche Le nombre de candidats n étant pas supérieur au nombre de sièges à pourvoir, M  Patrick Bloche est proclamé Président de la Commission, conformément à l article 39, alinéa 4, du Règlement (Présidence de M  Patrick Bloche, président)Je remercie mes collègues pour la confiance qu ils me témoignent  Vous pouvez imaginer l émotion qui est la mienne en prenant la présidence de la Commission des affaires culturelles et de l éducation  Je suis amené à succéder à Michèle Tabarot qui en était la présidente depuis 2009 et je tiens à lui rendre hommage  Je salue celles et ceux qui pendant la précédente législature ont permis à cette Commission d avoir cet aspect vivant qui la caractérise et qui ne peut que perdurer ; et je souhaite la bienvenue à tous nos collègues qui nous rejoignent  Nous contribuerons tous ensemble à faire vivre cette Commission de la manière la plus efficace qui soit Comme un certain nombre d entre vous, je me suis particulièrement investi dans les travaux de notre Commission  Je rappelle &#8211; et j indique à nos nouveaux collègues &#8211; qu il s agit d une jeune Commission dont la création a été permise par la révision constitutionnelle de 2008  Pour tous ceux qui se passionnent pour la culture, l éducation, les médias, la recherche, l enseignement supérieur, le sport, la jeunesse, cela a été une grande avancée  Cette Commission a déjà trouvé ses marques et j aurai le souci, comme président, qu elle soit particulièrement présente dans les débats de l Assemblée  À nos collègues de l opposition, je confirme que je ferai respecter leurs droits et qu ils seront partie prenante des travaux de notre Commission Élection des vice-présidentsLa Commission est saisie des candidatures de Mmes Marie-Odile Bouillé, Marie-George Buffet, M  Michel Ménard et Mme Michèle Tabarot Le nombre de candidats n étant pas supérieur au nombre de sièges à pourvoir, Mmes Marie-Odile Bouillé, Marie-George Buffet, M  Michel Ménard et Mme Michèle Tabarot sont proclamés vice-présidents de la commission, conformément à l article 39, alinéa 4, du Règlement Élection des secrétairesLa Commission est saisie des candidatures de Mme Isabelle Attard, M  Michel Herbillon, Mmes Sonia Lagarde et Maud Olivier Le nombre de candidats n étant pas supérieur au nombre de sièges à pourvoir, Mme Isabelle Attard, M  Michel Herbillon, Mmes Sonia Lagarde et Maud Olivier sont proclamés secrétaires de la Commission, conformément à l article 39, alinéa 4, du Règlement En conséquence, le bureau de la Commission est ainsi constitué : M  Patrick BlocheVice-présidents : Mme Marie-Odile BouilléMme Marie-George BuffetM  Michel MénardMme Michèle TabarotSecrétaires : Mme Isabelle AttardM  Michel HerbillonMme Maud OlivierMme Sonia LagardeJe réunirai le bureau mercredi prochain 4 juillet à 10 heures et j inviterai les représentants des groupes à se joindre aux travaux du bureau  La séance est levée à dix heures quinze  ']\n",
      " [5\n",
      "  ' (La Commission des affaires économiques s est réunie, sous la présidence de son doyen, M  Jean-Michel Couve, afin de procéder à l élection de son bureau Ayant le bref privilège de présider cette séance, conformément à l usage, j invite les deux plus jeunes commissaires présents, M  Damien Abad et Mme Audrey Linkenheld, à venir siéger au bureau pour y remplir les fonctions de secrétaires  Le bureau d âge étant ainsi constitué, l ordre du jour appelle la nomination du bureau de notre commission  Je rappelle que celui-ci est composé du président, de quatre vice-présidents et de quatre secrétaires  La composition du bureau de chaque commission s efforce de reproduire la configuration politique de l assemblée et d assurer la représentation de toutes ses composantes  Les alinéas 4 à 6 de l article 39 du Règlement précisent également que « les bureaux des Commissions sont élus au scrutin secret par catégorie de fonction  Lorsque, pour chaque catégorie de fonction, le nombre des candidats n est pas supérieur au nombre de sièges à pourvoir, il n est pas procédé au scrutin  Lorsque la majorité absolue n a pas été acquise aux deux premiers tours de scrutin, la majorité relative suffit au troisième tour, et en cas d égalité de suffrages, le plus âgé est nommé  Il n existe aucune préséance entre les vice-présidents »  Enfin, l article 13, 1°, alinéa 4, de l Instruction générale du Bureau précise que « les délégations du droit de vote ne peuvent avoir effet pour un scrutin secret  »Pour la fonction de président, je suis saisi de la candidature de M  François Brottes Il y a une tradition reconnue de respect et d écoute au sein de notre commission  Au nom de cet état d esprit que nous devons faire perdurer, le groupe UMP ne présentera pas de candidat contre M  François Brottes, dont nous avons pu apprécier l assiduité et la qualité du travail au cours de la précédente législature  Nous souhaitons être une opposition à la fois constructive et combative, aussi encouragerons-nous toutes les mesures susceptibles de favoriser la compétitivité des entreprises et l emploi, de même que nous combattrons les mesures ne s inscrivant pas dans cette perspective Je voudrais également souligner combien a régné au sein de notre commission, au cours des dernières années, une ambiance de travail, d écoute, de respect, quelquefois même de convivialité  Nous souhaitons évidemment maintenir cet état d esprit et c est pourquoi le groupe SRC présente la candidature de M  François Brottes, qui, au regard de son investissement passé dans les travaux de notre commission, a déjà fait la preuve qu il réunissait toutes les qualités requises pour occuper la fonction de président Voilà donc qui commence bien, un démarrage normal en quelque sorte&#8230; (Rires) Il n y a donc pas lieu de procéder à un scrutin  En conséquence, M  François Brottes est élu président de la commission des affaires économiques et je l invite à prendre place au fauteuil de la présidence  (Applaudissements sur tous les bancs) Je remercie le doyen d âge pour la sérénité teintée d humour avec laquelle il a procédé à l ouverture de cette première réunion  La majorité à laquelle j appartiens se trouve dans l impérieuse nécessité de faire réussir la politique du Gouvernement, ce qui ne doit pas priver l opposition de ses prérogatives  Je veillerai du reste à ce que les droits de l opposition soient garantis, comme ils l ont toujours été dans cette commission  Cela signifie d abord un respect mutuel, mais également un temps suffisant pour aller au bout de l expression de nos confrontations, ce qui n interdit non plus de trouver parfois des terrains d accord  Je veux inscrire mon action dans une certaine continuité de ce point de vue, avec le souci prioritaire de défendre de façon pragmatique nos territoires, les gens qui y vivent, et l ensemble des activités économiques qui font la force de notre pays Nous sommes la commission de la croissance, de la régulation et des services publics  Nous sommes la commission du pacte productif pour relancer l industrie, selon la formule du Président de la République  Nous sommes la commission du développement d une agriculture diversifiée sur l ensemble des espaces ruraux  Nous sommes la commission d une politique de la ville et du logement qui relance le logement pour tous et partout sur le territoire  Nous sommes la commission des droits et de la protection des consommateurs, sujet crucial à l heure de toutes les dérégulations  Nous sommes aussi la commission de la transition énergétique, au service de la sobriété énergétique et d un mix électrique sensiblement plus équilibré qu il ne l est aujourd hui  Nous sommes la commission du tourisme, activité économique à part entière, essentielle pour notre pays car certainement l une des moins délocalisables  Nous serons la commission des Outre-mer, dont les nombreux atouts doivent être reconnus et valorisés  Nous sommes aussi la commission de la communication numérique, à haut débit pour tous et partout  Nous sommes la commission des services publics, notamment postal et énergétique, avec en toile de fond ce principe fondamental issu du programme du Conseil National de la Résistance de l égalité d accès sur l ensemble du territoire avec un tarif unique  Nous sommes aussi la commission de la gestion durable en matière de pêche et de sylviculture  Nous sommes enfin la commission qui se préoccupe de l innovation technologique, au service de l emploi et de l amélioration des conditions de vie Notre commission se doit d entretenir un lien étroit avec l Union européenne et l ensemble de ses institutions car une part importante des textes sur lesquels nous travaillons sont des textes de transposition de directives européennes  Dans le prolongement de ce qui a déjà été initié, nous serons donc amenés à rencontrer les représentants de ces institutions  Il n est plus possible aujourd hui de légiférer sans prendre en compte cette dynamique qui nous oblige tous, qui plus est dans une Europe qui connaît des secousses Nous allons maintenant procéder à l élection des autres membres du bureau de la commission  Là encore, je veux m inscrire dans la continuité de mes prédécesseurs immédiats à qui je veux rendre hommage, MM  Patrick Ollier et Serge Poignant, qui ont toujours associé les représentants de tous les groupes politiques aux travaux du Bureau Pour les quatre postes de vice-présidents, j ai reçu les candidatures de Mme Frédérique Massat, de MM  Henri Jibrayel, Daniel Fasquelle et Bruno Nestor Azerot le Président, au nom du groupe UDI, je tiens à saluer votre élection  J ai eu le plaisir de siéger au sein de cette commission au cours des cinq dernières années et j ai pu vous observer travailler de manière consciencieuse et active  Je vous fais donc confiance pour être le garant du bon déroulement de nos travaux et du droit à l expression de tous les députés  Je regrette que la représentation officielle des tous les groupes politiques ne puisse être assurée au sein du Bureau mais je prends bonne note de votre souhait de les associer aux décisions qui seront prises  Le groupe UDI ne présentera en conséquence aucun candidat pour les fonctions de vice-président et de secrétaire  Mme Frédérique Massat, MM  Henri Jibrayel, Daniel Fasquelle et Bruno Nestor Azerot sont élus vice-présidents de la commission des affaires économiques S agissant des quatre postes de secrétaires, j ai reçu les candidatures de Mmes Annick Le Loch, Laure de La Raudière, MM  Hervé Pellois et Joël Giraud  En l absence d autres candidatures, je vous propose de procéder de la même manière que pour les vice-présidents  Mmes Annick Le Loch, Laure de La Raudière, MM  Hervé Pellois et Joël Giraud sont élus secrétaires de la commission des affaires économiques En conséquence le Bureau de la commission est ainsi composé :Président :M  François BrottesVice-présidents :M  Bruno Nestor AzerotM  Daniel FasquelleM  Henri JibrayelMme Frédérique MassatSecrétaires :M  Joël GiraudMme Laure de La RaudièreMme Annick Le LochM  Hervé Pellois Je félicite les membres du Bureau et je les invite à se réunir immédiatement autour de moi, avec les représentants du groupe écologiste et du groupe UDI, afin que nous mettions en place notre programme de travail à compter de la semaine prochaine  Membres présents ou excusésCommission des affaires économiquesRéunion du jeudi 28 juin 2012 à 10 h 15Présents  - M  Damien Abad, Mme Brigitte Allain, M  Bruno Nestor Azerot, Mme Ericka Bareigts, Mme Marie-Noëlle Battistel, M  Laurent Baumel, M  Thierry Benoit, M  Yves Blein, Mme Michèle Bonneton, M  Christophe Borgel, M  François Brottes, M  Dino Cinieri, Mme Catherine Coutelle, M  Jean-Michel Couve, Mme Jeanine Dubie, Mme Corinne Erhel, Mme Marie-Hélène Fabre, M  Daniel Fasquelle, M  Franck Gilard, M  Joël Giraud, M  Daniel Goldberg, Mme Pascale Got, M  Jean Grellier, M  David Habib, M  Antoine Herth, M  Henri Jibrayel, M  Armand Jung, Mme Laure de La Raudière, M  Jean-Luc Laurent, M  Thierry Lazaro, M  Michel Lefait, Mme Annick Le Loch, Mme Annick Lepetit, M  Philippe Le Ray, M  Serge Letchimy, Mme Audrey Linkenheld, Mme Jacqueline Maquet, M  Alain Marc, Mme Marie-Lou Marcel, M  Philippe Armand Martin, Mme Frédérique Massat, M  Kléber Mesquida, M  Yves Nicolin, M  Germinal Peiro, M  Hervé Pellois, M  Michel Piron, Mme Josette Pons, M  Dominique Potier, M  Patrice Prat, M  François Pupponi, Mme Béatrice Santais, M  Lionel Tardy, M  Jean-Charles Taugourdeau, M  Jean-Marie Tetart, M  Jean-Paul Tuaiva, Mme Clotilde Valter, Mme Catherine Vautrin, M  Fabrice VerdierExcusé  - M  Jean-Claude Mathis ']\n",
      " ...\n",
      " [7779\n",
      "  ' ( La séance est levée à 19 heures 45 C est un plaisir tout particulier de revenir à l Assemblée nationale en cette veille de 8 mars, journée que nous célébrons avec beaucoup de solennité car elle est extrêmement importante au plan international Je vous remercie chaleureusement, monsieur le président de l Assemblée nationale, de vous engager aujourd hui en signant cette convention pour une communication publique sans stéréotype de sexe  Soit dit en passant, nous devons réfléchir collectivement à trouver un autre nom ou acronyme pour cette convention car l appellation actuelle est un peu compliquée à utiliser Ce guide, que vous avez entre les mains, n est pas un prêt-à-penser  Il n est pas à prendre tel quel ou à laisser  Ce document est un élément dans une démarche qui tend à l égalité entre les femmes et les hommes  La mise en oeuvre des dix engagements qu il comporte relève d une appropriation et d échanges au sein de chaque institution signataire  Pour ce faire, il faut avant tout une volonté et une impulsion politiques  Je vous remercie, monsieur le président, d en avoir fait preuve Ce guide et le rapport que nous avons produit sur les stéréotypes de sexe plaident pour une démarche structurée et structurante, qui ait le souci de la cohérence entre le discours politique et les politiques publiques  La pratique d une langue est tout sauf neutre  Elle est profondément politique  Elle est le reflet de notre société, de nos choix  Elle traduit nos valeurs, ce que nous sommes et ce que nous voulons être  Elle illustre notre vivre ensemble  Nommer les femmes, les rendre visibles dans la sphère publique comme dans la sphère privée ne relève pas de l anecdote  C est le coeur même de l enjeu d égalité de droits entre les femmes et les hommes  Nous nommer au féminin, nous faire exister aux yeux de tous et de toutes, c est refuser une société où les femmes auraient un second rôle  Puisque nous ne sommes pas des secondes mais que nous nous revendiquons des égales, n hésitons pas à user du féminin Pourquoi interroger le langage et les images qui sont des vecteurs de lourds stéréotypes sexistes ? Certains pensent, de manière tout à fait légitime, qu il existe des questions plus importantes dans le combat féministe : le plafond de verre, l égalité de salaire ou encore la lutte contre les violences  Pourtant, je pense que l usage du féminin dans la langue est directement lié à ces sujets  Les mots ont un sens : ils sont le reflet de nos représentations ; ils véhiculent les stéréotypes qui entretiennent les inégalités  La question du langage, comme celle de la parité, renvoie à la manière dont s est construite la République française, en excluant les femmes de la citoyenneté et de la vie de la cité Réjane Sénac, politiste et présidente de la commission parité du HCEfh, analyse brillamment comment la République s est prétendue, s affirme et se veut encore égalitaire, mais s est construite en excluant les femmes et tous les autres « non-frères », c est-à-dire les non-hommes blancs  Cela explique pourquoi l expression « droits de l homme » et l usage du masculin, considéré comme neutre dans la langue française, se fondent sur un prétendu universalisme où « le masculin l emporte » et représenterait les femmes et les hommes Plus personne ou presque ne conteste désormais qu il demeure un problème de représentation dans les assemblées politiques qui sont encore composées en très grande majorité d élus hommes  Pourtant, sur la question du langage, nous sommes encore très loin de l adhésion  Un vrai travail pédagogique de conviction reste à faire  Ceux qui s opposaient hier à la parité s opposent aujourd hui au remplacement de « droits de l Homme » par « droits humains »  Ce sont les mêmes qui s opposent au rétablissement de l usage du féminin dans la langue française  C est bien d un rétablissement qu il s agit puisque, jusqu au Moyen Âge, l usage du féminin et du masculin pour les professions était la norme  Ce n est qu à partir du XVIIIe siècle et par la volonté de l Académie française que « le masculin l a emporté » sur le féminin dans la grammaire et dans les titres  C est ainsi qu on dit encore couramment madame le député ou madame le vice-président de l Assemblée nationale, ce qui est totalement insupportable Cette convention que vous allez signer, monsieur le président, est inspirée de toute cette réflexion et est proposée à la signature de toutes les organisations qui le souhaitent : ministères, administrations centrales, établissements publics, collectivités territoriales, associations, etc  Nous proposons trois engagements aux signataires : reconnaître l importance de prévenir et faire reculer les stéréotypes de sexe dans la communication publique, en interne comme en externe ; adopter le guide pratique et le diffuser à leur personnel ; transmettre le guide aux prestataires extérieurs qui communiqueront ou élaboreront des communications pour le compte de l institution À ce jour, la liste des signataires compte des institutions prestigieuses : le Conseil économique, social et environnemental (CESE), le Conseil national de la fonction publique territoriale (CNFPT) qui forme les fonctionnaires territoriaux ou encore l École nationale d administration (ENA)  Plusieurs ministères ont également signé : le ministère de la Justice, le ministère des Familles, de l Enfance et des Droits des femmes, le ministère des Affaires sociales et de la Santé, le ministère de l Agriculture  La convention a également été signée ce matin par Najat Vallaud-Belkacem, la ministre de l Éducation nationale, et par tous les recteurs et rectrices d académie  Le ministre de l Intérieur a aussi demandé à la signer très rapidement Le HCEfh est fier de pouvoir dorénavant compter l Assemblée nationale parmi les signataires  C est une pierre supplémentaire à l édifice construit année après année, grâce notamment à votre soutien, monsieur le président, et à l impulsion de député e s féministes extrêmement déterminé e s que l on a pu voir effectuer un travail remarquable pendant ces cinq années  Je souligne en particulier le travail remarquable effectué par la Délégation aux droits des femmes qui a redoublé d efforts de conviction et de vigilance, et qui a apporté son expertise sur tous les sujets Il faut bien prendre en compte une chose : considérer les politiques publiques comme étant neutres du point de vue du genre est souvent synonyme de reculs  À l inverse, prendre en compte l impact différencié que peuvent avoir les lois sur les femmes et les hommes, c est faire en sorte que celles-ci soient synonymes de progrès pour toutes et tous Ce travail, vous l avez fait, Madame la présidente, en défendant des amendements aux projets et aux propositions de loi, et en réalisant un remarquable travail de conviction auprès de vos collègues  Je tiens bien évidemment à saluer l impulsion que vous avez initiée par le biais de la Délégation  Vous en avez parlé dans votre discours introductif et votre très riche rapport de bilan en atteste  Pour avoir déjà utilisé ce rapport, j encourage tout le monde à se le procurer  Il va aider à faire connaître et à rappeler ces avancées, ce qui est très important pour ne pas céder à la résignation et pour montrer que l on peut continuer à avancer grâce aux lois, aux politiques publiques et à l application des sanctions  Faire connaître ces avancées est aussi le meilleur moyen de les graver dans le marbre pour qu elles ne puissent être remises en cause Vous avez adopté des textes remarquables : la loi du 4 août 2014 pour l égalité réelle entre les femmes et les hommes, la loi du 13 avril 2016 visant à renforcer la lutte contre le système prostitutionnel et à accompagner les personnes prostituées et, tout récemment, la loi relative à l extension du délit d entrave à l interruption volontaire de grossesse, concernant les sites internet, définitivement adoptée en février 2017 Le Haut Conseil à l égalité entre les femmes et les hommes (HCEfh) a fait son travail en nourrissant les travaux des parlementaires  Près de 40 % de nos recommandations ont été reprises dans des textes de loi ou des politiques publiques  Le HCEfh est d ailleurs désormais pérennisé par la loi du 27 janvier 2017 relative à l égalité et à la citoyenneté, ce dont je remercie les parlementaires Monsieur le président, vous avez soutenu les députés qui ont porté cette question d égalité  En octobre dernier, vous inauguriez le buste d Olympe de Gouges, ardente défenseure des droits des femmes et des droits humains  Le buste d Olympe de Gouges à l Assemblée nationale, c est un symbole de reconnaissance de la place des femmes dans l histoire et en politique  Il a fallu enlever un autre buste pour installer le sien dans la salle des Quatre-Colonnes  Je comprends bien que cela ne s est pas fait tout seul&#8230;Le 2 février, nous avons rendu public notre rapport sur l application des lois relatives à la parité depuis les dernières élections locales  Il y a une parité quantitative dans la quasi-totalité des assemblées, sauf à l Assemblée nationale et au Sénat, mais ce n est pour le moment qu un partage des places et non un partage du pouvoir  Les progrès réalisés montrent que c est avant tout la voie législative qui permet d avancer  Il ne faut donc pas hésiter à légiférer dans ce domaine Les freins à l entrée des femmes en politique sont également liés aux préjugés sexistes dont elles sont l objet  Vous avez pointé du doigt ce problème en faisant tout un travail à l Assemblée nationale pour montrer que les femmes sont à leur place dans cette institution, alors que ces préjugés sont un moyen très efficace pour signifier qu elles sont illégitimes en politique  Monsieur le président, vous avez pris à bras-le-corps cette problématique soulevée notamment par le collectif Chair collaboratrice Rendre vivante la convention du HCE est la première étape d une démarche qui va prendre du temps, qui va exiger du travail de sensibilisation en interne et une volonté affichée au plus haut niveau  Le travail entrepris ici depuis plusieurs semaines est un gage de réussite à long terme  J en profite pour remercier de leur présence le secrétaire général de l Assemblée nationale ainsi que des responsables de la communication  C est un travail à poursuivre au-delà de cette législature Pour conclure, je me réjouis de voir que cette signature va avoir lieu en présence de jeunes féministes dont nous avons apprécié le talent, l engagement et les méthodes terriblement modernes comparées aux nôtres  Nous avons besoin de vous comme vous avez besoin de nous  Il ne faut pas croire que vous allez inventer le monde à vous seules  On est encore là et on vous aidera autant qu il le faudra  (Sourires ) Il faut que l égalité et la parité, qui sont des principes inscrits dans notre Constitution, deviennent des droits effectifs pour chacune des femmes vivant en France  Nous allons y travailler ensemble  (Applaudissements )La séance est ouverte à 17 heures 15 Présidence de Mme Catherine Coutelle, présidente À l occasion de la journée internationale des droits des femmes, un colloque, ouvert au public, a été organisé sur le thème : « Qui sont les nouvelles féministes ? », en présence de :&#8211; Mme Marie-Ophélie Latil, membre du collectif féministe Georgette Sand, et de M  Frédéric Robert, représentant de l association Zéromacho ;&#8211; Mme Anaïs Bourdet, créatrice du blog Paye ta shnek, et Mme Ketsia Mutombo, du collectif Féministes contre le cyberharcèlement ;&#8211; Mme Anne-Cécile Mailfert, présidente de la Fondation des femmes, et de Mme Rebecca Amsellem, fondatrice de la newsletter « Les Glorieuses » À l occasion de la journée internationale des droits des femmes, c est avec grand plaisir que je vous accueille dans la galerie des fêtes de l Assemblée nationale pour ce colloque consacré aux nouvelles féministes Avant toute chose, je souhaiterais remercier chaleureusement Claude Bartolone, président de l Assemblée nationale, qui a organisé cet événement avec nous et qui nous permet aujourd hui de profiter de ce très beau lieu  Je dois dire que, tout au long de la législature, le président Claude Bartolone a accédé à toutes nos requêtes et a encouragé nos initiatives, permettant ainsi l affirmation du rôle de la Délégation aux droits des femmes de l Assemblée nationale  Je voudrais ici le remercier pour son soutien, son amitié et son engagement féministe  (Applaudissements )La création d une Journée internationale des droits des femmes a été proposée pour la première fois en 1910 par Clara Zetkin, alors présidente de la Conférence internationale des femmes socialistes  Elle est officiellement reconnue par les Nations unies en 1977, et en France en 1982 grâce à Yvette Roudy, qui a suivi nos travaux avec attention tout au long de la législature qui s achève, et à qui je veux rendre un hommage chaleureux et sincère Où en est-on aujourd hui ?Fondée sur une approche intégrée de l égalité, cette XIVe législature aura été synonyme d avancées réelles pour les droits des femmes  La Délégation aux droits des femmes a d ailleurs fait le bilan de ces avancées dans un rapport d information adopté il y a deux semaines En parcourant la synthèse de ce rapport, vous pourrez constater que les avancées ont été nombreuses en matière de parité, d égalité professionnelle, de lutte contre les violences faites aux femmes, de nouveaux droits sociaux, de développement de l éducation à l égalité dès le plus jeune âge, et de diplomatie des droits des femmes à l international C est également pour conclure cette législature que nous avons souhaité organiser ce colloque, afin de rappeler les victoires obtenues, mais aussi les combats qu il reste encore à mener, et surtout afin de mettre en valeur l engagement des nouvelles féministes et de leur passer le témoin Cette fin de législature a évidemment pour toile de fond l élection présidentielle  Même si notre colloque ne s inscrit pas comme un temps de la campagne, je veux lancer ici un message solennel : à l heure où les candidats sont appelés à s exprimer sur de nombreuses causes, j appelle chacun d eux à s engager fortement pour l égalité femmes-hommes, et je leur demande de s engager à reconduire un ministère des droits des femmes de plein exercice lors du prochain quinquennat  (Applaudissements )Tous les programmes ne se valent pas en termes d égalité  Les Glorieuses, qui interviendront tout à l heure par la voix de Rebecca Amsellem, ont d ailleurs mis en ligne sur leur site une étude comparative entre les programmes : n hésitez pas à le consulter Car le féminisme n est pas un combat obsolète ; il n a rien d une mode dépassée C est un combat universel contre les discriminations et dominations que subissent les femmes parce qu elles sont femmes  C est un engagement de tous les jours pour promouvoir les droits des femmes et faire progresser l égalité entre les femmes et les hommes  Et, comme le montre la présence de nos intervenantes et intervenant, que je remercie d avoir accepté de participer à ce colloque, les jeunes aussi sont féministes Ces jeunes féministes s inscrivent dans la continuité des combats d hier, et ne manquent d ailleurs pas de veiller au respect des droits fondamentaux précédemment acquis  Je pense aux droits politiques &#8211; du droit de vote jusqu à la parité, qui n est pas encore achevée, et nous verrons en juin 2017, à l issue des élections législatives, si le doublement de la pénalité aura eu un effet &#8211; , aux droits sociaux, notamment l accès à la contraception et à l avortement, ainsi qu aux droits économiques et à l égalité professionnelle Les « trois vagues » du féminisme sont également le fruit de grandes figures, des grandes femmes qui ont créé l histoire  C est ce que décrit le Dictionnaire des féministes du XVIII e au XXI e siècle, publié il y a quelques semaines par Christine Bard  Pour filer la métaphore, les vagues se succèdent, se superposent, s amplifient, mais entre les vagues, il peut aussi y avoir des reflux&#8230;Les jeunes féministes marquent également une nouvelle ère : en effet, de nouveaux modes d expression collective et de mobilisation sont apparus  La révolution numérique a ainsi permis de rénover profondément les formes du combat pour l égalité femmes-hommes, grâce à de nouveaux outils et à une audience démultipliée Mais qui sont ces nouvelles féministes ? Quels sont leurs combats et leurs actions ?Pour répondre à ces questions, nos intervenantes et intervenant nous apporteront bien sûr leur propre expérience et nous permettront de mieux comprendre les nouveaux modèles d engagement féministe Mais avant cela, je souhaiterais revenir sur ma propre expérience de présidente de la Délégation aux droits des femmes : tout au long de cette législature, les mouvements et les associations féministes &#8211; de jeunes et de moins jeunes &#8211;, nous ont aiguillonnés et aidés à porter nos projets Les « nouvelles féministes » l ont fait avec des moyens d action souvent très réactifs, voire créatifs : recueil de témoignages via des blogs ou des tumblr, pétitions en ligne, campagnes virales sur internet et sur les réseaux sociaux, hackathons&#8230;Ces modes d actions permettent un élargissement considérable de l audience : dès lors que l on dispose d une tablette ou d un smartphone, il est désormais possible de se joindre à ces combats et de défendre ses convictions féministes d un simple clic &#8211; étant précisé que les défendre sur la durée demande tout de même un investissement un peu plus important Ce « féminisme 2 0 » développe ainsi une logique participative, horizontale, démocratique Vos actions ont maintes fois prouvé leur efficacité  Je me souviens, par exemple, de la forte mobilisation des Georgette Sand, que nous entendrons lors de la première séquence du colloque, contre la « taxe tampon », qui désigne le taux de TVA appliqué aux produits d hygiène féminine, et plus généralement contre la « taxe rose » qui fait que les produits destinés aux femmes seraient plus chers que ceux s adressant aux hommes  Les actions menées par les Georgette Sand ont eu un véritable succès, puisqu elles ont permis de voter, ici, à l Assemblée nationale, par voie d amendement, la baisse de cette « taxe tampon »  Elles restent très attentives à ce que la loi soit bien appliquée et évaluée Les associations féministes jouent ainsi un vrai rôle en amont de l élaboration des lois, permettant de faire remonter des difficultés et des inégalités qui ne sont pas toujours simples à percevoir : le centre Hubertine Auclert nous a alertés sur le cyberharcèlement et les difficultés à engager les poursuites Nous, parlementaires, nous nous nourrissons de votre travail, de vos actions et de vos mobilisations  Je citerai Zéromacho, sur la lutte contre la prostitution ; le collectif Féministes contre le cyberharcèlement, sur le harcèlement sur internet ; la Fondation des Femmes, sur le revenge porn notamment ; les Glorieuses, sur les inégalités de salaires ; le blog Paye ta schnek, sur le harcèlement de rue  Et ce ne sont que quelques exemples À l Assemblée nationale aussi, les choses évoluent  Le collectif Chair collaboratrice a permis de libérer la parole et contribuer à mettre en lumière le sexisme subi par un certain nombre de collaboratrices et de fonctionnaires, mis en lumière par des événements récents À ce sujet, je souhaite une nouvelle fois remercier l engagement de Claude Bartolone et du secrétariat général de la Présidence, qui ont accepté nos propositions pour lutter contre le harcèlement à l Assemblée nationale  Il ne faudrait pas croire qu après l affaire Baupin, rien n a été fait : au contraire, des mesures très concrètes ont été prises, avec la désignation d une personne référente afin d entendre et conseiller les victimes de harcèlement, l amélioration du site de l Assemblée ou encore la possibilité pour les collaborateurs parlementaires de bénéficier d une formation au début de la prochaine législature, en septembre 2017 Toutes vos actions, les témoignages recueillis, votre analyse, votre expertise sont pour nous des ressources précieuses et nécessaires Les associations féministes jouent également un rôle important en aval du vote des lois, pour s assurer de leur application et mesurer leur efficacité  Votre travail de terrain et d alerte permanente contribue aussi à évaluer la loi et l efficacité des politiques publiques, et à porter des mesures correctives quand il le faut Je ne peux m empêcher d y voir une traduction concrète du « triangle de velours », selon l expression consacrée d Alison Woodword : c est l action conjuguée de ces trois pôles que sont les institutions &#8211; les délégations aux droits des femmes du Sénat, de l Assemblée nationale et du Conseil économique, social et environnemental (CESE), le Haut Conseil à l égalité et sa présidente Danielle Bousquet, le Conseil supérieur de l égalité professionnelle entre les femmes et les hommes (CSEP), la Mission interministérielle pour la protection des femmes victimes de violences et la lutte contre la traite des êtres humains (MIPROF) &#8211;, les associations et la recherche, qui permet de faire avancer les choses Car, oui, les choses ont avancé Oui, le combat pour l égalité a connu de nombreuses victoires Oui, ces cinq dernières années ont été marquées par d importantes avancées pour les droits des femmes Oui, ces victoires ont été le fruit d un travail sans relâche, d un engagement partagé, d un combat commun Oui, chacune des personnes présentes aujourd hui a participé, d une façon ou d une autre, à ces victoires Mais je suis consciente qu il reste encore beaucoup à faire  Nous sommes toutes et tous conscients que rien est jamais acquis et que des reculs peuvent toujours survenir, comme nous l ont montré les dernières élections aux États-Unis, en Pologne, en Italie et, dans une certaine mesure, en Espagne  Et je profite de cette occasion pour rappeler que les combats et les engagements qui nous unissent sont plus forts que ce qui nous divise  Il est nécessaire de créer du lien entre nous, entre chaque actrice et acteur du féminisme  Cette unité, cette coopération, cette cohérence vont nous permettre de continuer à avancer Le féminisme a encore de beaux jours devant lui, la relève est assurée  Jamais autant d associations féministes ne se sont créées qu au cours des dernières années et, de nos jours, plus de la moitié de la population française se dit féministe Si j espère que ce sondage reflète bien la réalité, je n en suis pas toujours persuadée  À ce sujet, j aimerais vous raconter une anecdote  Je traversais ce matin la salle des Quatre-Colonnes alors qu un groupe de lycéens s y trouvait  Comme j arrivais à la hauteur d un jeune homme planté devant le buste d Olympe de Gouges et la Déclaration des droits de la femme et de la citoyenne, je l ai entendu s écrier : « Alors, ça, c est pas ma culture  » Inutile de vous préciser qu il a été un peu saisi quand, surgissant de nulle part, j ai entrepris de lui expliquer qu il aurait tout intérêt à faire évoluer sa vision des choses Au moment où je quitte la vie politique &#8211; puisque je ne me représente pas &#8211;, je voudrais rappeler aux jeunes féministes qu il faut veiller à ce que cette nouvelle constellation d associations, de collectifs, de sites internet, souvent spécialisés sur une thématique précise, ne soit pas trop atomisée, dispersée C est d ailleurs aussi pour créer du lien entre toutes et tous les féministes, jeunes et moins jeunes, spécialisés sur un combat ou généralistes, que nous avons souhaité organiser ce colloque En conclusion, je veux vous dire que nous devons continuer à avancer ensemble, et pas seulement nous féliciter des progrès accomplis par le passé &#8211; même s il faut, de temps à autre, savoir faire le point et nous féliciter pour ces progrès, car personne ne le fera pour nous  Les victoires d hier resteront des victoires si demain nous continuons à les défendre, sans relâche  (Applaudissements )Pour rythmer nos échanges, le colloque va se structurer en plusieurs étapes Il y aura tout d abord trois séquences d échanges, où à chaque fois, nous écouterons les témoignages de deux associations, suivis d un temps de questions-réponses Puis, à la fin du colloque, le président Claude Bartolone et la présidente du Haut Conseil à l égalité entre les femmes et les hommes (HCEfh), Danielle Bousquet, signeront la convention d engagement pour une communication publique sans stéréotype de sexe Merci, madame la présidente de la Délégation aux droits des femmes, chère Catherine Je suis très heureux de me trouver parmi vous ce soir pour célébrer, avec une très légère avance, la journée internationale des droits des femmes  Chaque année, elle est l occasion de réaffirmer notre engagement commun pour l égalité entre les femmes et les hommes Pour beaucoup d entre vous, je sais que c est un combat que nous partageons de longue date, et je vous en remercie  Je pense notamment à Yvette Roudy, qui défend toujours avec ténacité la cause des femmes, et à Danielle Bousquet, la présidente du Haut conseil à l égalité entre les femmes et les hommes (HCEfh)  Parmi les combattants de l égalité, je salue également Grégoire Théry, l infatigable secrétaire général du Mouvement du Nid, Ernestine Ronai, notre coordinatrice nationale de la lutte contre les violences faites aux femmes, et Annie Sugier, la présidente de la Ligue du droit international des femmes  Dans ce palmarès, je ne voudrais pas oublier Véronique Séhier et Carine Favier, les coprésidentes du planning familial qui nous stimulent et nous accompagnent  Merci également à Yves Charpenel, le président de la fondation Scelles, à Réjane Sénac, chercheuse au Centre de recherches politiques de Sciences Po (CEVIPOF), à Gérard Briard, Patrick Jean et Frédéric Robert, de l association Zéromacho, qui me tient à coeur Je ne peux malheureusement pas citer tout le monde, et je le regrette  Mais je veux dire un grand merci à vous tous, et en particulier à tous les intervenants de cet après-midi Permettez-moi enfin d avoir une pensée pour une grande dame, compagne fidèle de toutes les luttes féministes : Maya Surduts, la fondatrice de la coordination des associations pour le droit à l avortement et à la contraception, qui nous a quittés l année dernière  Son engagement continue à nous inspirer  (Applaudissements )Cette année, nous marquons une avancée concrète avec cette convention d engagement pour la communication publique sans stéréotype de sexe, que je signerai dans quelques instants au nom de l Assemblée nationale  Oui, le combat pour l égalité des femmes et des hommes se mène à tous les étages, de nos attitudes personnelles à la communication publique de nos institutions La discrimination envers les femmes est une construction sociale et politique  C est donc par la lutte sociale et politique qu il faut, en retour, la combattre et la vaincre  Depuis 2012, grâce à de nombreux professeurs de talents qui m ont convaincu, je m y suis employé et j ai tenu à placer l Assemblée nationale sous le signe de la parité  J ai ainsi appliqué le principe de stricte parité dans les nominations que j avais à effectuer  Pour la première fois, l Assemblée nationale a même nommé plus de femmes que d hommes : j avais soixante-cinq nominations à effectuer au cours de cette législature et j ai nommé trente-trois femmes et trente-deux hommes  Il faut se fixer cet objectif d emblée car, compte tenu de la pyramide des responsabilités, on vous fait remonter plus facilement des noms d hommes  En décidant d appliquer la parité, on crée un réflexe et on parvient au résultat Nous avons aussi mis en place la stricte parité au sein de l institution, tant pour les vice-présidences que pour les présidences de commission  C était inédit  Avec le soutien du Bureau et en lien avec la Délégation aux droits des femmes, j ai renforcé la lutte contre le harcèlement moral et sexuel au sein de notre institution Enfin, parce que le combat pour l égalité se déploie aussi au niveau symbolique, j ai souhaité faire entrer à l Assemblée nationale, pour la première fois, une représentation féminine qui ne soit pas une allégorie  C est ainsi qu en octobre dernier, avec le concours de Françoise Durand, la présidente de l association Olympe de Gouges aujourd hui, le buste d Olympe de Gouges, figure révolutionnaire et pionnière du combat pour l égalité des droits, a été installé en salle des Quatre-Colonnes, le saint des saints Pour ce bel événement et pour toutes les réformes engagées, je tiens à remercier tout particulièrement la Délégation aux droits des femmes et sa présidente, Catherine Coutelle, qui oeuvrent chaque jour pour une Assemblée nationale plus paritaire et pour une société plus juste  Catherine et moi, nous abordons nos derniers jours dans cette maison puisque nous n allons ni l un ni l autre solliciter le renouvellement de notre mandat  Je voulais donc la remercier plus particulièrement  (Applaudissements ) Je remercie également toutes celles et tous ceux qui agissent et ont agi depuis cinq ans pour plus d égalité et de parité L image de notre hémicycle est d ailleurs comme un symbole de notre combat, des victoires déjà engrangées dans cette lutte au long cours mais aussi de celles qui restent encore à obtenir  L Assemblée nationale est encore trop peu féminine, avec 155 femmes élues en 2012, soit un peu moins de 27 % de la représentation nationale, mais il faut pourtant se réjouir du fait qu elle n a jamais compté autant de femmes élues de la nation  En comparant ce chiffre aux trente-trois députées élues en 1945, on s aperçoit des progrès accomplis  Pourtant, dans son décalage avec l idéal qui nous anime, cette réalité ne cesse de résonner comme une exigence nouvelle qui nous fait mesurer le chemin qui reste à parcourir Tous les partis politiques doivent réagir : pour parvenir à la parité, il faut qu il y ait des candidates dans des circonscriptions gagnables comme dans des circonscriptions non gagnables  Concernant la loi sur la parité pénalisant les partis politiques sur le plan financier, si elle avait pu susciter des réserves, je constate qu elle pousse certains responsables de partis à réagir  La mise en oeuvre des recommandations du HCEfh pour une communication sans stéréotype de sexe pourra, je l espère, nous permettre de franchir un pas supplémentaire sur ce chemin Je veux d abord me réjouir d une chose : en examinant la manière dont l Assemblée nationale pourrait appliquer les recommandations de votre guide pratique, nous avons pu constater que la représentation paritaire est déjà largement entrée dans les moeurs de notre institution  Les femmes sont de plus en plus nombreuses parmi les fonctionnaires de l Assemblée nationale, en particulier dans les postes d encadrement  On en revient à ma remarque concernant les nominations : il faut que les femmes soient présentes à tous les niveaux de responsabilité pour que l on puisse leur proposer des postes d encadrement, sinon on n a le choix qu entre des hommes La loi, qui a fixé l objectif d avoir un minimum de 40 % de personnes de chaque sexe pour les nominations au sein de l encadrement dirigeant et supérieur de la fonction publique, est entrée en vigueur le 1er janvier 2017  Notre institution respecte déjà cette recommandation depuis 2014  Cela ne nous empêche évidemment pas d aller plus loin, bien au contraire  Je sais pouvoir compter sur notre secrétaire général pour ce faire Notre communication institutionnelle propose une vision très largement paritaire de notre institution  Nous avons néanmoins identifié une marge d amélioration en ce qui concerne le film projeté aux visiteurs  Une nouvelle version de ce film est en cours de préparation pour la prochaine législature, et nous veillerons à ce qu il propose une représentation égale des femmes et des hommes De la même manière, les recommandations du HCEfh quant à l adaptation de l expression orale et écrite pourront être largement diffusées auprès des administrateurs des commissions et des services législatifs, afin qu elles soient respectées dans les rapports parlementaires Enfin, d autres mesures pourront être mises en oeuvre  Par exemple, nous voulons aller vers plus de parité dans les expertises proposées à la représentation nationale au cours des auditions préalables aux travaux parlementaires  Pour ce faire, le vivier d expertes recensées par le site expertes eu sera largement diffusé auprès des services législatifs Grâce à l acquisition récente de l hôtel de Broglie, nous pourrons également équilibrer les noms de bâtiments, d équipements et de salles, afin de donner une meilleure visibilité aux grandes femmes de la nation Certaines de ces mesures paraîtront peut-être anecdotiques, mais nous savons que les grandes victoires sont faites d une multitude de petits succès  L Assemblée nationale, qui avance avec la société, a à coeur de se montrer exemplaire sur ce sujet comme sur d autres  Au moment de signer cette convention d engagement pour une communication publique sans stéréotype de sexe, je veux vous dire que je suis fier de présider une institution vivante, qui ne craint pas de se réformer et qui demeure animée d un seul espoir : faire progresser la liberté et l égalité pour tous et pour toutes Mesdames et messieurs, comme vous le savez, en matière de droits des femmes, quand on arrête d avancer, on ne fait pas du sur-place mais on recule  Ici comme ailleurs, tous les satisfecit &#8211; dont nous pouvons nous réjouir &#8211; pointent en même temps de nouvelles barrières, de nouveaux murs, de nouveaux plafonds Ici, en France, les femmes travaillent mais, à poste égal, elles gagnent en moyenne 19 % de moins que les hommes : dans le dernier rapport du Forum économique mondial, la France arrive ainsi au 134e rang parmi 144 pays classés en fonction de l égalité salariale  Est-ce honorable ? De même, les femmes sont entrées dans les conseils d administration, mais leur présence dans les instances exécutives de direction reste très faible, à seulement 14 %, et progresse trop lentement Au Parlement européen, il y a tout juste quelques jours, un député polonais s est levé pour justifier les inégalités de salaires  Après une démonstration sur les joueurs d échecs polonais, il a déclaré que les femmes étant « plus faibles, plus petites et moins intelligentes que les hommes », elles devaient être moins payées qu eux  Même si députée espagnole l a heureusement remis à sa place, il faut bien constater que de tels propos ont été tenus au sein de l assemblée européenne En Turquie, le président Erdogan n hésite pas à se prononcer contre l avortement et la contraception, mais aussi contre la césarienne qui viendrait contrarier les desseins sacrés de la nature  En Russie, une loi dépénalisant les violences domestiques a été adoptée à une écrasante majorité de députés à la fin du mois de janvier  Le président Vladimir Poutine l a promulguée le 7 février Je pourrais continuer très longtemps à énumérer les batailles qui nous restent à mener  Ici et ailleurs, l égalité entre les femmes et les hommes aura toujours besoin de militantes et de militants À vous voir si nombreuses et si nombreux ce soir, rassemblés à l issue de ce colloque, je sais que la relève est là  Je me réjouis de voir tant de jeunes associations parmi vous, tant de nouveaux et nouvelles féministes qui continuent à brandir le flambeau de l égalité  Oui, j en suis persuadé, la relève est assurée  Sur vos visages, je lis la détermination de ceux qui savent que leur combat est juste  Je lis aussi la confiance en votre pouvoir de faire changer l avenir  Cette même confiance donnait leur force à Olympe de Gouges, à Simone de Beauvoir, à Simone Veil  Cette confiance nous inspire, aujourd hui comme hier C est ainsi que nous pourrons, je l espère, continuer à avancer sur les chemins de la République, de cet idéal qui nous éclaire, qui nous inspire, et qui continuera, pour peu que nous lui demeurions fidèles, à nous entraîner sur les voies du progrès  En ce qui concerne cette réunion, ce sera mon dernier souhait  (Applaudissements )Puis, le président de l Assemblée nationale, M  Claude Bartolone, a signé la convention d engagement pour une communication publique sans stéréotype de sexe, en présence de la présidente du Haut Conseil à l égalité entre les femmes et les hommes (HCEfh), Mme Danielle Bousquet Nous allons passer à la dernière séquence de notre colloque avec M  le président Claude Bartolone et Mme la présidente Danielle Bousquet  Je voulais vous remercier toutes et tous  Nos combats, d un siècle à l autre, sont marqués par des continuités et des ruptures  Je suis très encouragée car je pense que la relève est là, sur tous les continents, extraordinairement inventive, imaginative et enthousiaste  Grand merci à toutes et à tous  Cette très belle soirée nous rassure  (Applaudissements )Avant d en venir à la signature de la convention pour une communication publique sans stéréotype de sexe, je voulais vous remettre, monsieur le président, le dernier rapport d information de la Délégation aux droits des femmes, qui comporte deux tomes et 200 pages, et qui est aussi disponible sur le site de l Assemblée nationale, en formant le souhait qu il devienne un outil de référence : je vous invite, toutes et tous, à l utiliser et à le diffuser Nous avons conscience que la transversalité s impose  Najat Vallaud-Belkacem disait que, sous peine d échouer, il faut attaquer la question sur tous les fronts  Je pense que l on en vient à une nouvelle étape, celle des budgets sensibles au genre, dans les collectivités territoriales comme au niveau national Je signale l existence à l Université Paris-Descartes d un enseignement en psycho-traumatologie et en sexologie ouvert à d autres que les seuls étudiants en médecine, notamment à des avocats  Il est nécessaire d avoir un minimum de savoir scientifique pour mieux comprendre l autre À propos de la recrudescence des violences faites aux femmes, il ne faut pas oublier que les problèmes socio-économiques font le lit de l extrême droite et des fondamentalismes religieux  La situation est très dangereuse : on constate la régression des mentalités, et les réseaux sociaux sont source de grands périls car ils amplifient le phénomène  Nous devons prendre garde à nos acquis Je suis conseillère municipale à Saint-Germain-en-Laye  La France est une société fortement numérisée Internet est une magnifique invention mais les réseaux sociaux ont une responsabilité dans la diffusion d images sexistes et pornographiques  Le législateur doit s interroger sur le fait que si l on tape le mot « femme » sur Twitter, des informations sur ce colloque apparaîtront mais aussi, très certainement, des images pornographiques D autre part, les appréciations de l Autorité de régulation professionnelle de la publicité (ARPP) semblent parfois singulièrement laxistes  Les réseaux féministes ont dénoncé les images dégradantes pour les femmes de l actuelle campagne publicitaire de la maison Saint Laurent et obtenu que l ARPP, il y a quelques heures, somme l entreprise de les retirer  Cela étant, je ne parviens pas à m expliquer que les services de marketing et de communication d un si grand groupe puissent encore songer afficher de telles photographies, qui plus est dans les jours précédant le 8 mars  Cette démarche est profondément biaisée, puisque l affichage de ces images a fait que l on a parlé, beaucoup, de cette marque en France et à l étranger  Mais elle n en sort pas à son avantage, et le législateur doit interdire les représentations de cette sorte  (Applaudissements )Je ne me reconnais pas dans certaines propositions faites sous couvert de féminisme pour lutter contre le harcèlement sexiste dans les transports  Il a ainsi été suggéré que, la nuit, les autobus s arrêtent à la demande, au plus près du domicile des femmes  Pour ma part, je veux descendre à trois arrêts de chez moi si j en ai envie et marcher ensuite tranquillement dans la rue, même la nuit  Je suis très étonnée que des féministes formulent une proposition qui revient à nous priver d une liberté  Que l on offre cette possibilité à tous, très bien, mais le faire au motif de protéger les femmes me paraît surprenant et je me demande si des associations féministes peuvent porter une telle proposition À Wallis-et-Futuna, îles dont je suis originaire, le féminisme n existe pas ; je l ai découvert à mon arrivée en France  C est en 2013 que, pour la première fois, une femme a été élue à l assemblée territoriale des îles de Wallis-et-Futuna &#8211; en 2013 seulement  Cette anomalie m a trotté dans la tête mais, comme je vous l ai dit, je ne connaissais pas le féminisme jusqu à ce que j entre en contact avec l Assemblée des femmes, que je remercie  Le fait d être moi-même élue en 2014 aux Mureaux a accéléré ma prise de conscience féministe, car j ai subi de nombreuses remarques sexistes  De très nombreuses femmes continuent d ignorer l existence d associations féministes et le fait qu elles peuvent y adhérer  Je me réjouis de l action menée par Les Glorieuses et je compte propager avec vigueur cette bonne nouvelle dans les îles de Pacifique Sud  (Applaudissements) Nous accueillons le président Claude Bartolone  Nos deux intervenantes vont réagir aux questions, puis nous en viendrons à la dernière partie de notre colloque En Polynésie, il y a des femmes absolument fabuleuses qui ont commencé à mener ce combat sans nous attendre  J en citerai deux, qui sont à la fois des auteures magnifiques, des combattantes pour la liberté et l indépendance de Tahiti, et des féministes : Chantal Spitz et Titaua Peu  Je vous invite à lire leurs ouvrages qui montrent l envers du décor de ces îles paradisiaques  Elles ne nous ont pas attendues pour se libérer Pour ma part, je voudrais ajouter qu avec Les Glorieuses, nous essayons de faire de la sororité une notion aussi universelle que la fraternité  La sororité est la capacité de toutes les femmes à s entraider et à reconnaître que chacune vit différemment sa condition selon son environnement ou son origine sociale  Je vous propose d en faire un but et non pas un moyen  (Applaudissements) Je vous soumets la question suivante qui nous a été transmise par internet : « comment intéresser davantage le féminisme aux questions économiques et aux politiques sociales qui touchent souvent la condition des femmes ? »Le féminisme, mouvement transversal, s intéresse à tout, pas seulement aux personnes de genre féminin  Il est de première importance que les candidats à la présidence de la République entendent ce message ; nous les interpellerons à ce sujet lors du débat que la Fondation des femmes organise le 24 mars prochain à l auditorium de la maison du barreau de Paris Notre message est double  D une part, il faut des moyens, ce qui rend indispensable un ministère des droits des femmes doté d un budget suffisant (Applaudissements) D autre part, la question de l égalité entre les femmes et les hommes doit être envisagée de manière transversale : si l on veut dessiner, comme l a dit l un des candidats, un avenir désirable par l écologie et les nouvelles technologies, il faut se demander quelle est la place des femmes dans ce schéma  Cela vaut pour tout sujet : à chaque fois que l on entend tracer une voie pour demain, il faut avoir pour prisme l égalité entre les sexes  Autant dire que le féminisme n a pas pour seuls objets la contraception et le droit à l IVG  Les femmes doivent être partout et l égalité doit être pensée de manière transversale ; les féministes en ont conscience mais comment en convaincre les politiques, qui ont souvent tendance à nous cantonner à quelques sujets précis ?Il est vrai que, protégés par l anonymat rendu possible par internet, certains s autorisent les expressions les plus violentes  J ai le sentiment que la perte de pouvoir des hommes et le fait que les femmes gagnent en liberté et en égalité poussent certains à ce type de réaction ; c est ce qui transparaît dans l idéologie masculiniste Mme Rebecca Amsellem va maintenant nous expliquer la genèse du collectif Les Glorieuses, dont la célébrité subite a été due à un appel au retentissement inattendu  Cet appel invitait les femmes à arrêter de travailler le 7 novembre dernier à 16 heures 34, en soulignant que, si l on rapportait leur salaire à celui que perçoivent les hommes pour un travail équivalent, toute tâche qu elles effectueraient au-delà de cette date et de cette heure serait bénévole Le mouvement a été lancé en septembre 2015  Il s agissait au départ d une lettre hebdomadaire d information féministe ; nous la diffusons toujours  Nous l avons créée parce que nous connaissions trop de femmes manquant de confiance en elles-mêmes  Notre ambition initiale était de faire comprendre à nos lectrices qu elles peuvent tout faire : devenir cheffe d entreprise, professeure, élue de la République&#8230; Chaque mercredi, nous parlons d empowerment, de santé, d éducation et de toutes sortes d autres sujets, de manière que, ayant lu ces articles, nos lectrices se sentent plus puissantes  Notre lettre d information compte désormais 40 000 abonnés, dont 15 % sont des hommes  Nous avons lancé il y a peu Les Petites Glo, destinée aux adolescentes et écrite sous la forme du journal d une jeune fille de 16 ans &#8211; ce que nous aurions aimé pouvoir lire lorsque, adolescentes, nous étions en train de devenir féministes  Dans trois semaines, nous lancerons Glorious, la version anglophone de notre lettre d information Parce que l on ne peut se revendiquer féministe sans inclure une dose de politique dans son action et parce que nous nous étions rendu compte que les femmes sont un électorat privilégié du Front national, nous avons aussi publié, en décembre 2015, un manifeste encourageant les femmes à voter contre ce parti, en étayant cet appel par les arguments montrant en quoi le Front national est un parti dangereux pour les droits des femmes  Nous avons d autre part rédigé un manifeste visant à ce que le Syndicat national des journalistes (SNJ) inscrive dans sa charte de déontologie le respect de la parité pour les experts cités dans les medias L appel que nous avons lancé aux femmes pour les inciter à cesser de travailler le 7 novembre à 16 heures 34 est probablement la plus connue et la plus populaire de nos actions  Elle visait à susciter une prise de conscience générale de l inégalité salariale entre les hommes et les femmes en France pour provoquer l engagement de tous, chacun à son niveau  Des syndicats ont alors lancé des appels à la grève, notamment au journal Le Monde  Plus largement, grâce à cet appel, des femmes se sont rendu compte qu elles n étaient pas les seules dont les collègues masculins, à travail égal, étaient mieux rémunérées qu elles, et elles ont trouvé le courage de demander une augmentation  Nous avions pour idée de provoquer une prise de conscience, et aussi de faire que l on ne parle pas des droits des femmes uniquement le 8 mars, puisque toutes, ici, nous battons pour cela tous les jours L idée de cet appel nous a été inspirée par les Islandaises qui, le 24 octobre 2016 à 14 heures 38, sont descendues dans la rue par milliers pour dire le mal qu elles pensaient de l inégalité salariale persistante entre les hommes et les femmes  Alors que l Islande est le pays où la différence de salaire est de 9 %, le taux le plus faible au monde, il était frappant de constater que les Islandaises continuent de se battre pour parvenir à l égalité salariale parfaite Notre objectif était aussi de faire que l on cesse de rejeter le blâme sur les femmes en arguant que si elles sont moins payées c est soit qu elles « choisissent » de travailler à mi-temps ou d exercer un métier moins rémunéré que celui des hommes, soit que, souffrant du « syndrome de la bonne élève », elles n osent pas demander d augmentations de salaire  Ce dernier argument est peut-être le pire de tous : il revient à dire que même si les femmes sont parfaites, ce n est pas suffisant, et l on trouve encore un moyen de les blâmer Nous souhaitons maintenant participer plus largement au débat politique ; aussi avons-nous mis en ligne il y a quelques jours Les Femmes ont le pouvoir, plateforme politique non partisane  Elle comprend trois rubriques  La rubrique « S informer » vise à déterminer la position des candidats à l élection présidentielle 2017 au sujet des droits des femmes  Nous avons recensé ce qu ils ont fait à ce sujet précédemment et ce que proposent leurs programmes  On apprend ainsi que Mme Le Pen n est pas la candidate qui défend le mieux les droits des femmes &#8211; ce qui n est pas vraiment surprenant  Nous apportons la preuve qu au Parlement européen elle a voté systématiquement contre toutes les résolutions qui pouvaient améliorer ces droits en Europe &#8211; ainsi de la résolution sur l égalité des genres et l émancipation des femmes à l ère du numérique &#8211; et que, lorsqu elle ne vote pas contre ces textes, elle s abstient ou est absente lors du vote De manière plus optimiste, on constate que les programmes à ce sujet des autres candidats à l élection présidentielle sont plus intéressants qu ils ne l ont jamais été  L un deux propose de faire du droit à l avortement un droit constitutionnel, un autre de rendre la procréation médicalement assistée légale pour toutes  On note encore la proposition d interdire de subventionner les associations qui ne respectent pas l égalité entre les femmes et les hommes et celle qui vise à aligner le congé de paternité sur le congé post-natal  Recenser et diffuser les informations sur ce que les candidats ont fait au cours de leurs mandats précédents permet de mesurer l intérêt réel qu ils portent aux droits des femmes La rubrique « S inspirer » de la plate-forme fournit des cartes interactives des initiatives prises dans le monde en matière de droits des femmes, qui fonctionnent et qui pourraient être appliquées ailleurs &#8211; par exemple, l interdiction signée par le maire de Londres d afficher des publicités sexistes dans le métro de sa ville Enfin, la rubrique « S engager » vise à ce que chacun exprime ses propres propositions relatives aux droits des femmes Je précise à nouveau que notre projet n est pas partisan : nous ne choisirons ni ne soutiendrons un candidat Les femmes représentent 52 % de la population et 53 % du corps électoral  Elles ont donc le pouvoir, et il est temps qu elles le sachent  L objectif des Glorieuses est de faire se rassembler celles et ceux qui ont compris que ce combat n est pas une guerre des genres mais une nécessité pour arriver à la paix entre les genres  (Applaudissements)Je ne saurais vous donner une date précise, mais c est en cours de construction  Nous faisons face aux mêmes problèmes que ceux qui se sont posés à votre génération &#8211; des différences de courants et des divisions sur certains sujets &#8211; mais des regroupements se dessinent et des collaborations se profilent  Nous surfons sur une vague, nous ne demandons qu à la faire grossir et je nous fais confiance pour dépasser les clivages  (Applaudissements) Les mouvements féministes ne vivent pas que d eau fraîche : ils ont besoin d argent qu il faut savoir trouver, et peut-être les femmes parviennent-elles moins que les hommes à réunir des fonds, car elles sont moins en réseaux  C est l une des pistes suivies par la Fondation des femmes Je vous remercie de m avoir invitée en qualité de « nouvelle féministe »  Mais si j ai pu me découvrir telle, c est parce qu il y a eu d innombrables féministes avant moi  Beaucoup sont présentes aujourd hui et je vous remercie de ce que vous avez fait pour nous ; si nous sommes ici, c est aussi grâce à celles qui ont mené ce combat avant nous  (Applaudissements)La création de la Fondation des femmes s explique par l urgence de parvenir à une égalité tangible dans une situation paradoxale  D une part, on assiste à un bouillonnement d initiatives féministes à la visibilité croissante : même si elles demeurent périphériques, les féministes n étaient pas aussi visibles que nous le sommes il y a vingt ou trente ans, époque à laquelle aucune star internationale ne se déclarait féministe pendant des concerts, devant des centaines de milliers de personnes  Il y a un élan vers une plus grande égalité, et la majorité des Françaises se déclareraient féministes ; on progresse donc, d autant que, ces dernières années, les législateurs ont beaucoup travaillé en ce sens, en France en particulier Mais, dans le même temps, on ressent une recrudescence sournoise de la domination masculine, sous de nouvelles formes, et l explosion d une violence de plus en plus forte à l encontre des femmes  Cela est dû à l apparition du nouveau territoire qu est l espace numérique, où prévaut la notion de liberté sans partage &#8211; mais toute féministe sait ce que signifie la liberté quand elle n est pas assortie de l égalité : la liberté totale, c est la loi du plus fort  C est ce qui se passe sur l internet, où des groupes d hommes mènent des raids à l encontre de femmes dont l expression, singulièrement quand elles se déclarent féministes, ne leur convient pas  La violence exercée est telle que certaines femmes en viennent à quitter cet espace  De même que le harcèlement de rue les conduit à abandonner l espace public, par exemple en ne sortant plus tard le soir ou en rentrant en taxi ou en métro plutôt qu à pied, de même, dans l espace numérique, les femmes, par peur, sont contraintes de se cacher, de s exprimer sous pseudonyme, de cesser de donner leur opinion La violence prend aussi la forme de la vengeance par la pornographie &#8211; revenge porn &#8211;, pratique consistant à diffuser des images à caractère sexuel sans le consentement des personnes concernée  La Fondation des femmes a travaillé sur ce sujet  En effet, nous appuyons les associations financièrement, matériellement et juridiquement  Notre réseau d une soixantaine d avocates bénévoles sont à leur disposition et toutes peuvent faire appel à nous pour toute question d ordre juridique  Ces avocates ont accompagné un collectif d associations afin de déterminer comment mieux condamner le revenge porn ; cela a été fait dans le cadre de la loi pour une République numérique promulguée en octobre dernier Outre le fait qu Internet a permis l apparition de nouvelles formes de violences et qu il les démultiplie, le capitalisme et la marchandisation de toute chose contribuent à la diffusion de représentations de plus en plus genrées et stéréotypées : il va sans dire qu en fabriquant des dentifrices bleus « pour les hommes » et roses « pour les femmes », on incite les familles à acheter deux tubes quand un seul suffirait L époque est celle d une représentation hyper-sexualisée très violente pour les femmes &#8211; voyez combien est dégradante et humiliante la dernière campagne publicitaire de la maison Saint Laurent  Que se passe-t-il donc dans la tête des hommes ? Comment expliquer la haine des femmes qui explose dans ces images ? La diffusion massive de la pornographie n aide pas, et le pire est que la multiplication de telles images fait que l on s y accoutume ; il en résulte ainsi qu un homme venu à une réunion de la Fondation des femmes il y a quelques jours m a dit ne pas comprendre ce que ces images ont de choquant  Simone de Beauvoir le disait justement : « Ce qu il y a de scandaleux dans le scandale, c est qu on s y habitue » Prévaut aujourd hui une grande sournoiserie : le prétendu « blues de l homme blanc » &#8211; le pauvre  &#8211; qui s invente une perte de pouvoir  Ce discours sur une prétendue « dévirilisation » de la France, dont le sort funeste tiendrait à ce qu elle s est féminisée, est relayé par MM  Zemmour, Buisson et Debray depuis une quinzaine d années et de plus en plus fortement depuis cinq à sept ans ; il influence les esprits  De même, il est très regrettable, et même révoltant, de savoir qu une majorité de femmes blanches ont voté pour Donald Trump alors que son élection à la présidence des États-Unis a été analysée comme la revanche des hommes blancs  Un discours masculiniste particulièrement pervers se développe, qui appelle la plus grande vigilance Nous avons donc créé la Fondation des femmes car, face à ces menaces, un tissu d associations engagées est indispensable, et des solutions tangibles pour répondre à l espérance d égalité qui se manifeste  Cela montre l importance d associations telles qu En avant toute(s), que nous accompagnons et qui apporte des solutions concrètes à des jeunes femmes victimes de violences  De plus grands moyens sont nécessaires pour permettre à ces associations de se développer et de travailler ensemble, car faire émerger le « nous féministes » demande du temps, des espaces collectifs et, un jour peut-être, de cités des femmes  La Fondation des femmes se concentre sur les moyens à apporter aux associations et collectifs centrés sur les femmes, les féministes et les droits des femmes, sans entrer dans les débats qui peuvent les opposer Mme Monique Dental a évoqué les « porteurs de valises », faisant référence aux compagnons de route français anticolonialistes du FLN algérien  C est l optique de la Fondation des femmes : nos valises sont l argent et les armes juridiques que nous allons chercher pour les mettre à la disposition du plus grand nombre possible d associations, afin de renforcer les droits des femmes confrontées à des menaces croissantes  (Applaudissements)Les membres de notre association ont créé un site Internet conçu pour permettre à des jeunes filles, pour la plupart mineures, d exposer leurs questionnements sur leur couple et éventuellement les violences qu elles subissent  La plateforme est ouverte les lundis, mardis et mercredis  L association intervient également en milieu scolaire pour éduquer les jeunes à l égalité entre les hommes et les femmes et à combattre les stéréotypes sexistes de genre  Nous avons été relayées sur Paye ton couple, qui est l une des suites de Paye ta shneck ; nous en sommes très contentes car cela a donné de la notoriété à notre plateforme, adaptée aux jeunes qui ne se reconnaissent malheureusement pas dans les courants féministes anciens, ni même dans le mot « féministe »  Enfin, nous déplorons que les mineures ne soient pas prises en compte dans les statistiques relatives aux violences faites aux femmes  (Applaudissements) Je vous félicite pour votre travail  Il est vrai que les mouvements féministes évoqués sont ceux du siècle précédent&#8230;On peut devenir féministe très tôt si l on sent que les choses ne se passent pas comme elles devraient à la maison, là où tout commence : les parents ont une responsabilité à ce sujet  Pour ma part, je l ai ressenti très jeune  Je vous remercie toutes pour les initiatives que vous avez prises car elles donnent envie de rejoindre ces collectifs et nous donnent une légitimité &#8211; et c est ainsi que nous gagnerons ces combats Une représentante du Fonds pour les femmes en Méditerranée  Le Fonds pour les femmes en Méditerranée soutient les associations de femmes des pays du pourtour méditerranéen, France comprise  Nous accompagnons aussi, dans ce bassin, le renforcement du mouvement de la jeunesse féministe et je tiens à rendre un hommage particulier aux femmes et aux féministes qui, au cours des révolutions arabes en Tunisie et en Égypte, ont dénoncé avec un grand courage le harcèlement dans la rue  Je me réjouis de cette constellation de jeunes féministes  Nous, vos aînées, sommes très fières de ce que vous êtes  La question est maintenant de savoir comment en venir à une action commune  Puisque vous êtes une multitude, comment vous fédérer ? Comment user de l intelligence collective pour ne pas répéter nos erreurs passées et parvenir, cette fois, à faire cause commune ?Je voudrais suggérer à Mme Anaïs Bourdet de faire un test en demandant à celles d entre nous qui ont déjà été harcelées dans la rue de lever la main Mesdames, qui, parmi vous, a déjà été harcelée dans l espace public ou dans les transports ? (Toutes les femmes présentes lèvent la main ) C est la réponse à laquelle nous nous attendions, malheureusement On a beaucoup parlé de ce qui se passe en France  Vous avez rappelé l importance d une approche féministe intersectionnelle  Avez-vous aussi noué des solidarités avec des mouvements à l international ?En ce qui concerne plus précisément le cyberharcèlement, auriez-vous remarqué que les défenseuses des droits humains sont spécifiquement visées parce que plus exposées ?Pour ce qui est de la solidarité internationale, notre approche intersectionnelle, qui prend en considération les oppressions liées aux origines, nous permet de parler de thématiques qui concernent non seulement la France, mais aussi plusieurs autres pays  Souvent, ces liens internationaux sont créés avec des personnes de certaines communautés culturelles ou pays qui ont de la famille sur place ou dont la venue en France est récente Sur le second point, je l ai dit, nous avons été forcées d étendre aux cyberviolences notre mobilisation, qui était d abord particulièrement dirigée contre le cyberharcèlement à caractère sexuel  En effet, le fait d être une femme qui dispose d une plateforme sur laquelle s exprimer, et d y défendre des idéaux en réaction aux violences subies, expose lui-même à énormément de violences  Or les plateformes d hébergement de contenus se mobilisent encore très faiblement contre ces violences, car le phénomène reste méconnu et parce que, de manière très générale, les violences faites aux femmes sont rarement prises au sérieux Nous avons rencontré ce phénomène de violence lorsque nous avons travaillé sur le sexisme dans les jeux vidéo  J aurais voulu exclure les jeux sexistes du bénéfice du crédit d impôt accordé aux jeux vidéo (CIJV) ; je n y suis pas arrivée, mais je ne désespère pas  Certaines gameuses se disent obligées de prendre des pseudonymes masculins pour ne pas se faire insulter  Mar_Lard, celle qui a dénoncé le sexisme des geeks, s est fait copieusement injurier, voire harceler ; une autre, aux États-Unis, a dû déménager pour se mettre à l abri  Le monde des jeux vidéo demeure très sexiste À quel moment se sent-on donc féministe, Anaïs ?Je me suis découverte féministe sur le tard, mais je me suis alors rendu compte que c était un état ancien &#8211; par exemple, que je m étais toujours bagarrée pour avoir ma place en tant que fille à l école  J observe que de plus en plus de jeunes se revendiquent féministes et luttent activement pour leurs droits, ce qui est une bonne nouvelle  Il en découle que Paye ta shnek fait des petits &#8211; par exemple Paye ton bahut, qui a été ouvert par une lycéenne C est un phénomène qu il faut prendre en considération, en particulier s agissant des plus jeunes  Nous savons tous que de jeunes lycéennes &#8211; et collégiennes &#8211; se sont suicidées, et aussi des garçons, à cause du cyberharcèlement  L Éducation nationale a pris le phénomène au sérieux, des mesures témoignent de cette attention, mais l ensemble des personnels ont besoin d être formés pour pouvoir reconnaître ce harcèlement Sans vouloir franciser tous les termes, j ai d ailleurs un peu regretté l utilisation à ce sujet de termes anglais qui ne disent pas suffisamment la violence du phénomène  Le revenge porn, la vengeance pornographique, se comprend bien ; mais on parle de happy slapping pour désigner le fait de filmer une violence et de la mettre aussitôt sur internet en s en réjouissant, alors que la chose n a rien de happy  J ai donc demandé que l on traduise ces termes en français pour exprimer plus immédiatement leur très grande violence, qui produit une grande souffrance &#8211; dont la Délégation a reçu des témoignages Deux questions nous ont été posées par internet via le formulaire en ligne relatif à ce colloque :&#8211; « À quel âge et à quel moment se sent-on féministe ? »&#8211; « Comment inclure la lutte contre le racisme au sein du mouvement des jeunes féministes sans qu il relève d une seule communauté ? »Bien sûr  C est pour cela que l on parle d intersection Le sexisme est englobant  Il n y a là rien d incompatible En ce qui concerne le cyberharcèlement, nous avons réécrit la définition du harcèlement sexuel en 2012, le Conseil constitutionnel ayant annulé la précédente définition à l occasion d une question prioritaire de constitutionnalité (QPC)  C est la première loi que nous avons adoptée, en juillet 2012  Je pense que la définition actuelle est bonne et satisfait tout le monde lorsqu il s agit de lancer des poursuites pour harcèlement  Mais je n ai pas le souvenir que nous ayons parlé à l époque de cyberharcèlement, et je me demande pourquoi  Nous avons cité le terme une fois dans le cadre de la loi du 4 août 2014 pour l égalité réelle entre les femmes et les hommes  Surtout, nous en sommes venus à cette notion, et nous y avons beaucoup travaillé en faveur des victimes, en modifiant la loi pour assouplir le régime de la preuve, ainsi qu à travers certaines dispositions de la loi pour une République numérique  C est alors que le collectif Féministes contre le cyberharcèlement nous a sollicités Ma présence aujourd hui, comme personne issue de la société civile, a effectivement été rendue possible par une mobilisation en ligne contre le cyberharcèlement : en premier lieu, le cyberharcèlement à caractère sexuel ; désormais, plus largement, les cyberviolences Comme Paye ta shnek, nous nous déployons majoritairement dans l espace numérique immatériel, où, à l instar d Anaïs, qui a donné de la substance à la notion de harcèlement de rue, nous avons pu donner de la substance à la notion de cyberharcèlement &#8211; deux phénomènes malveillants que beaucoup de personnes s acharnaient à dire inexistants  Notre lutte, comme l a dit Mme Coutelle, a été facilitée par le fondement légal que nous a apporté son amendement à la loi pour une République numérique, en 2016 On pourrait définir le cyberharcèlement comme une persécution menée à plusieurs ou seul, via les outils numériques et les nouvelles voies de communication, contre un individu, souvent une femme &#8211; car il s agit d une violence genrée &#8211;, dans le but d atteindre son intégrité morale et physique  Il fait plus largement partie des cyberviolences, qui sont, dans une optique féministe, la continuation, par des canaux modernes de communication et par des outils numériques, des injonctions et violences faites aux femmes Le cyberharcèlement a la particularité de réinitialiser tout ce que l on savait du harcèlement en matière de temps et d espace : il peut être mené en continu par des centaines de personnes et, en quelques heures, la victime peut devenir une personnalité publique, avec tout ce que cela implique  Cette perte forcée de l anonymat et du pseudonymat entraîne une mise en danger, une vulnérabilisation, et surtout une surveillance de la personne : de ses déplacements, de ses propos, de son lieu de travail, parfois de son lieu d habitation Ce savoir assez inédit et très peu théorisé, nous l avons obtenu par l intelligence collective  Au départ, nous étions une trentaine de jeunes femmes &#8211; c est très important pour la suite  L intelligence collective, c est un travail d équipe dans lequel chaque contributrice apporte un labeur et un savoir situé  Il diffère du simple travail collectif par la relation entre les membres  L intelligence collective permet le respect mutuel de nos expériences, la priorisation des victimes d une oppression dans la prise de parole et la dénonciation de cette oppression, et surtout la création d un savoir dynamique  C est en ces sens que nous exhortons les associations, organismes et institutions bien installés à collaborer avec nous, jeunes féministes et jeune association, et à nous accorder les moyens et la crédibilité nous permettant d échanger avec eux d égal à égal  Nous remercions le Centre régional d information et de prévention du sida (CRIPS) d Île-de-France, le HCEfh et le Planning familial, entre autres, qui s orientent vers cette voie Nous agissons selon une démarche d innovation sociale  L innovation sociale, c est l élaboration de réponses nouvelles à des besoins sociaux nouveaux, impliquant la participation et la coopération des personnes concernées par ces nouvelles problématiques  C est dans cette optique que nous nous réclamons du féminisme intersectionnel  Car il existe des femmes aux parcours différents, qui subissent des violences différentes, et confrontées à des injonctions différentes Notre collectif est majoritairement constitué de femmes afrodescendantes ; en ce sens, nous nous affirmons féministes décoloniales, c est-à-dire que nous voulons la fin des représentations coloniales qui semblent encore nous entourer et, dans les faits, nous étouffent  Il y a encore des difficultés, dans notre contexte national, à parler de ce pan de notre histoire et de ses conséquences sur la construction des individualités et le rapport à l altérité  Une association étudiante de Paris 8 en a récemment fait les frais  Mais c est très important, et je dois vous dire pourquoi Lors du premier harcèlement de rue que j ai vécu &#8211; j avais quinze ans &#8211;, un homme d une cinquantaine d années, blanc, m a dit : « Tiens, je te donne mon numéro, parce que moi j en ai marre des femmes blanches, elles savent pas s occuper des hommes ; moi j aime bien les Africaines et les Noires ; tu prends mon numéro, tu me demandes de l argent quand tu veux  » Cette interaction était non seulement sexiste, et dangereuse en raison de mon âge, mais également raciste  Or c est le quotidien d énormément de Françaises et de femmes, en France, issues de l immigration L origine, il faut l admettre, est un outil de contrôle des femmes  Elle sert aux personnes malveillantes à les contraindre, à les contenir, à stigmatiser leur expression personnelle, ainsi que leur sexualité ou des caractéristiques assez aléatoires comme le rapport à la douleur  Nous avons remarqué empiriquement que l origine permet par exemple de légitimer certains cas de cyberharcèlement ou d hypersexualiser des photos ou des vidéos qui, en elles-mêmes, ne sont ni sexuelles ni intimes C est en ce sens que nous estimons nécessaire d écouter, comme vous le faites aujourd hui, ces cyberféministes qui agissent sur le terrain immatériel, car des intersections telles que genre et handicap visible, genre et poids, genre et transidentité peuvent particulièrement exposer aux cyberviolences  (Applaudissements )Vous avez tout à fait raison : aucun lieu n est exempt de sexisme  J ai été frappée par l enquête selon laquelle 100 % des Franciliennes déclaraient avoir un jour subi un harcèlement dans les transports  Ce chiffre est stupéfiant Tous les combats se croisent, mais toutes les femmes dont vous avez parlé, qu elles soient lesbiennes, d origine africaine ou en situation de handicap &#8230; &#8211; sont femmes En ce qui concerne les hommes, je suis beaucoup moins optimiste  Même si nous avons dans notre association des adhérents hommes, dont deux membres de Zéromacho, et même si j ai bien entendu les principes énumérés par Frédéric Robert, aujourd hui encore, même les hommes ouverts au féminisme, même ceux qui se battent pour ne pas rester dans la domination masculine donnent l impression de nous faire un petit cadeau&#8230; Je ne ressens pas de véritable changement dans le milieu masculin Un exemple  À la fin de la bande-annonce du film Patients de Grand Corps Malade, on entend : « C est dommage que les femmes handicapées soient dans un fauteuil roulant, parce qu on ne peut pas savoir si elles ont un gros cul  » J en ai parlé à beaucoup de messieurs soi-disant féministes ; ils m ont répondu : « Tu ne vas quand même pas prendre la mouche pour ça  C est normal »  Pour moi, ce n est pas normal  Malgré tout notre travail, il y a encore beaucoup à faire  Tant qu on ne nous respectera pas en tant que femmes, totalement femmes, on ne pourra pas réellement avancer  Tous les hommes présents ici et ailleurs devraient affirmer que l on n a pas le droit de dire que si une femme handicapée est en fauteuil roulant, on ne verra pas son postérieur  Cela résume parfaitement le travail qui nous reste et notre difficulté, à nous, femmes, à être dans les faits les égales de nos partenaires masculins Je suis ravie d être là et de découvrir d autres initiatives que la mienne  Je suis particulièrement heureuse de m exprimer au même moment que le collectif Féministes contre le cyberharcèlement, car notre démarche et le courant dans lequel nous nous inscrivons sont similaires Je commencerai par expliquer l origine de mon projet En 2012, une jeune vidéaste belge, Sofie Peeters, a filmé en caméra cachée ses déplacements dans l espace public à Bruxelles  Dans sa vidéo, on observe les nombreux épisodes de harcèlement auxquels elle est confrontée de la part de nombreux inconnus qui tiennent des propos très violents, très insistants, très sexualisés  Elle a ainsi révélé à la face du monde ce que pouvait vivre une femme qui se déplace dans l espace public Pour moi, comme sans doute pour beaucoup de femmes, cette vidéo a été une révélation  Je me suis dit que moi aussi, en fait, je vivais ça, depuis des années, et que je le vivais comme si c était normal  C était admis, c était comme ça, je n en avais jamais parlé  Après un énième épisode de harcèlement qui a suivi le visionnage de cette vidéo, j ai décidé de lancer ma première conversation entre copines sur le sujet  Le résultat a été absolument affligeant : aucune d entre nous n avait été épargnée  Les injures, les mains au cul, les agressions sexuelles, les viols, les suiveurs, les frotteurs : toutes les formes de violence sexuelle et sexiste étaient représentées  Aucune de nous ne pouvait dire qu elle n avait jamais été harcelée dans l espace public  Cette conversation a été un second choc J ai alors commencé à suivre de plus près le débat ouvert par la vidéo de Sophie Peeters  Celle-ci avait créé un énorme buzz  Pour la première fois, on a mis un mot sur le phénomène : le « harcèlement de rue »  Le terme date donc à peu près de 2012 En suivant ce débat, j ai été particulièrement marquée par deux aspects  Premièrement, un énorme déni : beaucoup disaient que ce n était que de la drague, qu on aurait dû être flattées d être abordées en permanence et que, grosso modo, ce n était pas très grave  Deuxièmement, un racisme exacerbé  Dès qu on évoquait le harcèlement de rue, il y avait une levée de boucliers : « c est eux, c est pas nous »  En tant que femme, je peux pourtant témoigner de la diversité des profils des hommes qui m ont harcelée dans l espace public ou dans les transports C est ce qui m a décidée à lancer mon initiative : j ai ouvert un Tumblr, un blog qui s appelle Paye ta shnek &#8211; un nom aussi fleuri que ce que je peux moi-même entendre dans la rue  L idée est de collecter tous les propos qui nous sont adressés quand nous nous déplaçons dans l espace public, et de les géolocaliser pour prouver que le harcèlement de rue s illustre absolument partout, et non pas seulement dans les quartiers dits populaires comme peuvent le prétendre les médias J ai reçu plusieurs centainerés de témoignages en quelques jours  Quatre ans et demi plus tard, j en suis à 13 000 : une sacrée collection de témoignages sur les violences sexistes dans l espace public et les transports  Je suis ainsi un peu devenue, sans le vouloir, la confidente de toutes les victimes du harcèlement de rue J aimerais profiter de l occasion qui m est donnée pour restituer devant vous ce qu elles m ont appris, mon expérience seule n étant absolument pas représentative de la réalité du harcèlement de rue Premièrement, à propos de ces 13 000 témoignages, il est très rare de ne pouvoir parler que de sexisme  La plupart du temps, les agressions subies par les personnes qui témoignent sur Paye ta shnek attestent de plusieurs oppressions à l intersection desquelles se situe la personne  Bien souvent, il y a du sexisme et du racisme ; du sexisme et de l homophobie ; du sexisme et de la transphobie ; du sexisme et de l islamophobie  Très souvent, une autre forme d oppression vient croiser le sexisme  Je ne peux donc pas analyser le contenu de ce recueil à travers le seul prisme du sexisme Pour illustrer mon propos, je voudrais vous citer plusieurs témoignages, qui vous parleront bien mieux que moi Je reçois beaucoup de témoignages de femmes noires qui sont exotisées et hypersexualisées par des inconnus  J ai en tête l exemple de cette jeune femme à qui, lors d une fête de village, un homme qu elle ne connaissait pas a dit qu il n avait jamais léché les seins d une Noire, de façon tout à fait naturelle et détendue et, évidemment, avec un regard lubrique Concernant l homophobie, je peux vous citer ce jeune couple de femmes qui traversait tranquillement un parc à Limoges et à qui un inconnu a proposé d aller se « faire péter la shnek », parce que « c est cool d être des soumises normales »  Les femmes lesbiennes sont elles aussi hypersexualisées, et renvoyées à une espèce de norme dont elles seraient exclues, la norme étant bien évidemment la soumission à un homme Concernant l islamophobie, je reçois beaucoup de témoignages de femmes musulmanes ou supposées telles qui sont agressées à la fois pour cette raison et parce qu elles sont femmes  Par exemple cette jeune femme marseillaise, voilée, qui m écrit qu un homme lui a dit dans le métro : « Bonjour petite beurette soumise  On dit de vous que lorsqu on vous libère, vous devenez complètement incontrôlables, des folles de sexe  Je veux bien t éduquer, mi-pute mi-soumise  » Ces témoignages se multiplient dans le contexte actuel de racisme et d islamophobie exacerbés Concernant le validisme, j ai reçu un témoignage qui m a marquée : celui d une femme qui se déplace en fauteuil roulant et qu un inconnu a coincée et menacée de viol, en disant fièrement qu elle ne pourrait pas se défendre et qu il pourrait donc faire d elle ce qu il voulait Le dernier exemple concerne la transphobie : il s agit d une femme trans à qui un jour, dans le métro, un homme a ordonné de se déshabiller devant tout le monde pour vérifier son genre Ces exemples ne représentent qu un minuscule échantillon, mais ils donnent une idée de la violence que peuvent subir les femmes qui se déplacent dans l espace public, pour diverses raisons qui ne se limitent pas au sexisme Que sont donc les nouveaux féminismes ? À mon sens, ce sont des féminismes qui prennent justement en considération ces intersections et qui ne traitent plus du sexisme seul  On ne peut pas parler du harcèlement de rue en ne parlant que de sexisme  Cela m est en tout cas impossible au vu des nombreux témoignages dont je dispose  Pour moi, les nouveaux féminismes, poussés par l avancée de l afroféminisme, sont donc nécessairement intersectionnels et se préoccupent également du racisme, de l homophobie, de la transphobie  C est mon seul regret au sujet de ce colloque : qu y soient très peu relayées ces questions d intersections, qui demeurent très périphériques dans la sphère politique alors qu elles sont à mon sens absolument centrales  Elles sont en tout cas primordiales dans notre pratique des féminismes Malgré tout, c est pour moi un honneur de m exprimer à l Assemblée nationale, particulièrement en ce jour doublement symbolique, la veille de la journée internationale de lutte pour les droits des femmes et le lendemain du jour où le parquet a décidé de classer sans suite l affaire Baupin &#8211; non sans reconnaître que les faits pouvaient être avérés  Je veux réaffirmer que nos luttes sont nécessaires, mais que tout le monde sait maintenant que le sexisme et les violences sexistes s expriment de la rue jusqu à l Assemblée nationale  Il est de notre devoir d être vigilantes à tous les niveaux et de ne rien laisser passer, où que ce soit  (Applaudissements )La seconde question qui a été lue était la mienne  Comment impliquer les hommes dans le féminisme, alors qu ils y perdent beaucoup de privilèges ?Je vais citer un exemple concret sur lequel j aimerais entendre votre réaction  Il y a quelque temps, Christophe Barbier a déclaré que l égalité salariale entre les hommes et les femmes était une utopie : c est économiquement compliqué, expliquait-il, parce qu il faudrait, du coup, baisser les salaires des hommes  Pour moi, c est sur ce point qu il existe une véritable friction au sein de la société, une barrière à laquelle se heurte le combat féministe  Du point de vue des valeurs, on arrive à un consensus : de moins en moins de gens, même s ils sont encore trop nombreux, pensent qu il est normal que les hommes et les femmes n aient pas les mêmes droits ; mais quand on va toucher au porte-monnaie, concrètement, on rencontre une limite Je suis tout à fait d accord Pour gagner en légitimité, il faudrait déjà baisser le salaire de Christophe Barbier  (Applaudissements ) Ce serait une mesure efficace : si on arrive à écarter des hommes comme lui du réseau des éditocrates français, on aura peut-être des éditocrates femmes, un peu plus de femmes qui iront sur les plateaux de télévision vous expliquer ce qu elles pensent sur tout comme si elles maîtrisaient le sujet, même quand elles n y connaissent rien ; ce sera un sacré pas en avant Le problème, c est que, pour l instant, ce sont toujours les mêmes personnes qui, depuis quelques décennies, hantent les plateaux de télévision  Je pense aujourd hui que la mise en place de quotas, notamment dans les lieux de pouvoir comme les plateaux télévisés et les réseaux d experts, à l image de ce qui existe dans les pays du Nord, serait un moyen d obliger les récalcitrants  (Applaudissements )Le Conseil supérieur de l audiovisuel (CSA) s en occupe  Sa mission dans ce domaine a été renforcée par la loi du 4 août 2014 et plus récemment encore, dans le cadre de la loi relative à l égalité et à la citoyenneté  Des actions ont été engagées en direction des chaînes de télévision concernant l égalité et la représentation des femmes, et notamment la présence d expertes ainsi que la lutte contre les propos sexistes : le CSA a d ailleurs adressé un avertissement à Cyril Hanouna pour les propos ultra-sexistes tenus dans son émission En novembre 2016, nous avons organisé un colloque à l Assemblée nationale avec Sylvie Pierre-Brossolette, membre du CSA et présidente de son groupe de travail sur les droits des femmes, et je peux vous assurer que le CSA prend le sujet très au sérieux  Reste qu il faut que le dispositif se mette en place Qu appelez-vous les « porteurs de valises » ?L expression fait référence aux Français qui ont soutenu les Algériens pendant la guerre d Algérie  Les militants de Types disaient qu ils n étaient pas seulement des porteurs de valises Je ne suis pas très à l aise pour répondre à cette question, car je ne suis pas sûr de maîtriser les tenants et aboutissants de cette notion  Mais il serait vraiment prétentieux de notre part de vouloir nous inscrire dans une tradition ou une filiation d hommes féministes : je le répète, à ma grande honte, nous sommes peu, beaucoup trop peu à militer, et je n ai pas l impression que nous ayons constitué une pensée qui ajoute grand-chose à ce que les militantes et les expertes ont déjà produit  Non par excès de modestie, mais du fait d un constat pratique, je nous crois donc plus utiles comme auxiliaires et comme supports que comme experts Pour rebondir sur la question des hommes dans le féminisme, nous avons chez nous une petite cellule d hommes : ils sont minoritaires, mais ils sont bien là  Nous avons commencé par les former, à leur demande : ils nous ont expliqué que leur situation était compliquée, parce qu ils avaient tendance soit à tomber dans tous les travers des hommes qui se revendiquent féministes &#8211; être bavards, monopoliser la parole, etc  &#8211;, soit à ne rien faire et à se cacher dans un coin : bref, ils faisaient de la figuration, et cette inversion des rôles n est pas forcément préférable à leur répartition habituelle  Bien que nous soyons une toute petite structure, nous avons donc formé les garçons, en reprenant la liste citée par Frédéric Robert et qui figure, je crois, dans la base de données d à peu près tout le monde chez nous  De même que nous avions formé les filles à prendre la parole sans s excuser à l avance parce que ce qu elles vont dire a peut-être déjà été dit, nous avons appris aux hommes à se taire, et, surtout, à ne pas interrompre J aimerais interroger Frédéric Robert sur le rôle des hommes « porteurs de valises » dans le féminisme  Zéromacho se revendique-t-il d une telle attitude, ou agissez-vous autrement ? Quelle est par exemple la différence entre Zéromacho et les hommes avec lesquels nous nous sommes beaucoup battues de 1975 à 1985 pour obtenir la criminalisation du viol et dont le mouvement, Types, a produit des revues très intéressantes sur la déconstruction des archétypes masculins ?Je ne suis pas certain d être le mieux placé pour répondre à la première question, mais je vais tout de même m y efforcer Effectivement, les hommes ne sont pas forcément légitimes pour prendre part au combat féministe et, dès lors, doivent plutôt s y positionner en tant qu auxiliaires venant soutenir la parole féministe, portée par la voix des femmes  Si le féminisme reste un combat de femmes pour les femmes, à une époque où le marketing est devenu incontournable, il nous paraît intéressant de tirer parti de la singularité de la parole des hommes, et d utiliser cette clé d entrée pour nous faire entendre Il y a une quinzaine de jours, j ai assisté à une réunion au cours de laquelle a été posée cette même question &#8211; qui, il faut l avouer, revient assez souvent  Plusieurs femmes ont exprimé la revendication de voir se constituer des groupes de réflexion non mixtes, en invoquant un argument encore inédit  Je connaissais celui selon lequel il peut être difficile d évoquer les violences sexuelles en présence d un homme, mais j ai été surpris de m entendre dire que, dès lors qu un homme était présent, il fallait le rééduquer en lui donnant des explications sur une multitude de points, ce qui cause une perte de temps considérable par rapport aux assemblées constituées uniquement de femmes Si un homme féministe n est donc pas « illégitime » dans le combat féministe, sa présence au sein d un milieu militant féminin est intéressante mais sous certaines conditions Je sais que Zéromacho se bat aussi pour la reconnaissance de la notion de droits humains  La Délégation aux droits des femmes de l Assemblée nationale, qui souhaite également que l on parle de droits humains plutôt que de droits de l Homme, a obtenu une avancée dans ce domaine  Dans le cadre de l examen de la proposition de loi relative au devoir de vigilance des sociétés mères et des entreprises donneuses d ordre &#8211; récemment adoptée en lecture définitive à l Assemblée &#8211;, j ai en effet réussi à faire adopter un amendement visant à remplacer, à l article 1er, la notion de droits de l Homme par la notion de droits humains  Certes, ce n est qu un début, mais pour la première fois l expression « droits humains » est officiellement reconnue dans un texte de loi français, et nous espérons qu il continuera à en être ainsi désormais  (Applaudissements )Nous allons passer au débat sur cette première séquence, que je vais lancer en lisant deux questions que nous avons reçues par internet : « un homme féministe est-il légitime ? » et « comment réussir à mobiliser les hommes dans le combat féministe, sachant que cela implique pour eux une perte de privilèges ? »Je commencerai par vous faire part de mon plaisir d avoir été convié à participer à ce colloque sur les nouvelles féministes &#8211; au féminin pluriel, donc  Nous avons effectivement fait le choix de vous inclure dans cette appellation féminine Vous avez bien fait, et c est une grande satisfaction pour nous de voir que la langue progresse enfin Dès sa création en 2011, le collectif Zéromacho a été constitué comme une entité internationale, ayant vocation à dire non au machisme et surtout à son expression la plus extrême, à savoir la prostitution  C est Florence Montreynaud, fondatrice de plusieurs mouvements féministes &#8211; notamment Les Chiennes de garde en 1999 &#8211;, qui nous a encouragés à donner une visibilité à la parole des hommes contre la prostitution, une pratique où se superposent plusieurs formes d oppression  Ce sujet, qui nous paraissait être l un de ceux sur lesquels les hommes étaient le plus légitimes à s exprimer, représente un combat très clivant  Bien que tout le monde ait un avis sur la question de la prostitution, celle-ci est en réalité très mal connue  Il était intéressant de faire entendre une parole masculine dans un domaine où il existait une majorité silencieuse, à laquelle nous pouvions donner une voix  C était également l occasion d exprimer notre engagement à considérer les femmes comme les égales des hommes, et à estimer que le refus de la prostitution constituait une clé d entrée du féminisme Je ne pense pas que nous ayons précédé la prise de conscience qui a eu lieu sur ce point en France  En revanche, nous nous félicitons d avoir contribué à l avancée de la loi, notamment en prenant part au collectif Abolition 2012, qui a regroupé plus de soixante associations féministes  Il fallait convaincre certains politiques, certaines féministes, une grande partie de la population, des journalistes et des intellectuels pour qui la réouverture des maisons closes constituait une réponse à la prostitution  Pour avancer sur cette question, il a fallu que Mme Catherine Coutelle et Mme Maud Olivier fassent preuve chaque jour, durant trois ans, d une détermination sans faille  Aujourd hui, la loi existe, mais tout reste à faire en matière d accompagnement de la sortie de la prostitution, de droits des étrangers mais aussi et surtout de responsabilisation des délinquants  Il nous paraissait important de dire avec force que les hommes doivent accepter leur responsabilité, leur complicité, voire leur culpabilité dans les violences, les inégalités et les brimades dont sont victimes les femmes Nous ne cherchons ni à nous sentir meilleurs, ni à être donnés en exemple, mais souhaitons avant tout réfléchir sur nous-mêmes et essayer de déconstruire, très modestement, ce qui constitue notre héritage culturel en tant qu hommes  Nous écrivons, nous manifestons, nous nous efforçons d être présents sur les réseaux  Pour cela, nous nous sommes constitués en association, mais sans chercher à attirer un trop grand nombre de personnalités afin de conserver la plus grande marge de manoeuvre possible, et en faisant en sorte que le collectif reste le plus actif Si nous n avons pas grand-chose à apporter aux militantes féministes en matière de théorie et de recherche, nous présentons un avantage, celui de pouvoir faire entendre la parole féministe à certains hommes particulièrement imperméables à cette question &#8211; l homme de la rue se situe généralement au niveau zéro de la conscience des problèmes posés en la matière  En effet, il nous a semblé que la singularité consistant à être un collectif d hommes permettait de désamorcer un peu cette posture défensive J ai découvert le féminisme sur le tard, il y a une quinzaine d années, avec Les Chiennes de garde et La Meute, et cela a été pour moi comme si je chaussais des lunettes adaptées à ma vue : voyant net pour la première fois, je ne pouvais plus envisager de les retirer  Cela dit, pour un homme, la prise de conscience se fait généralement de manière progressive, car on part de loin  Elle est d autant plus difficile qu elle doit nécessairement s accompagner du disempowerment, un terme dont je ne saurais vous donner la traduction française, mais qui signifie le fait pour un homme d abandonner tous les privilèges indus qui lui échoient en tant qu homme  Cela implique de refuser de siéger dans des lieux de pouvoir masculins, pour laisser la parole aux autres &#8211; je suis bien conscient de la contradiction qu il y a pour moi à dire cela aujourd hui, alors que je m exprime à cette tribune devant une assemblée très majoritairement féminine Pour conclure, je voudrais citer quelques phrases tirées du blog tenu par l Américaine Kettetastic, constituant des conseils aux hommes pro-féministes, qui ont tous les mêmes défauts « Prenez conscience du fait que les discussions ne tournent pas toutes autour de vous » « Soyez conscients de vos privilèges » « Apprenez à écouter » « Résistez à la tentation inconsciente de vouloir dominer » « Essayez de ne pas être défensifs » « Sachez que ce n est pas notre tâche que de vous éduquer » « Si les gens vous traitent de trolls, c est qu il y a probablement une bonne raison à cela » « N essayez pas de jouer au chevalier servant » « Les femmes ne sont pas un bloc monolithique » « Ne laissez pas faire d autres hommes lorsqu ils ont un comportement sexiste » « Ce n est pas parce que vous vous qualifiez de féministe que vous êtes exempt de ces suggestions » Enfin, « ne vous attendez pas à être gratifié d une tape dans le dos parce que vous suivez ces suggestions »  Je ne vous cache pas que cette dernière recommandation est sans doute l une des plus difficiles à suivre  Bien que je réfléchisse depuis quinze ans sur moi-même et mon comportement, je m attends toujours à être félicité lorsque j étends le linge ou que je fais la vaisselle  (Applaudissements )Lorsque l amendement sur la « taxe tampon » a été examiné à l Assemblée, l un de mes collègues m a confié avoir demandé à ses collaboratrices de lui expliquer les choses  Quant au secrétaire d État chargé du Budget, qui a pourtant l habitude de traiter de sujets nombreux et extrêmement sérieux du fait de ses attributions, il nous a dit n avoir jamais reçu autant de messages qu au sujet de cette taxe, ce qui l a conduit à rendre les armes et à accepter le principe de la réduction du taux de TVA sur les produits d hygiène féminine Je vais maintenant donner la parole à Frédéric Robert, porte-parole de Zéromacho  Ce réseau nous a accompagnés &#8211; peut-être nous avait-il même précédés &#8211; dans le combat que nous avons mené trois ans durant, au sein de l Assemblée, contre le système prostitutionnel  Je précise qu auparavant, Danielle Bousquet avait rédigé un rapport d information ayant abouti à l adoption d une résolution parlementaire  La France a aujourd hui une position abolitionniste qu elle s efforce de défendre dans le monde entier, ce dont je suis très fière  J ai assisté le mois dernier en Inde au congrès international contre l exploitation sexuelle des femmes et des filles, organisé par la Coalition pour l abolition de la prostitution, au cours duquel des survivantes ont apporté leurs témoignages : je peux vous assurer qu après avoir entendu ces récits, nul ne pourrait encore prétendre que la prostitution est un choix Madame la présidente, je vous remercie d avoir invité Georgette Sand à prendre part à ce colloque  Nous faisons partie de ce qui constitue effectivement une véritable constellation d associations et de collectifs féministes &#8211; il s en crée actuellement environ un par jour Constitué en 2014, le collectif Georgette Sand était initialement sous-titré : « Faut-il s appeler George pour être prise au sérieux ? »  Nous avions effectivement constaté que, même au sein d une école aussi prestigieuse que Science Po, par exemple, il n était pas rare que George Sand soit plus connue pour ses amours romantiques avec Chopin et Musset que pour les nombreux ouvrages qu elle avait elle-même publiés et pour les deux journaux politiques qu elle avait créés  Très peu de gens savent, par ailleurs, que lorsque Gambetta a fui Paris au moment de la Commune, il l a fait à bord d un ballon portant le nom de George Sand, ce qui montre l importance et la notoriété qu elle avait de son vivant S il est frappant de constater que cette femme a dû, de son temps, singer les codes de la masculinité, en prenant un nom et un costume d homme, pour être prise au sérieux, il est tout aussi frappant de voir que, de nos jours, être un homme, le plus viril possible, constitue un gage de sérieux, tandis que la femme est condamnée à rester une petite chose mignonne qui gambade aux alentours, pour le plaisir des yeux  Nous regrettons que la publicité et les médias s en tiennent, aujourd hui encore, à cette image de la femme  La majorité des femmes intervenant dans les médias le font au titre de victimes ou de témoins, rarement d expertes, et elles ont intériorisé cette représentation, puisqu elles se présentent elles-mêmes par leur prénom plutôt que d indiquer, ou d exiger que l on indique en s adressant à elles, également leur nom de famille L idée qui a présidé à la création de notre collectif est donc la suivante : au XXIe siècle, il n est plus nécessaire d être un homme pour être pris au sérieux  Nous avons choisi de nous constituer en collectif plutôt qu en association, ce qui nous permet de ne pas avoir de structure juridique, de conseil d administration, d assemblée générale ou encore de budget  Pour travailler, nous nous réunissons au domicile de l une d entre nous et, partant d un sujet sur lequel nous avons repéré un article intéressant, par exemple, nous approfondissons ce sujet en menant une discussion Nous avons ainsi travaillé sur des questions très diverses, notamment celle des stéréotypes, consistant à se demander s il y a vraiment d un côté les hommes, de l autre les femmes, traditionnellement gentilles et dotées d une grande capacité d écoute Constatant que les insultes sont souvent à caractère sexiste, nous avons lancé sur internet un concours d insultes qui ne seraient pas fondées sur cette caractéristique Nous organisons également des débats mouvants, tel celui qui aura lieu ce soir sur le thème de la libération de la prise de parole féminine Nous avons mené une campagne sur les hommes dans le féminisme, car notre collectif est mixte &#8211; même s il comprend actuellement moins de garçons &#8211; et se revendique comme tel, ce qui constitue à nos yeux une avancée par rapport au féminisme de la génération précédente  Nous partons en effet du principe qu il ne saurait y avoir de révolution si seulement 51 % de la population veut s engager en faveur d une égalité réelle entre les droits des femmes et ceux des hommes Deux campagnes ont joué un rôle particulier dans la médiatisation de notre cause : celles consacrées à la « taxe tampon » et à la « taxe rose »  Concernant cette dernière, tout est parti de la lecture d un article paru aux États-Unis sur la différenciation des prix des articles vendus dans le commerce, selon qu ils sont destinés aux hommes ou aux femmes  Nous nous sommes rendues au Monoprix, où nous avons photographié des rasoirs et des déodorants, mettant ainsi en évidence des différences de prix &#8211; ce qui est d autant plus aberrant que les femmes sont moins bien payées que les hommes  Sur un mode collaboratif, notre alerte a donné lieu à des centaines de signalements, y compris à l étranger  La secrétaire d État chargée des droits des femmes nous a appelées, Le Parisien nous a consacré sa une et, un beau jour, nous nous sommes même retrouvées à la une du New York Times Peu de temps après, des femmes se sont mises à manifester en Argentine pour une « mutuelle sans utérus », c est-à-dire contre le fait que, pour bénéficier du même tarif de mutuelle que les hommes, les femmes devaient signer une déclaration par laquelle elles renonçaient expressément à la prise en charge des frais d obstétrique &#8211; gynécologie et maternité  Alors que notre téléphone n arrêtait pas de sonner, nous avons compris que nous avions déclenché un phénomène que nous ne contrôlions plus  À partir de ce moment, nous avons été contactées par des femmes de tous horizons et avons même dû recruter des Georgette interprètes afin de pouvoir communiquer avec ces femmes de Pologne, de Chine, du Congo ou du Sénégal Nous nous félicitons de cette ouverture qui fait que, globalement, notre combat s étend au-delà des droits économiques ou relatifs à la santé des femmes pour porter sur d autres sujets tels que la polygamie, par exemple  Les différents collectifs féministes ne travaillent pas en concurrence, mais en complémentarité  C est ce qui fait toute leur beauté et leur richesse, et c est également ce qui fait que l on ne saurait nous reprocher de travailler uniquement sur la taxation des tampons, des coupes menstruelles et des serviettes hygiéniques, alors qu il y a évidemment des thèmes plus graves Il faut reconnaître qu il existe aujourd hui plusieurs formes de féminismes, notamment celui véhiculé par Beyoncé, qui donne lieu à de vrais débats au sein des mouvements féministes, au même titre que le voile ou la prostitution  Beyoncé est une artiste qui, tout en arpentant la scène en culotte, reprend, dans sa chanson Flawless, la définition que donne l écrivaine nigériane Chimamanda Ngozi Adichie du féminisme : « Féministe : une personne qui croit en l égalité des sexes au niveau social, économique et politique »  On peut en penser ce qu on veut, notamment qu une telle conception du féminisme est fortement marquée par les impératifs du marketing, mais le fait est que, grâce à Beyoncé, de très nombreuses personnes se revendiquent aujourd hui féministes  Je le répète, c est toute la beauté, mais aussi l efficacité, de la nébuleuse de collectifs féministes que de s intéresser à tant de sujets différents et d apporter une telle diversité de points de vue, sans que, pris individuellement, aucun de ces collectifs prétende défendre l intégralité de la cause féministe et encore moins sauver les femmes  La contribution de Georgette Sand à cette oeuvre collective consiste à se demander comment faire pour que les femmes soient prises au sérieux  (Applaudissements ) ']\n",
      " [7780\n",
      "  ' (Je salue l intervention de M  Jean-Luc Warsmann, qui connaît bien ce dossier  Le Gouvernement a l obligation de demander l avis des commissions compétentes ; mais refuser de donner cet avis, c est encore donner un avis  Les commissaires peuvent refuser de prendre part au vote &#8211; ce que je regrette &#8211; mais ils ne peuvent pas bloquer la procédure S agissant des nominations « de dernière minute », mon cher collègue, je ne vous suis pas  Celui qui est élu exerce jusqu au dernier jour la plénitude des prérogatives qui lui sont conférées : c est la continuité républicaine  Comment, au reste, définir la « dernière minute » ? En tout état de cause, au regard tant du poste concerné que du profil de la personne dont la nomination est envisagée, je juge regrettable que le Sénat ait choisi de mener ce combat d arrière-garde  Il me semble normal que la procédure soit menée à son terme J entends votre objection, monsieur Warsmann, mais je propose à la commission des Lois de procéder au dépouillement  La séance, suspendue pour permettre le dépouillement du scrutin, est immédiatement reprise Mes chers collègues, voici les résultats du scrutin auquel il a été procédé le 21 février 2017 :Votants 19Blancs et nuls 0Favorables 17Défavorables 2Ce résultat sera transmis au Gouvernement La réunion s achève à 14 heures 55 Membres présents ou excusésPrésents  - M  Luc Belot, Mme Colette Capdevielle, M  Jean-Yves Caullet, Mme Françoise Descamps-Crosnier, M  René Dosière, M  Guy Geoffroy, M  Philippe Gosselin, M  Guillaume Larrivé, M  Jean-Yves Le Bouillonnec, M  Pascal Popelin, M  Dominique Raimbourg, M  Jacques Valax, M  Patrice Verchère, M  Jean-Luc WarsmannExcusés  - M  Ibrahim Aboubacar, M  Sergio Coronado, Mme Laurence Dumont, M  Daniel Gibbes, Mme Sandrine Mazetier, M  Pierre Morel-A-L Huissier, Mme Maina Sage, M  Roger-Gérard SchwartzenbergIl y a en effet une difficulté d interprétation de la Constitution, sur laquelle, je le souligne, il ne nous revient pas de nous prononcer  Le Gouvernement nous demande de dépouiller le scrutin et de lui en transmettre les résultats  Il lui appartiendra ensuite de décider s il procède, ou non, à la nomination Des recours seront probablement présentés, soit très prochainement, contre la nomination, devant le Conseil d État, soit devant le Conseil constitutionnel lorsque des élections législatives se tiendront dans de nouvelles circonscriptions dont le découpage aura été supervisé par cette commission et son président  C est le juge qui devra trancher  En attendant, je prends acte de la position du groupe Les Républicains Les nominations « en rafale » auxquelles procède l exécutif dans les dernières semaines ou les derniers mois d un mandat, qui laissent parfois un parfum de malaise, constituent une vraie difficulté ; c est aussi la question à laquelle nous sommes confrontés ici, et sur laquelle il faudra travailler J ai été rapporteur du projet de loi constitutionnelle de 2008 dont est issue la procédure de l article 13  Il n a jamais été question, en effet, pour le législateur, de donner à l une ou l autre des chambres du Parlement un quelconque pouvoir de blocage des nominations  Le Gouvernement a l obligation de demander un avis, mais il faudrait incontestablement prévoir un délai maximal, d un mois par exemple, pour tenir le scrutin  La décision prise par le Gouvernement ne me choque donc pas : quelle que soit sa couleur politique, je comprends qu il veuille passer outre après un délai raisonnable En revanche, je suis gêné par la demande de dépouillement du scrutin ayant eu lieu dans l autre assemblée, qui est pour le coup contraire aux textes  Je comprendrais, monsieur le président, que vous refusiez d y procéder Monsieur le président, vous nous présentez une analyse de la Constitution selon laquelle, si les parlementaires peuvent s opposer à une nomination proposée par le Président de la République, il n appartient pas à une assemblée d empêcher que la procédure de l article 13 soit menée jusqu à son terme  Toutefois, il n appartient pas non plus au Gouvernement de se soustraire à l obligation qui lui est imposée par la Constitution de ne procéder à la nomination qu après le vote des deux commissions concernées  De plus, les textes sont très clairs sur l obligation de dépouillement concomitant des scrutins de l Assemblée nationale et du Sénat  Ce différend d interprétation ne pourra être tranché, à l évidence, que par le juge constitutionnel Le groupe Les Républicains refuse de participer à ce qu il considère comme un abus d interprétation de la Constitution commis par le Gouvernement La réunion débute à 14 heures 35 Présidence de M  Dominique Raimbourg, président À la demande du Premier ministre, la Commission est invitée à dépouiller le scrutin auquel il a été procédé le 21 février 2017 à la suite de l audition de M  Christian Vigouroux, dont la nomination est envisagée par le Président de la République pour présider la commission prévue à l article 25 de la Constitution Mes chers collègues, je vous rappelle que le Président de la République a souhaité nommer M  Vigouroux à la tête de la commission dont l article 25 de la Constitution prévoit qu elle « se prononce par un avis public sur les projets de texte et propositions de loi délimitant les circonscriptions pour l élection des députés ou modifiant la répartition des sièges de députés ou de sénateurs »  Cette nomination doit suivre la procédure prévue à l article 13 de la Constitution, c est-à-dire qu un avis public des commissions compétentes des deux chambres du Parlement est nécessaire, la nomination étant impossible lorsque plus des trois cinquièmes des suffrages exprimés au sein des deux commissions sont négatifs Notre commission a procédé à ce scrutin le 21 février ; les scrutateurs étaient Mme Colette Capdevielle et M  Jacques Valax, qui sont aujourd hui présents  Les bulletins ont été placés dans une enveloppe scellée dans l attente de la réunion de la commission des Lois du Sénat  Or, depuis, le Sénat a fait savoir au Gouvernement qu il ne souhaitait pas entendre M  Vigouroux ; il a réitéré cette position dans une lettre du 28 février adressée au Premier ministre Si la Constitution permet au Parlement de s opposer, dans les conditions que je vous ai rappelées, à une nomination, elle ne lui donne pas de pouvoir de blocage  À la suite du refus, inédit et réitéré, du Sénat, le Premier ministre a donc écrit au président de l Assemblée nationale le 31 mars 2017 pour lui demander de faire procéder au dépouillement du scrutin  ']\n",
      " [7781\n",
      "  ' (Le PNR vise à répondre aux recommandations « pays » formulées par les instances européennes  Il s agit d un document récapitulatif qui n a pas vocation à annoncer des réformes ou des mesures qui ne l auraient pas déjà été par ailleurs  Cohérent et complémentaire avec les choix macroéconomiques qui ont été faits et avec l ajustement budgétaire, ainsi que vient de l indiquer Michel Sapin, ce programme vise à moderniser notre économie, en particulier à améliorer la croissance potentielle et à l enrichir en emplois Le PNR comprend six volets  Le premier concerne la compétitivité-coût des entreprises  Les mesures prises dans ce domaine sont bien connues : le crédit d impôt pour la compétitivité et l emploi, ainsi que le Pacte de responsabilité et de solidarité, qui ont permis, dans un premier temps, de répondre à une situation d urgence, puis de donner de la visibilité aux entreprises afin qu elles puissent restaurer leurs marges et leur compétitivité-coût, préalable à l amélioration de leur compétitivité hors coût Le deuxième volet du programme rassemble tout ce qui relève du renforcement de la compétitivité hors coût des entreprises, en particulier de la simplification des formalités administratives qui s y rapportent  Plusieurs choses ont déjà été faites depuis la création du Conseil de simplification pour les entreprises, avec notamment une série de mesures annoncées, dont certaines sont en cours de transposition législative, dans le cadre de la loi de simplification de la vie des entreprises et de la loi pour la croissance et l activité  Je veux rassurer M  le président sur un point : la loi pour la croissance et l activité contient bien plusieurs dispositions de simplification réglementaire, des procédures et des autorisations, très attendues par le secteur du BTP Ce deuxième volet passe également par des mesures de numérisation accélérée de l économie, qui seront proposées dans le cadre de la future loi sur le numérique Le troisième volet, complémentaire du deuxième, est celui du soutien à l innovation : il n y a pas de relance et de modernisation du tissu productif sans relance de l investissement public et privé  Je ne reviens pas sur les annonces faites en matière d investissement privé productif  On peut toujours considérer que l annonce faite par le Premier ministre il y a quinze jours est trop timide ; je considère pour ma part qu elle est ciblée, puisqu elle concerne tout l investissement productif hors immobilier &#8211; précisément ce dont notre pays a besoin, puisqu il a un retard de 17 milliards d euros dans ce domaine &#8211;, qu elle est définie dans le temps et qu elle présente une bonne visibilité, grâce à un vote au Sénat et à une instruction fiscale : tout cela permet d avancer et d accrocher l ensemble des mesures d investissement qui seront prises à la période du 15 avril 2015 au 15 avril 2016, afin de créer un effet de déclencheur Pour ce qui est du secteur du BTP, la dimension de l investissement est importante  Pour commencer, les revenus fiscaux de l Agence de financement des infrastructures de transport de France (AFITF) ont été sanctuarisés  Par ailleurs, nous avons débouclé la négociation avec les sociétés concessionnaires d autoroutes&#8230; Parlons-en Je vous remercie, madame la rapporteure générale, de la qualité de votre travail et des nombreuses questions que vous soulevez Je souhaite revenir sur trois points  Premièrement, il y a quelques mois, dans le cadre du débat sur le projet de loi de finances pour 2015, un certain nombre de collègues socialistes emmenés par Karine Berger et soutenus par la rapporteure générale avaient plaidé pour une révision à la hausse de la croissance potentielle  Le Gouvernement ne les avait pas écoutés alors, mais il leur donne aujourd hui raison, puisqu il relève la croissance potentielle de 0,2 point par an entre 2016 et 2018  Cela vous permet, messieurs les ministres, de majorer de manière un peu artificielle l effort d ajustement structurel réalisé par la France ; reste à savoir si les instances européennes seront sensibles à cette démonstration&#8230; Quels arguments avez-vous avancés à Bruxelles pour justifier ces chiffres ? Je rappelle que l ajustement structurel des pays en procédure pour déficit excessif &#8211; ce qui est le cas de la France depuis un certain nombre d années &#8211; doit être au minimum de 0,5 point de PIB par an Deuxièmement, comme vous, monsieur Sapin &#8211; c est en tout cas ce que vous nous avez dit la semaine dernière &#8211;, je ne comprends pas grand-chose à la notion de solde structurel  Aussi revenons-en au déficit nominal  Maintenant, je comprends tout&#8230;Il se produit une chose extraordinaire qui nous interpelle tous : le chiffre magique de 50 milliards d euros, avec une première tranche de 21 milliards en 2015, traverse les années et les décisions successives, alors qu il a été calculé il y a un an et demi sur la base d une inflation à 1,8 %  Il a notamment survécu au fait que Bruxelles nous demande de réaliser 4 milliards d économies supplémentaires et à la mesure que vous avez annoncée il y a quelques jours sur l investissement des entreprises, au demeurant tout à fait justifiée mais qui va se traduire par une baisse de recettes fiscales  En d autres termes, comment pouvez-vous justifier la pérennité de ce chiffre, alors que l environnement a totalement changé, avec la baisse de l inflation, les dépenses nouvelles, notamment pour financer le plan de lutte contre le terrorisme, et les dernières mesures fiscales ? Je ne comprends pas comment vous vous y prenez Troisièmement, ainsi que l a relevé la rapporteure générale, dont je partage largement le constat, nous avons un problème d investissement  Au cours du débat sur le projet de loi de finances pour 2015, Henri Emmanuelli avait défendu un amendement visant à relancer l investissement privé que nous avions tous jugé très intéressant  Cependant, vous ne lui donnez raison que très partiellement : la mesure permettant aux entreprises de sur-amortir leurs achats de biens industriels à hauteur de 140 % manque d ambition D autre part, monsieur Macron, le PNR ne prévoit aucune mesure concernant le bâtiment et les travaux publics (BTP), alors que l investissement, notamment l investissement public, est notoirement défaillant dans ce secteur  Au contraire, vous baissez massivement les dotations financières aux collectivités territoriales alors qu elles réalisent 70 % des travaux publics  Et ce ne sont pas les toutes petites mesures relatives au Fonds de compensation pour la TVA qui suffiront pour améliorer les choses  Je pensais que le PNR comporterait des mesures ciblées sur le secteur du BTP, au moins de nature non financière, telles que des allégements de normes ou une relance par des mécanismes d emprunt  À quoi le « plan Juncker » sert-il donc ? Le PNR nous laisse sur notre faim s agissant du BTP, alors que, dans un contexte plutôt porteur, il s agit d une question majeure et de l un des rares leviers dont dispose la puissance publique pour influencer le cours des choses  Je trouve que vous manquez singulièrement d ambition en la matière, monsieur Macron Je répondrai avec plaisir à vos deux premières questions, monsieur le président  Je dispose de l ensemble des réponses et vous sortirez de cette réunion rassuré&#8230; Je n aime pas que vous soyez anxieux Pour relever les défis, nous avançons sur deux jambes : les mesures budgétaires et les réformes  Je laisse le ministre de l Économie vous exposer d abord ce deuxième aspect de notre politique  Cet amendement avait également été adopté en séance publique, mais le Gouvernement a demandé une seconde délibération C est juste Plus la croissance potentielle est faible, plus la part du déficit structurel est importante  En revanche, cela ne change rien au déficit nominal  En évaluant la croissance potentielle de la France à 1 %, la Commission européenne estime donc que son déficit structurel est relativement élevé  Nous ne partageons pas cette vision : il nous paraît plus réaliste de retenir le chiffre de 1,5 %, tant au regard des estimations existantes que de l abondante littérature publiée par les économistes sur le sujet  Selon moi, vous avez donc raison de ne pas suivre l estimation de la Commission européenne en ce qui concerne le déficit structurel Nous proposons, je le rappelle, un effort structurel de 0,5 point de PIB pour chacune des trois années couvertes par le programme de stabilité, ce qui nécessite de réaliser des économies de 21 milliards d euros en 2015, de 15 milliards en 2016 et de 14 milliards en 2017  Le Conseil de l Union européenne demande, quant à lui, un effort structurel de 0,5 point de PIB en 2015 &#8211; comme nous &#8211;, de 0,8 point en 2016 et de 0,9 point en 2017  Cela impliquerait de prendre des mesures d économies à hauteur de 25 milliards d euros en 2016 et à nouveau en 2017, au lieu, respectivement, de 15 et de 14 milliards  Au total, la France devrait réaliser 20 milliards d euros d économies supplémentaires Si nous nous conformions à ce que demande le Conseil de l Union européenne en termes de réduction du déficit structurel, quelles pourraient en être les conséquences ? Premièrement, la France perdrait au minimum 0,2 point de croissance rien que sur l année 2015 : la croissance serait de 0,8 % au lieu de 1 % Deuxièmement, d après le modèle économétrique de simulation et d analyse générale de l économie &#8211; MÉSANGE &#8211; utilisé par le ministère chargé des finances, une réduction des dépenses de 10 milliards d euros supplémentaires se traduirait par une activité moindre de 0,4 à 0,6 point de PIB au bout de deux ans Troisièmement, nous affaiblirions la zone euro dans son ensemble : elle perdrait entre 0,1 et 0,15 point de PIB sur deux ans Quatrièmement, faire baisser la croissance de 1 point reviendrait mécaniquement à augmenter le déficit nominal de 0,5 point de PIB, donc à contrarier en grande partie les efforts que nous aurions faits pour réduire ledit déficit  Il s agit donc d un cercle vicieux, dans lequel vous avez raison de ne pas vouloir nous entraîner  Il faut fuir le vice et rechercher la vertu  D autre part, si nous voulons favoriser le rebond de croissance, il paraît indispensable de soutenir l investissement <img src=\"http://www assemblee-nationale fr/14/cr-cfiab/14-15/c1415078-4 gif\" border=\"1\" width=\"604\" height=\"425\" /> Source : EurostatOn constate sur le graphique ci-dessus, qui reprend les données de l Office statistique de l Union européenne, que l investissement en France, privé et public, a chuté du fait de la crise, puis a atteint un palier, alors que, dès 2011, il est reparti à la hausse en Allemagne &#8211; même si l on constate une tendance à la baisse sur la fin de l année 2013 &#8211; et aux États-Unis, ce qui a stimulé la croissance de ces deux pays  En dépit des efforts, notre capacité à investir stagne  Or, c est la clé pour soutenir le rebond de croissance <img src=\"http://www assemblee-nationale fr/14/cr-cfiab/14-15/c1415078-5 gif\" border=\"1\" width=\"340\" height=\"264\" /> Distinguons maintenant l investissement privé et l investissement public, avec ces deux graphiques issus des travaux du Commissariat général à la stratégie et à la prospective  En France, l investissement des entreprises, hors sociétés financières, tourne autour de 60 milliards d euros par an  On observe qu il a stagné au cours des dernières années  Il faudrait qu il soit plus soutenu pour accompagner le rebond de croissance  À l étranger, c est aux États-Unis que l investissement privé a le plus repris <img src=\"http://www assemblee-nationale fr/14/cr-cfiab/14-15/c1415078-6 gif\" border=\"1\" width=\"340\" height=\"268\" /> Quant à l investissement public, il s élève à environ 85 milliards d euros par an en France et il est en grande partie le fait des collectivités territoriales &#8211; d où nos débats sur ce point  Il est resté stable jusqu à la fin de l année 2013, puis a connu une petite baisse en 2014 du fait des élections locales  Tout l enjeu de l année 2015 est de soutenir le rebond de croissance via la reprise de l investissement Concernant le programme national de réforme (PNR), la Commission européenne a adressé à la France sept recommandations, dont certaines ont déjà été mises en oeuvre et d autres sont en train de l être  À cela s ajoutent les huit objectifs que poursuit la France au titre de la stratégie « Europe 2020 »  Selon le chiffrage réalisé par le ministère de l Économie, 4,2 points de PIB en plus sont attendus de la mise en oeuvre de l ensemble du PNR à l horizon 2020  Notons cependant qu il s agit d un effet non pas net, mais brut, l impact de leur financement n ayant pas encore été pris en compte  Ainsi, les mesures visant à faire baisser le coût du travail devront être financées, par exemple, par une réduction des dépenses Je reviens pour finir sur la trajectoire des finances publiques, dont nous avons déjà eu l occasion de discuter  En tendance, les dépenses publiques ont augmenté de 37 milliards d euros par an entre 2002 et 2007, de 34,1 milliards par an entre 2007 et 2012 et de 21 milliards par an entre 2012 et 2014  L objectif est de ramener ce chiffre à 14 milliards par an pour la période de 2015 à 2017, soit près de trois fois moins qu auparavant  Ainsi, la progression des dépenses a été très fortement ralentie  Pour une fois  Pour une fois  Je n ai pas dit cela&#8230; J ai simplement indiqué que nous avions obtenu les éléments demandés, ce qui est très appréciable pour tous les membres de notre commission Je vais présenter une version synthétique du programme de stabilité, afin d en dégager l esprit général et les grandes lignes <img src=\"http://www assemblee-nationale fr/14/cr-cfiab/14-15/c1415078-1 gif\" border=\"1\" width=\"605\" height=\"397\" /> Pour construire ce programme de stabilité, vous avez retenu, messieurs les ministres, des hypothèses prudentes, notamment en ce qui concerne la croissance et l inflation, ainsi que le président du Haut Conseil des finances publiques l a relevé  Le tableau ci-dessus montre par ailleurs que ce cadrage est en ligne avec les données produites par les différents organismes, qu il s agisse de l Organisation de coopération et de développement économiques, du Fonds monétaire international ou de la Commission européenne  Le Haut Conseil a lui-même souligné l absence de divergences concernant ces chiffres, ce qui n était pas nécessairement le cas dans le passé <img src=\"http://www assemblee-nationale fr/14/cr-cfiab/14-15/c1415078-2 gif\" border=\"1\" width=\"605\" height=\"267\" />Si l on s intéresse à l écart qui a pu exister chaque année, depuis 2008, entre la prévision de déficit public pour l année suivante et le déficit constaté en exécution, on remarque sur le graphique ci-dessus que cet écart a tendance à se réduire à partir de 2012 et plus encore ces deux dernières années, ce qui montre que les prévisions sont désormais plus réalistes et plus sincères  Cet effort mérite d être souligné, tant en termes de pilotage des finances publiques que de transparence à l égard de la représentation nationale <img src=\"http://www assemblee-nationale fr/14/cr-cfiab/14-15/c1415078-3 gif\" border=\"1\" width=\"589\" height=\"276\" /> Concernant le programme de stabilité, le Conseil de l Union européenne a fixé deux objectifs à la France : l un porte sur le déficit nominal, l autre concerne l effort structurel à réaliser chaque année  Les réponses apportées par le Gouvernement à ces deux demandes n étant pas les mêmes, je les évoquerai séparément L objectif de déficit public prévu dans le programme de stabilité &#8211; 3,8 % du PIB en 2015 ; 3,3 % en 2016 ; 2,7 % en 2017 &#8211; est en ligne avec ce que demande la Commission européenne  Pour y parvenir, nous devons réaliser des économies à hauteur de 21 milliards d euros en 2015, de 15 milliards en 2016 et de 14 milliards en 2017  Du fait de la faiblesse de l inflation, une part de ces économies va « disparaître » : 4 milliards d euros en 2015 et 5 milliards en 2016, le chiffre n étant pas encore précisé pour 2017  De plus, nous avons un certain nombre de dépenses supplémentaires à financer, notamment les surcoûts liés aux nouvelles mesures de sécurité prises depuis janvier dernier  Au début du mois de mars, notre commission s est prononcée sur un décret d avance de 300 millions d euros, complété par l annonce d un « surgel » et de différents mouvements de crédits, ce qui permet de couvrir ces dépenses supplémentaires en majeure partie &#8211; seul le financement du plan d investissement très récemment annoncé n ayant pas été encore explicité  Au total, pour atteindre l objectif de déficit nominal, nous devons réaliser une économie supplémentaire de 4,4 milliards d euros en 2015 Par conséquent, dans le programme de stabilité &#8211; dont l objet est de fixer les grands objectifs, le détail des mesures étant plutôt renvoyé aux lois de finances &#8211;, vous proposez, messieurs les ministres, de nouvelles mesures pour 2015 : 700 millions d euros d économies supplémentaires sur les dépenses de l État via un décret d annulation que vous nous transmettrez d ici le mois de juin et dont le contenu précis n est pas encore connu ; 500 millions d euros d économies sur les dépenses des opérateurs de l État et 1 milliard sur celles des administrations de sécurité sociale  Au sein de notre groupe, les gels des allocations ne sont pas considérés, de manière générale, comme étant la méthode la plus efficace de réaliser des économies, notamment du point de vue social  Mes collègues vous interrogeront probablement sur la nature des réductions de dépenses que vous envisagez Par ailleurs, du fait de la faiblesse des taux d intérêt, l État paiera 1,2 milliard d euros de moins en 2015 pour le service de la dette de long terme, ce que l on peut assimiler à une économie structurelle, même si ce point fera sans doute débat  Enfin, vous envisagez des recettes complémentaires : 400 millions d euros via la lutte contre la fraude fiscale et 200 millions de dividendes additionnels reçus par l État Les mesures que vous proposez pour l année prochaine seront présentées dans le cadre du projet de loi de finances et du projet de loi de financement de la sécurité sociale pour 2016 Une question se pose concernant la baisse de l inflation : celle-ci annule un certain nombre de réductions des dépenses, mais a-t-elle aussi un impact négatif sur les recettes ? Selon le rapport public annuel de 2015 de la Cour des comptes, l inflation a des effets de trois types : neutre sur le rendement de certains prélèvements obligatoires, à la hausse &#8211; éventuellement &#8211; sur le rendement des impôts acquittés par les entreprises, à la baisse sur le rendement de la TVA et des cotisations sociales  Pour votre part, vous envisagez un effet globalement neutre sur les recettes, ce qui ne correspond pas exactement à l analyse de la Cour des comptes, mais celle-ci s est peut-être davantage penchée sur le produit de la TVA que sur celui des prélèvements acquittés par les entreprises  La question reste ouverte selon moi, même si l on peut effectivement considérer que l effet de la baisse de l inflation est plus incertain sur les recettes que sur les réductions de dépenses  D après les informations que vous nous avez transmises, les recettes de TVA pourraient toutefois être réduites de 1,1 milliard d euros  Sans doute y aura-t-il des questions sur ce point également D une manière globale, les mesures que vous proposez me semblent réalistes et réalisables, et devraient permettre d atteindre l objectif de réduction du déficit nominal recommandé par le Conseil de l Union européenne S agissant du deuxième objectif, qui concerne l effort structurel, vous avez souligné, messieurs les ministres, nos divergences avec Bruxelles, et je vous rejoins pleinement sur ce point  Car réaliser ce que nous demande la Commission européenne reviendrait tout simplement à saborder notre soutien à la croissance économique, ce qui n est nullement notre intention Rappelons le contexte : dans le programme de stabilité, vous avez arrêté un objectif de réduction du déficit structurel de 0,5 point de PIB par an entre 2015 et 2017, alors que la Commission européenne recommande une réduction de 0,8 et de 0,9 point pour 2016 et 2017  Avec le programme de stabilité, nous annonçons donc clairement que nous n atteindrons pas ces chiffres en 2016 et en 2017 La notion de déficit structurel, dont nous avons beaucoup discuté au sein de notre commission, est pertinente : elle permet de faire la part, au sein du déficit nominal, entre ce qui résulte de la conjoncture et ce qui tient, le cas échéant, à l insuffisance des efforts fournis par un pays pour mobiliser tous ses facteurs de production  Toutefois, elle repose sur un indicateur qui n est pas observable : la croissance potentielle  S il n y avait dans notre pays que cent usines fonctionnant à 80 % de leurs capacités, nous ferions l hypothèse que ces usines fonctionnent à 100 % et nous en déduirions la croissance potentielle  Mais, bien entendu, les facteurs sont beaucoup plus complexes dans la réalité : il faut notamment tenir compte du secteur des services, des interactions et du rôle des exportations  On parvient certes à calculer une croissance potentielle, mais, personne ne l ayant jamais observée, ce chiffre peut faire l objet de divergences, et l effort structurel qui nous est demandé sur cette base peut donc être, lui aussi, remis en question Depuis 2011, la Commission européenne situe régulièrement la croissance potentielle de la France autour de 1 %, ce qui est sans doute sous-évalué  Le Gouvernement a été amené à donner sa propre estimation à l occasion des lois de programmation des finances publiques et des programmes de stabilité qui se sont succédé  Dans le présent programme, vous l avez relevée à 1,5 %  C est d ailleurs à ce niveau que notre commission avait souhaité la fixer en juillet 2014 en adoptant un amendement au projet de loi de finances rectificative, qui n avait finalement pas été retenu  Il me revient de présenter, sur la base des documents qui nous ont été remis la semaine dernière, une analyse du programme de stabilité pour les années 2015 à 2018  Je tiens à remercier vivement les administratrices et administrateurs du secrétariat de la commission des Finances pour leur travail ainsi que les cabinets des ministres, qui nous ont communiqué toutes les informations que nous avons demandées La Commission examine le rapport d information sur le programme de stabilité pour les années 2015 à 2018 et le programme national de réforme (Mme Valérie Rabault, rapporteure générale) et entend MM  Michel Sapin, ministre des Finances et des comptes publics, Emmanuel Macron, ministre de l Économie, de l industrie et du numérique, et Christian Eckert, secrétaire d État au Budget Je vous souhaite la bienvenue, messieurs les ministres  Nous allons traiter du programme de stabilité pour les années 2015 à 2018, ainsi que du programme national de réforme, qui intéresse plus particulièrement M  Macron  La semaine dernière, nous avons auditionné M  Didier Migaud, qui a exposé l avis du Haut Conseil des finances publiques relatif aux prévisions macroéconomiques  Puis vous nous avez fait, messieurs Sapin et Eckert, une première présentation du programme de stabilité Ainsi que chacun a pu le constater, ce programme est très complexe et d une lecture aride  D autre part, pour des raisons qui lui appartiennent, le Gouvernement n organisera pas cette année de débat en séance publique sur ce programme  Il n en a certes pas l obligation, mais telle était pourtant la tradition depuis 2011 &#8211; et l on sait l importance des traditions dans notre pays  Il nous est donc apparu indispensable de réunir une nouvelle fois la Commission à ce sujet, en s appuyant sur une étude approfondie réalisée par notre rapporteure générale, que je remercie  Ce travail est d autant plus utile qu il n y aura pas non plus de collectif budgétaire de milieu d année, ainsi que vous l avez annoncé, monsieur Sapin  Il est très important que nous sachions exactement où nous en sommes dans l exécution de la loi de finances pour 2015, ainsi que dans les prévisions pour cette même année, lesquelles ont été modifiées par une série de décisions : des exigences supplémentaires formulées par Bruxelles, l annonce d une baisse d impôt et la nécessité de financer des dépenses nouvelles &#8211; le plan de lutte contre le terrorisme en particulier Le programme de stabilité et le plan national de réforme s inscrivent dans la continuité de notre action  Personne n a contesté la cohérence du dispositif, et pour cause : il est parfaitement cohérent et justifié, en particulier quant au niveau de l ajustement budgétaire à opérer  Les déclarations de nos collègues de l opposition, qui considèrent à la fois qu il n y a pas assez de réformes et pas assez d ajustements budgétaires, sont pour le moins étonnantes  L opposition souhaite, au fond, que le gouvernement français se conforme à la doxa de la Commission européenne, qui demande un ajustement structurel plus important ; encore faut-il l assumer, et reconnaître clairement que cela se traduirait par moins de croissance et plus de chômage Le ministre de l Économie a été extrêmement limpide dans sa présentation du plan national de réforme  Ce n est pas le bon moment pour des réformes d ampleur et des politiques d ajustements budgétaires drastiques, alors que, pendant dix ans, l actuelle opposition n a pas été capable d adopter de telles politiques ni d engager les réformes dont notre pays avait besoin ; le déficit structurel a au contraire augmenté de façon continue depuis 2006 et les entreprises françaises n ont cessé, depuis 2008, de perdre en compétitivité et en marges  L argument, systématiquement invoqué, selon lequel la majorité du quinquennat de Nicolas Sarkozy a subi de plein fouet la crise financière ne tient pas Le groupe socialiste appuie pleinement, après l avoir votée, la stratégie gouvernementale du rythme des ajustements budgétaires, ainsi que son programme national de réforme qui, par alignements successifs, permet de déverrouiller les freins à la croissance de l économie française Il faut, oui, soutenir la croissance mais les 1 000 milliards de dettes dont nous avons hérité de l ancienne majorité ne nous en laissent pas les moyens  Au demeurant, même si nous avions ces moyens, un effort budgétaire, compte tenu de l offre productive, ne serait d ailleurs pas très efficace  C est donc au niveau européen que cela doit se passer, et la mise en oeuvre rapide des 315 milliards d euros d investissement du « plan Juncker » est à cet égard décisive  Nous aurons l occasion d en débattre, notamment le 6 mai dans l hémicycle Pour en revenir au programme de stabilité, quelle est votre hypothèse tendancielle d augmentation des dépenses publiques, monsieur le ministre des Finances ?Je fais écho à cette question : avec toutes les modifications enregistrées, je suis surpris que le programme de stabilité maintienne le chiffre de 50 milliards  Il aurait fallu l ajuster On annonce 1,2 milliard de diminution pour les collectivités territoriales pour 2016  Comment le Gouvernement est-il parvenu à ce chiffre ? Quelle proportion concernera les personnels de ces collectivités ?J ai comparé le présent programme de stabilité avec celui de la période 2014-2017  Comment expliquez-vous que ce dernier présentait une baisse des dépenses publiques en volume de 0,3 % alors que le présent programme présente une augmentation de 0,9 % ?L importante baisse des taux d intérêt que nous connaissons permet incontestablement de réaliser des économies, mais le collectif budgétaire de l an dernier avait déjà anticipé la diminution de la charge de la dette en 2015  N y a-t-il pas chevauchement entre le vote de ce collectif et l annonce que vous faites ?Enfin, votre collègue ministre de l intérieur a évoqué des prévisions de baisses d investissement des collectivités territoriales de l ordre de 10 % du fait de la très forte diminution des dotations prévues pour les années 2015, 2016 et 2017  Cela a-t-il été intégré dans les perspectives de croissance, sachant que l investissement public des collectivités territoriales est un moteur de l investissement global ?Je souhaite une explication de texte concernant l économie sur les collectivités locales, qui s ajoute aux autres restrictions intervenues depuis deux ans  Cette économie serait de 1,2 milliard « à condition que les hausses d impôts restent modérées » : je ne comprends pas bien ce codicille&#8230; La majorité des dépenses des collectivités locales concernent les frais de personnel, et elles se retrouvent régulièrement à subir des revalorisations dont elles ne sont pas responsables  Comment économiserons-nous 1,2 milliard ?Je salue le fait que nous soyons enfin parvenus à l objectivité des chiffres  Ce fut long et laborieux, mais nous y sommes  Il ne faudrait pas reprocher maintenant à présent au Gouvernement d être trop pessimiste Confirmez-vous que la baisse des dépenses de l État et de la protection sociale est en partie, comme dans le cas de certaines baisses mécaniques de prestations sociales ou de consommation énergétique, neutre, ou indolore, et sans impact sur le pouvoir d achat ?Alors que les recettes de la contribution climat-énergie étaient initialement prévues à quelque 4 milliards en 2016, elles sont chiffrées à moins de 2 milliards dans ce programme  Comment expliquez-vous un tel écart ?Enfin, certaines associations de collectivités locales se sont inquiétées des 4 milliards d économies supplémentaires, craignant qu elles ne soient supportées par les collectivités, alors que, si je ne m abuse, il n en a jamais été question  Comment expliquer que ces associations se soient publiquement inquiétées ? Cela me semble assez incompréhensible N oublions pas que les amortisseurs de crise sont également des amortisseurs de reprise  Il faut donc réformer, même quand c est difficile  La France ne dispose pas des moyens économiques nécessaires pour procéder à une relance conjoncturelle forte, et vous n avez pas les moyens politiques de procéder à une relance structurelle  Nous sommes donc coincés dans une sorte d entre-deux qui nous empêche de courir aussi vite que les autres  Or, courir moins vite que les autres, c est avoir moins de croissance qu eux, et continuer à perdre sur tous les terrains : c est là que se situe la fragilité majeure de la politique suivie actuellement, pour louables que soient les intentions de ceux qui la mènent Il a été dit que l environnement conjoncturel était défavorable : non, il est aujourd hui extrêmement favorable, comme il ne l a jamais été depuis de très nombreuses années La conduite de réformes est, on le sait, antagoniste de l ajustement budgétaire, et si la politique monétaire européenne est plus accommodante qu elle ne l a été, elle reste en retard de phase par rapport à celles des Américains, des Britanniques et des Japonais, encore plus accommodantes  Les réformes en vue de relancer l économie n interviennent généralement pas au moment du sérieux budgétaire  Notre choix n a pas été d être très &#8211; trop &#8211; raisonnables sur les mesures conjoncturelles mais, par contre, de mettre la pression sur nos partenaires européens et Bruxelles pour bénéficier d un élément conjoncturel de relance  Le « plan Juncker » et les choix macroéconomiques allemands sont fondamentaux, car c est ainsi que nous pourrons compenser notre ajustement en bénéficiant d un stimulus budgétaire de court terme Le programme de stabilité présente une très significative augmentation en volume de 0,9 % des dépenses publiques en 2015  Comment le ministre de l Économie qualifie-t-il ce contexte budgétaire ?C est un effort qui ne s est jamais vu  Comparez à ce que vous avez fait vous-mêmes Reste que cette augmentation est contradictoire avec la présentation du ministre de l Économie  Si je ne suis pas certain qu il y ait eu de consensus en Espagne ou au Royaume-Uni, ces pays ont néanmoins été capables de prendre certaines décisions budgétaires  Le Gouvernement prétend suivre un schéma différent, que M  Macron décrit comme étant équilibré, entre réformes structurelles et politique budgétaire  Ma remarque se borne à souligner que 0,9 % d augmentation en volume, ce n est pas rien, et que le choix du Gouvernement n est pas si équilibré qu il le dit C est du laxisme atténué&#8230;Le ralentissement est indéniable ; reste que 0,9 %, c est considérable Ces 0,9 % doivent être comparés à la trajectoire et à l historique  Vous connaissez comme moi l inertie de la dépense publique  Notre dynamique est une baisse de la dépense de l État en valeur absolue  Par ailleurs, qui a eu les ONDAM historiquement les plus bas ? Il ne faut pas regarder ces 0,9 % de manière statique mais par rapport aux années précédentes  Si nos choix budgétaires sont moins drastiques que dans d autres pays, c est parce que ces pays, comme l Espagne, ont subi des crises systémiques beaucoup plus dures  Le consensus économique et social est bien plus fort en Espagne, y compris pour des raisons culturelles : cette génération a connu l anarchie, ce qui n est pas le cas des Français  Nous ne pourrions faire en France ce qui a été fait en Espagne, c est un fait anthropologico-politique, et cela vaut aussi pour l Irlande  Nous avons mieux résisté à la crise mais nous repartons plus lentement En 2009, alors que l Allemagne connaît une récession trois fois plus dure que nous, c est la France qui décide d engager une relance budgétaire  Demandez-vous qui a fait les mauvais choix  Je pense que ce sont ceux qui n ont pas engagé les réformes quand c était possible au plan budgétaire, dans un environnement de croissance, qui sont à blâmer  Par la suite, le plan de relance à contre-cycle que notre pays a été le seul à conduire n a donné aucun résultat, si ce n est de financer des entreprises étrangères en « biberonnant » la consommation domestique et d accroître notre déficit public Notre situation n est certes pas pleinement satisfaisante, mais la martingale parfaite n existe pas  La clé, c est la constance, être capable de tenir une trajectoire de finances publiques et un plan de réformes sans faiblir Comme vous l avez constaté, j ai évité de vous assener des chiffres lors de mon exposé initial, car je suis très prudent en la matière : il est très difficile d expliquer, toutes choses égales par ailleurs, des impacts en points de PIB à l horizon 2020  Il est important de les avoir en tête, mais il faut aussi savoir relativiser  Précisons à ce propos qu il ne s agit pas d éléments de croissance, mais de points de PIB additionnels Nous disposons de deux approches complémentaires  La première approche est celle faite sur la base du modèle MÉSANGE de Bercy, qui conduit à des évaluations en points de PIB brut à l horizon 2020  « Brut », cela signifie qu il faut prendre en compte le financement de ces mesures : or, celui-ci est parfois nul, comme c est le cas pour la réforme territoriale, tandis que d autres réformes nécessitent des financements, notamment en matière de compétitivité-coût du travail Le modèle MÉSANGE prévoyant des fiches techniques jointes au PNR, je suis tout à fait disposé à ce que l on discute de chaque fiche individuellement : chacune d entre elles couvre bien des éléments identifiés et elles sont toutes auditables  Pour en revenir à la question sur le dialogue social, l impact en la matière a été identifié : il s agit d abord de modifications des comportements &#8211; en l occurrence, une diminution de la conflictualité des plans sociaux &#8211; liées à la loi de sécurisation de l emploi, une loi qui a assoupli les procédures, donné plus de visibilité sur les licenciements collectifs, encadré les procédures dans le temps et limité leur montant  La réforme des prud hommes et celle de l assurance chômage, la « loi Rebsamen » et l atténuation des effets de seuil produiront également des effets qu il est possible de modéliser, dans les limites que comporte un tel exercice : pour ma part, je suis toujours prudent quant à l impact a priori de telle ou telle mesure  Quoi qu il en soit, cette méthodologie est transparente, auditable par Bruxelles, et aboutit aux chiffrages qui vous ont été indiqués En complément, l OCDE a fait de son côté un travail en octobre 2014, selon une méthodologie qui lui est propre, mais qui aboutit néanmoins à des chiffrages extrêmement convergents  Ainsi, l OCDE prévoit 3,7 points de PIB à un horizon de dix ans, et chiffre également l impact de la transition énergétique à 0,8 point  Cela n a au demeurant rien d étonnant, puisque cette loi va se traduire par des travaux, notamment le grand carénage du parc nucléaire, et par des éléments de relance à court terme &#8211; je pense au CITE et à la rénovation thermique, qui vont donner des motifs de satisfaction au secteur du BTP dans les mois à venir  Enfin, il ne faut pas raisonner comme si le prix du CO2 devait rester éternellement à zéro : ce n est pas le cas et, pour tenir compte de l évolution à venir dans ce domaine, des investissements sont à réaliser pour adapter notre organisation productive et notre capital productif À court et moyen terme, les impacts évalués par l ensemble des modèles sont positifs, même si les chiffres, toujours pris toutes choses égales par ailleurs, doivent être relativisés  Il n en demeure pas moins que deux approches complémentaires très différentes, car ne reposant pas sur les mêmes modèles, parviennent à des éléments de chiffrage bruts comparables, faisant apparaître que certaines réformes sont de nature à améliorer la croissance potentielle à l horizon de cinq ou dix ans Pour ce qui est de la réforme territoriale, l OCDE s est concentrée, pour aboutir à sa prévision de 0,3 point de PIB, sur Paris et Aix  Ce sont les processus de métropolisation qui doivent produire des éléments de relance, notamment grâce à la suppression des financements croisés, jugés sous-efficients, et à la réduction du nombre d acteurs  Là encore, tous ces éléments sources d économies, mais aussi d investissements, ont des effets économiques positifs chiffrables et modélisés J en viens à la situation de la France par rapport aux autres pays  Notre pays se trouve dans une situation singulière car, si l on observe le paysage européen, on peut distinguer trois situations  Premièrement, certains pays ont connu une crise très dure dans les années 1990, et y ont trouvé l occasion de revoir en profondeur leur modèle économique et social : ce sont les pays scandinaves ; deuxièmement, on trouve des pays comme l Allemagne, ayant fait le choix de se moderniser et de se réformer en profondeur dans un contexte de croissance et en négociant une relâche budgétaire ; troisièmement, enfin, certains pays ont subi la crise de plein fouet &#8211; beaucoup plus brutalement que nous &#8211; et en ont profité pour procéder, dans un contexte de consensus social, à des ajustements budgétaires et de réforme : c est le cas de l Espagne, de l Irlande et du Royaume-Uni La France est un cas à part : elle n a pas fait les réformes proprio motu et en temps voulu  La spécificité française commence au début des années 2000 par une série de choix imputables aussi bien à la droite qu à la gauche &#8211; vous pouvez citer la réforme du temps de travail si vous voulez &#8211; et par des relâches budgétaires négociées sans procéder dans le même temps à des réformes structurelles  Aujourd hui, nous nous trouvons donc placés face à l obligation de procéder à des ajustements budgétaires et des réformes au pire moment, c est-à-dire dans le contexte d une croissance extrêmement plate et de taux qui, s ils nous procurent une protection artificielle, agissent un peu à la manière de la morphine Dans ce contexte, nous avons le choix entre abandonner l un des deux &#8211; les ajustements ou les réformes &#8211; ou, comme l ont fait l Espagne et l Irlande quand elles étaient au fond du trou, ce qui n est pas notre cas, taper très fort dans les deux domaines  Notre situation n est pas si désespérée que celle qu ont connue ces pays, car nous avons bénéficié d amortisseurs de crise, et nous ne pouvons pas agir comme ils l ont fait  Se concentrer uniquement sur la politique budgétaire sans rien moderniser constitue de notre point de vue un mauvais choix  Cela dit, compte tenu de notre place dans la zone euro et de l instabilité de celle-ci depuis 2012, nous devons tenir un cap en la matière  Nous avons opté pour un cap médian, celui des 50 milliards d euros que, bien sûr, certains vont trouver trop dur et les autres pas assez  En effet, ce cap ne permet pas une politique de relance conjoncturelle ; il est donc plutôt douloureux à court terme sur le plan économique &#8211; et sur le plan politique, cela n aura échappé à personne &#8211;, mais il témoigne d une politique de sérieux Quant à la politique de réforme qui doit être menée en parallèle, elle ne peut consister à casser tous les stabilisateurs en réformant de manière trop brutale, mais à avancer étape par étape de manière continue, afin de moderniser les différents marchés  Une partie des mesures à prendre relève de la relance, celle-ci étant cependant beaucoup plus timide que ce qui a été fait par le passé : ce n est donc pas un plan de relance, mais un plan d accompagnement conjoncturel lié à des problèmes identifiés et d un plan de modernisation de l économie consistant en un train continu de réformes menées depuis 2013 et ayant vocation à continuer au cours des années à venir  Notre choix politico-économique consiste à mener des réformes de manière continue, de façon progressive mais à bon rythme, sur l ensemble des volets, compte tenu de la situation dans laquelle notre pays s est mis il y a quinze ans  En résumé, nous ne venons pas de nulle part, et nous devons tenir compte de notre environnement Les 4,2 points de croissance promis sont répartis selon des items assez mystérieux  Je voulais profiter de la présence de M  Macron pour évoquer l un d entre eux, celui du dialogue social, dont il est attendu 0,2 point de PIB de croissance  Certes, la « loi Macron » contenait de multiples modifications en matière de licenciement, mais pouvez-vous nous apporter quelques précisions en la matière ?Pour moi, un programme de réforme ne doit pas consister uniquement en un programme de relance, même si on a parfois tendance à confondre les deux  Les mesures conjoncturelles que tout gouvernement peut être amené à prendre ne doivent pas être prises au détriment d une réforme en profondeur  Afin de tenir compte de l environnement économique, il serait intéressant de regarder les résultats des autres pays : ce qui m intéresse, c est que la France fasse mieux que les autres, qu elle aille plus vite, qu elle profite davantage du vent de croissance et des facteurs extérieurs positifs ; malheureusement, ce n est pas le cas  Certes, nous frôlons la croissance, mais à un niveau très inférieur à celui des autres pays  Nous n accomplissons donc aucun exploit : le seul véritable exploit, ce serait de faire mieux que les autres et, à mon sens, c est cet objectif qui devrait inspirer les programmes de réformes La loi pour la croissance et l activité qui porte votre nom, monsieur le ministre, n est pas vraiment une loi sur la croissance, de même que la loi de M  Rebsamen n est pas réellement une loi de réforme du marché du travail : ce sont tout au plus des lois d aménagement  Il y a en la matière un écart criant entre les intentions affichées et la réalité de la loi, et c est bien cela qui pose problème Si l on peut être d accord avec le ministre pour considérer qu un certain nombre de réformes, entreprises secteur par secteur et d une ampleur modeste, peuvent avoir leur utilité, on peut également regretter que le Gouvernement n ait pas été plus audacieux, surtout au regard de ses intentions initiales Pour ce qui est du PNR, le Gouvernement chiffre l impact des réformes en points de croissance, mais j aimerais savoir quel est le degré de solidité de ces prévisions  Ainsi, il est prévu 4,2 points de croissance répartis sur plusieurs secteurs, mais le document qui nous est présenté ne donne aucune justification de ces chiffres  Pouvez-vous nous expliquer, par exemple, comment on arrive à 0,8 point de PIB en matière de transition énergétique ? Comment la réforme de l éducation peut-elle nous apporter 0,1 point de PIB ? Si MÉSANGE le dit&#8230; Le Gouvernement croit-il aux chiffres qu il nous présente ? Quelles sont les hypothèses minimales et maximales ? Pour moi, présenter des chiffres n a aucun sens s ils ne présentent pas une certaine solidité Dans la présentation du programme de stabilité figurent les estimations de huit réformes, pour un total de 4,2 points de croissance à l horizon 2020  Nul n est besoin d avoir fait Polytechnique pour diviser 4,2 points par 5 : cela fait un peu plus de 0,8 point  Autrement dit, la moitié de la croissance attendue serait donc liée à ces huit réformes  Or, ces 4,2 points sont calculés hors impact de leur financement Par ailleurs, il me semble que les estimations qui nous sont ici livrées présentent un caractère tout à fait surréaliste  Ainsi, la réforme territoriale est censée se traduire par un gain de 0,3 point de croissance  Mais de quelle réforme parle-t-on ? Y a-t-il encore quelqu un pour penser que fusionner les régions sans avoir jamais réformé leur mode de financement peut produire de la croissance ? Franchement, on se demande bien d où sort ce chiffre de 0,3 point Avec le deuxième exemple, on monte en gamme : la transition énergétique doit nous procurer 0,8 point de croissance  Ceux qui ont lu l étude d impact du projet de loi sur la transition énergétique en sont encore à se demander comment on va faire pour fermer un tiers des centrales nucléaires &#8211; il faut passer de 75 % à 50 % pour tenir la promesse présidentielle &#8211; tout en faisant en sorte d assurer les besoins en électricité de nos concitoyens &#8211; qui vont s accroître de 1 % &#8211; et quelles conséquences cela va avoir sur le prix de revient de l électricité, donc sur les prix pour les consommateurs : même la ministre chargée du dossier est incapable de répondre à cette question  Il ne faut donc pas s attendre à une croissance en la matière : les mesures prises ne vont pas se traduire par un plus, mais par un moins, puisqu on va augmenter le prix de l énergie Il est également prévu 0,1 point de croissance grâce à la réforme de l éducation  Certes, l éducation est l un des plus importants facteurs de croissance, mais à long terme, très long terme, et certainement pas à court terme  Franchement, ce n est pas sérieux de nous présenter de telles prévisions Pour ma part, je commencerai par féliciter notre rapporteure générale : c est la première fois que l on nous montre clairement, en commission des finances, le rapport entre des politiques de réformes structurelles et des questions conjoncturelles, notamment celle des déficits publics de long terme  Je me félicite de ce souci de cohérence dans la présentation en regrettant simplement que l exercice n ait pas porté sur des réformes intervenues avant 2012 et qui continuent à influer sur l évolution de notre croissance et des comptes : cela nous aurait permis de mieux mesurer l ensemble de l effort accompli depuis plusieurs années En ce qui concerne la méthode, je m étonne que l on confonde les flux et les stocks  Quand on parle de croissance, il s agit d un flux  Or, le document de l OCDE fait état des travaux qui vont être effectués dans le cadre des nouvelles métropoles, notamment celles de Paris, de Lyon et de Marseille, et mentionne les travaux qui vont être effectués chaque année pour un montant de l ordre de 6 milliards d euros  On confond donc les éléments de croissance structurelle et ceux qui viennent s ajouter conjoncturellement, notamment des investissements « one shot », très ponctuels, même s ils sont effectués plusieurs années de suite Sans oublier le prolongement du crédit d impôt pour la transition énergétique (CITE) Effectivement, le prolongement du CITE au-delà de la période initialement prévue permettra aux artisans du bâtiment de disposer d un soutien à l activité  Ces mesures sont bienvenues et très attendues car le BTP n est pas un secteur où tout va bien, et on peut s attendre encore, dans les mois qui viennent, à des défaillances d entreprises Le soutien à l investissement et à l innovation est aussi porté par les divers dispositifs publics que sont la Banque publique d investissement (BPI), le deuxième volet du programme d investissements d avenir (PIA) ou les trente-quatre plans de la Nouvelle France Industrielle (NFI)  Le « plan Juncker » participe de cette initiative ; nous nous sommes battus pour que sa composante en fonds propres soit plus large, et devons continuer à mener cette bataille  Aujourd hui, 21 milliards d euros en fonds propres sont mobilisés, ce qui permet d accroître le guichet de la Banque européenne d investissement (BEI)  La France se mobilise pour présenter des projets, parmi lesquels on trouve beaucoup de projets d infrastructures longs ayant vocation à émarger au guichet de la BEI en complément de ce que fait la Caisse des dépôts et consignations Le quatrième volet est celui de la modernisation du marché des biens et services, qui est l un des éléments de modernisation de notre économie, avec l ouverture de plusieurs secteurs, qu il s agisse de celui des transports, de certaines professions réglementées, ou de mesures prises au sujet de l artisanat et du commerce  Le Premier ministre annoncera au début du mois de juin, à l occasion de la conférence économique et sociale, des mesures complémentaires pour les TPE et PME, ainsi que d autres figurant dans la future loi sur le numérique &#8211; ce secteur étant l un des leviers permettant d ouvrir plusieurs autres secteurs, soit par simplification de la sur-réglementation existante, soit au moyen de la capture par les acteurs classiques Le cinquième volet est celui de la modernisation du marché du travail  La dynamique enclenchée depuis 2012 consiste à donner plus de place au dialogue social et à une déconcentration de la norme  Cela se fait grâce à l accord national interprofessionnel (ANI) de 2013, transcrit par la loi de sécurisation de l emploi, qui fait actuellement l objet d une évaluation qui se terminera à la mi-mai et nous permettra d aller sans doute plus loin en matière d accords de maintien dans l emploi dits « défensif » ; l objet de cette évaluation est de voir ce qui fonctionne et ce qui ne fonctionne pas, et les choses à améliorer  Un consensus est en train de se dégager avec l ensemble des partenaires pour considérer qu il faut faire sauter certains verrous qui ont bloqué cet instrument En complément de ce qui avait été fait pour le licenciement économique, la modernisation de la justice prud homale permettra de donner plus de visibilité aux acteurs et de sécuriser les procédures en cas de licenciement individuel, et d améliorer la fluidité du marché du travail Des mesures complémentaires ont été présentées ce matin par notre collègue François Rebsamen, qui contribuent également à moderniser le dialogue social, c est-à-dire à simplifier les réunions multiples et à permettre, sur la base d accords, de simplifier les structures existantes au sein de l entreprise et d aller dans le sens de la flexi-sécurité  Les deux prochains rendez-vous sur ce sujet sont, d une part, le bilan que nous tirerons fin mai avec François Rebsamen de la loi de sécurisation de l emploi, d autre part, la conférence économique et sociale des TPE et PME annoncée par le Premier ministre, qui sera l occasion d annoncer de nouvelles mesures de simplification pour ces entreprises Enfin, le sixième volet est celui de la lutte contre les inégalités et de la préparation de l avenir  Les éléments de modernisation de notre économie et d effort en matière d investissement sont complétés par les mesures visant à une croissance de long terme prises dans le cadre de la transition énergétique, de la formation professionnelle &#8211; avec notamment la loi de 2013 &#8211; et en matière d éducation La philosophie d ensemble de ce programme national de réforme et, plus largement, de l action de réforme du Gouvernement, consiste en une approche progressive, continue, et comprenant encore des étapes à venir dans les prochains mois  Elle est définie comme étant large, c est-à-dire touchant tous les secteurs  Notre conviction est qu il ne suffit pas de se concentrer sur un dossier, par exemple la réforme du marché du travail : si les choses étaient aussi simples, cela se saurait, et nos prédécesseurs aussi s en seraient aperçus  En réalité, c est bien une série de réformes, à la fois macroéconomiques et microéconomiques, et touchant plusieurs secteurs, qu il faut mettre en oeuvre : c est la stratégie développée par le Gouvernement, qui a entrepris de moderniser plusieurs secteurs de l économie, qu il s agisse du secteur des biens et services ou du marché du travail  Ces réformes, qui mettent du temps à avoir un impact en termes de croissance et d emploi, doivent s accompagner de réformes contracycliques de plus court terme &#8211; c est le choix qui a été fait &#8211; qui visent à restaurer les marges et à accompagner l investissement On peut toujours décider de stopper tout investissement dans ce secteur, mais nous avons préféré instaurer des règles de clarification en matière de contrats, de tarification et de suivi des travaux qui n existaient pas jusqu alors, et seront transposées dans la loi, avec une autorité indépendante chargée de les surveiller  Il y aura également un rebasage, un engagement de 1 milliard d euros des sociétés d autoroute dans les infrastructures et les projets de transports via l AFITF, ainsi qu un engagement complémentaire d investir 200 millions d euros dans un fonds d infrastructures &#8211; deux décisions très bonnes pour le secteur  Enfin, le débouclage du plan de relance permet, dès cette année, de lancer pour 3,2 milliards d euros de travaux financés par les sociétés concessionnaires d autoroutes, 80 % des travaux devant être faits dans les deux ans à venir  Sans vote La Commission autorise la publication du rapport d information de la rapporteure générale sur le programme de stabilité pour les années 2015 à 2018 et le programme national de réforme Membres présents ou excusésCommission des Finances, de l économie générale et du contrôle budgétaireRéunion du mercredi 22 avril 2015 à 12 heuresPrésents  - M  Éric Alauzet, M  François André, M  Guillaume Bachelay, M  Dominique Baert, M  Jean-Marie Beffara, Mme Karine Berger, M  Christophe Caresche, M  Olivier Carré, M  Gilles Carrez, M  Yves Censi, M  Jérôme Chartier, M  Pascal Cherki, M  Alain Claeys, M  Charles de Courson, M  Jean-Louis Dumont, M  Henri Emmanuelli, M  Olivier Faure, M  Yann Galut, M  Marc Goua, M  Razzy Hammadi, M  Jean-François Lamour, M  Dominique Lefebvre, Mme Véronique Louwagie, M  Hervé Mariton, M  Patrick Ollier, Mme Valérie Rabault, Mme Monique Rabin, M  Philippe Vigier, M  Éric WoerthExcusés  - M  Étienne Blanc, Mme Marie-Christine Dalloz, M  David Habib, M  Jean Launay, Mme Eva Sas, M  Pascal Terrasse, M  Michel VergnierAssistait également à la réunion  - M  Pierre Lequiller Je vous rappelle que nous nous retrouverons le 6 mai, pour un débat en séance publique Ainsi qu à la revalorisation de certaines cotisations sociales Oui, mais cette revalorisation est également intervenue dans la fonction publique d État, puisqu il s agit de poursuivre le rattrapage du taux de cotisation des retraites &#8211; de la Caisse nationale de retraite des agents des collectivités locales (CNRACL) concernant la fonction publique territoriale  Certes, elles ne sont pas totalement comptabilisées de la même façon, mais cette revalorisation n explique pas, loin s en faut, la hausse de 4 % de la masse salariale Pourquoi avoir précisé que nous attendions 1,2 milliard d euros d économies supplémentaires réalisées sur les dépenses de fonctionnement, à condition que les hausses d impôts locaux restent modérées ? Parce que si l on ajoute une recette supplémentaire, il est bien évident que l on aura tendance à la dépenser  Encore une fois, ce n est pas ce que nous souhaitons  Nous voulons réduire la dépense publique quand cela est possible ou tout au moins ralentir son augmentation, et il convient que les collectivités territoriales y prennent leur part  Ils sont plus résistants Ils sont du reste souvent les plus assidus &#8211; j ai récemment lu dans un grand journal du soir, dont un représentant observe nos travaux, un article fort intéressant à ce sujet  (Sourires )Un certain nombre d éléments, disais-je, sont à la main des élus  J en citerai deux : le régime indemnitaire, qui est encadré et plafonné, et les durées d avancement, qui font actuellement l objet de négociations, conduites par Marylise Lebranchu, en ce qui concerne la fonction publique d État  Il est à noter que 98 % des fonctionnaires territoriaux avancent systématiquement à la durée minimale, ce qui soulève du reste la question de l égalité des fonctionnaires d État et des fonctionnaires territoriaux  C est un point sur lequel nous serons bien amenés à revenir, car il est paradoxal que les rythmes d avancement dans les différentes fonctions publiques ne soient pas soumis à des règles similaires  Je rappelle par ailleurs qu en 2014, la masse salariale de la fonction publique territoriale a augmenté de 4 %, celle de la fonction publique d État de 0,5 %  Une partie de cette augmentation est due, je l ai reconnu, à la revalorisation de la catégorie C et d une partie de la catégorie B  Incluez-vous la masse salariale ?Sur ce point, vous avez souligné, à juste titre &#8211; et cela fait actuellement l objet de travaux menés par les services du Premier ministre et les associations d élus &#8211; que les dépenses en masse salariale ont été affectées l année dernière par la revalorisation des catégories C et d une partie des catégories B  Il est vrai que cette dépense « contraint » les collectivités territoriales, mais un certain nombre d autres éléments de la masse salariale sont à leur main &#8211; et beaucoup le savent ici, puisque je constate que la plupart des élus encore présents à cette heure tardive sont aussi titulaires de mandats locaux J en viens aux mesures d économies supplémentaires, qui obsèdent certains d entre vous Pour 2015, il a été indiqué que nous attendions 1,2 milliard d euros d économies &#8211; supplémentaires, je le précise à l attention de M  Vigier &#8211; sur la dette  D aucuns estiment qu il ne s agit pas d une mesure structurelle  Michel Sapin a pourtant déjà longuement expliqué ici même, la semaine dernière, que le remplacement d obligations au taux de 3 % ou 4 % par des obligations à 0,3 % ou 0,4 % représentait bien une économie structurelle, dans la mesure où elle se prolonge au cours des années suivantes  De même, certains nous objectent que les 400 millions de recettes supplémentaires que nous attendons du Service de traitement des déclarations rectificatives (STDR) ne sont pas structurelles  Or j ai eu l occasion de rappeler le nombre des dossiers traités chaque année et le produit escompté  J ajoute que les avoirs révélés à l occasion de ces déclarations entrent dans les assiettes d impôt, au titre des revenus qu ils peuvent produire ou de l ISF, auquel ils sont souvent soumis compte tenu des montants en jeu S agissant des 700 millions d euros d économies réalisées sur les dépenses de l État, nous publierons avant la fin du mois de mai un décret, dont vous serez informés et dont vous aurez l occasion de débattre &#8211; je suis prêt, si nécessaire, à venir en détailler la composition devant la commission En ce qui concerne les opérateurs de l État, il s agit de constater que l exécution d un certain nombre de programmes prend régulièrement du retard &#8211; je pense notamment aux PIA &#8211; et d en tirer les conséquences budgétaires Enfin, en 2014, l ONDAM a été sous-exécuté à hauteur de 300 millions d euros ; nous avons repris cette sous-exécution en base, et nous travaillons avec le ministère des affaires sociales pour documenter une centaine de millions d euros supplémentaires, que nous aurons l occasion de détailler ultérieurement J en viens maintenant aux 5 milliards d euros d économies supplémentaires prévues pour 2016 &#8211; avec la prudence qui s attache à tout exercice de prévision  Je veux répondre avec précision aux questions concernant le 1,2 milliard de moindres dépenses de fonctionnement que nous attendons des collectivités locales  Nous estimons que, grâce à la baisse du prix de l énergie et à une moindre inflation, le pouvoir d achat de ces dernières, comme celui de certains ministères, devrait augmenter, de sorte qu il est possible, à volume de dépenses constant, de faire la même chose pour moins cher  Certes, nous avons prévu une légère reprise de l inflation en 2016, mais, comme les hypothèses antérieures avaient été construites sur des taux d inflation supérieurs, nous estimons que les collectivités locales pourront réaliser leurs opérations à un coût inférieur  Rapporté à l ensemble des dépenses des collectivités territoriales, soit environ 250 milliards d euros, ce montant de 1,2 milliard n est pas considérable  En tout état de cause, il ne s agit pas de restreindre davantage les dotations  Nous verrons le verdict dans quelques semaines La rapporteure générale a souligné le réalisme de nos hypothèses, qui est le meilleur moyen d atteindre nos objectifs Permettez-moi de revenir au préalable sur la distinction entre croissance potentielle et croissance constatée  Je rappelle que c est pour une raison juridique que le Gouvernement s est opposé à une modification du taux de croissance potentielle figurant dans l article liminaire du projet de loi de finances rectificative pour 2014  En effet, si vous aviez adopté un article liminaire différent de celui qui avait été soumis au Haut Conseil des finances publiques, nous aurions pris le risque de voir le texte invalidé par le Conseil constitutionnel  Ce point peut être discuté, mais nous n avons pas souhaité prendre ce risque  Pour le reste, tout a été dit sur la difficulté d estimer de manière certaine la croissance potentielle Pour répondre à l une de vos questions, monsieur le président, je précise que nous avons prévu une augmentation de la dépense publique de 0,9 % en 2015 et de 1,4 % pour l ensemble des deux années 2016 et 2017  Il n y aura donc pas d augmentation en rythme de la dépense publique  En valeur ?Tout à fait, monsieur le président Je tiens également à souligner qu en France, le niveau de l investissement public est resté stable, contrairement à ce que l on a observé dans d autres pays ; c est un élément important Jusqu en 2013 Je repose la question que je pose depuis des mois sans obtenir de réponse : quelle interprétation le Gouvernement donne-t-il de l écart croissant entre le déficit effectif et le déficit structurel tel qu il le calcule ? Par ailleurs, pourrions-nous avoir plus de détails sur les 4 milliards d économies supplémentaires en 2015, et les 5 milliards prévus en 2016 ?Notre travail lie la politique budgétaire et les réformes car notre responsabilité, celle qui n a pas été assumée auparavant, est de réduire les déficits, dans des conditions qui ne soient pas incompatibles avec la reprise de l activité économique que nous constatons, tout en engageant les réformes qui n ont pas été menées par nos prédécesseurs  C est ce que la Commission européenne nous demande : elle lie le programme de réforme à l équilibre de l ensemble, car elle sait que le programme national prépare de la croissance en plus pour demain et nous permet une trajectoire de finances publiques crédible, avec un retour progressif à l équilibre budgétaire  Les deux sont intimement liés, et la solution n est pas simple  Il était plus facile de faire, ou l un, ou l autre, dans une période de croissance ; malheureusement, cela n a pas été fait, et cela renvoie à notre responsabilité politique Beaucoup d entre vous demandent comment, dans le programme national de réforme, nous parvenons à des chiffres qui traduiraient du PIB en plus  Je me suis moi-même posé la question, et c est ce qui m a amené à m adresser à l OCDE  La quasi-totalité des chiffres figurant dans notre programme national de réforme ne sont pas calculés par nous-mêmes mais par l OCDE  Certes, on peut tout autant les contester du point de vue intellectuel et méthodologique, me direz-vous ; mais nous avons tenu à « objectiver » ce travail en le confiant à une organisation indépendante, et c est ce que nous avons transmis à la Commission, qui est très attentive à cet aspect des choses  Et d après ces chiffres, qui restent évidemment contestables, dans le bon sens du terme, notre programme de réforme est porteur de croissance en plus dans les années à venir &#8211; quand on oeuvre pour le bien public, on n agit pas exclusivement en fonction des seuls calendriers électoraux En ce qui concerne le programme de stabilité, nous travaillons dans la continuité  Ce programme traduit, à 0,1 ou 0,2 % près, ce que vous avez vous-mêmes décidé dans la loi de programmation, à savoir une trajectoire de diminution des déficits publics  Il se trouve que c est convergent avec ce que demandent la Commission et le Conseil européens  Tant mieux, mais c est avant tout la continuité de nos propres décisions Nous mettons également en oeuvre les 50 milliards d économies, ce qui représente un effort gigantesque  M  Mariton nous reproche une augmentation de 0,9 % de la dépense publique en 2015, alors qu un tel effort de maîtrise est sans exemple  En 2011, alors que notre pays n était plus en crise, cette augmentation était de 2,5 %  Nous considérons que c est par la maîtrise de la dépense publique que l on peut financer tout à la fois la diminution du déficit, nos priorités ainsi que les baisses de cotisations et d impôts demandés aux entreprises et aux ménages Les dépenses de la lutte contre le terrorisme en début d année ont été immédiatement compensées  Ce qui a changé, c est l inflation  Nous tenons les 50 milliards mais, comme nous avons perdu entre 3 et 4 milliards en cours de route, nous proposons 4 milliards de mesures nouvelles  Nous adaptons notre programme d économie à la période  Cette continuité donne une grande crédibilité à notre trajectoire Il n y a pas la bonne et la mauvaise dépense publique, la bonne qui serait celle des collectivités locales et la mauvaise qui serait celle de l État ou de la sécurité sociale  L effort doit être partagé par tous  Sortir de ce raisonnement reviendrait à faire preuve ou d une forme de faiblesse intellectuelle, ou d hypocrisie  Cet effort doit porter sur le fonctionnement Il existe, s agissant de la croissance potentielle, un désaccord  Suivre l ajustement structurel voulu par la Commission européenne, comme le souhaite l opposition, conduirait à moins de croissance et moins d emplois &#8211; peut-être à court terme, certes, mais cela intéresse le chômeur de savoir ce qui se passera dans le mois ou l année qui suit  Nous ne le souhaitons pas et nous avons donc engagé un débat avec la Commission européenne  J ai rencontré hier quelques commissaires, et pas ceux qui font preuve du plus de souplesse sur ces questions  La préconisation de la Commission européenne était fondée sur un déficit de 4,3 % de déficit en 2014  Dans la mesure où elle constate que la France, avec 4 % de déficit, a fait mieux que ses prévisions, elle considère que sa préconisation peut évoluer  Une telle évolution doit évidemment tenir compte des arguments que je viens de présenter  À quoi servirait-il d en faire plus, si c est pour casser la croissance et freiner le recul du chômage et le rééquilibrage de nos finances publiques ?Je ne connais pas deux économistes qui soient strictement d accord, même parmi ceux qui ont défendu un amendement l an dernier, sur le niveau exact de la croissance potentielle  Je ne peux donc pas savoir précisément ce que doit être l effort structurel  À ceux qui m interrogent, avec une grande ténacité, sur le sujet, je réponds que l effort structurel dépend de la croissance potentielle, qui dépend elle-même de l ajustement intellectuel de chacun, et que j en reviens donc à la donnée du déficit nominal  Ce faisant, je parle un langage européen, car ce que l Europe nous demande, c est de respecter notre déficit nominal  Mais comme ni les uns ni les autres n ont jamais respecté les objectifs de déficit nominal, la Commission européenne est obligée de regarder sous le capot, c est-à-dire d examiner ces questions compliquées et objectivement difficiles à apprécier  Or, comme nous sommes sur une trajectoire profondément crédible et que nous atteindrons nos objectifs nominaux, elle est satisfaite  ']]\n"
     ]
    }
   ],
   "source": [
    "print(type(df_))\n",
    "print(type(df_1))\n",
    "print(type(df_2))\n",
    "print(df_2.shape)\n",
    "for i in range (0,5839) :\n",
    "    z = df_2[i,1]\n",
    "    z1 = repr(z)\n",
    "    z1 = z1.replace(\"</p>\",\"\")\n",
    "    z1 = z1.replace('\"<p>',\"\")\n",
    "    z1 = z1.replace(\"('<p>\",\"\")\n",
    "    z1 = z1.replace(\"',)(\",\"\")\n",
    "    z1 = z1.replace('\",)(','')\n",
    "    z1 = z1.replace('\",)','')\n",
    "    z1 = z1.replace(\"',)\",'')\n",
    "    z1 = z1.replace(\"<p>\",'')\n",
    "    z1 = z1.replace(\"'\",\" \")\n",
    "    z1 = z1.replace(\"!\",'')\n",
    "    z1 = z1.replace(\".\",' ')\n",
    "    z1 = z1.replace(\"\\\\\",'')\n",
    "    df_2[i,1] = z1\n",
    "print(df_2) \n"
   ]
  },
  {
   "cell_type": "code",
   "execution_count": 18,
   "metadata": {},
   "outputs": [
    {
     "name": "stdout",
     "output_type": "stream",
     "text": [
      "[[3 145\n",
      "  \"J'invite - les - deux - plus - jeunes - commissaires - présents - , - MM - . - Julien - Aubert - Guillaume - Larrivé - , - venir - siéger - bureau - remplir - les - fonctions - secrétaires - d'âge.Le - bureau - d'âge - constitué.L'ordre - jour - appelle - maintenant - nomination - bureau - Commission - , - conformément - l'article - 39 - Règlement - . - Ce - bureau - comprend - , - outre - président - , - quatre - vice-présidents - quatre - secrétaires - . - Aux - termes - l'article - 39 - Règlement - , - « - composition - bureau - chaque - commission - s'efforce - reproduire - configuration - politique - l'Assemblée - d'assurer - représentation - toutes - composantes - » - . - Les - alinéas - 4 - 6 - article - précisent - « - les - bureaux - Commissions - élus - scrutin - secret - catégorie - fonction - . - Lorsque - , - chaque - catégorie - fonction - , - nombre - candidats - n'est - supérieur - nombre - sièges - pourvoir - , - n'est - procédé - scrutin - . - Si - majorité - absolue - n'a - acquise - deux - premiers - tours - scrutin - , - majorité - relative - suffit - troisième - tour - , - cas - d'égalité - suffrages - , - plus - âgé - nommé - . - Il - n'existe - aucune - préséance - entre - les - vice-présidents - . - » - Enfin - , - l'article - 13 - , - 1° - , - alinéa - 4 - , - l'Instruction - générale - Bureau - dispose - « - les - délégations - droit - vote - peuvent - avoir - effet - scrutin - secret - » - . - Lors - chaque - scrutin - , - Mmes - MM - . - les - commissaires - voudront - bien - , - l'appel - nom - , - mettre - bulletin - l'urne.Nous - allons - d'abord - procéder - l'élection - président - . - J'invite - ceux - collègues - désirent - faire - acte - candidature - faire - connaître - .\"]\n",
      " [3 83\n",
      "  'Au - nom - groupe - socialiste - , - républicain - citoyen - , - propose - candidature - M. - Jean-Paul - Chanteguet - .']\n",
      " [3 145\n",
      "  \"Je - constate - qu'il - n'y - a - qu'un - seul - candidat - . - Il - n'y - a - donc - lieu - procéder - scrutin.En - conséquence - , - M. - Jean-Paul - Chanteguet - élu - président - Commission - l'invite - prendre - place - fauteuil - présidentiel - ( - applaudissements - ) - .\"]\n",
      " ...\n",
      " [7781 152 'En - valeur - ?']\n",
      " [7781 6 \"Jusqu'en - 2013 - !\"]\n",
      " [7781 6\n",
      "  \"Je - repose - question - pose - depuis - mois - sans - obtenir - réponse - : - quelle - interprétation - Gouvernement - donne-t-il - l'écart - croissant - entre - déficit - effectif - déficit - structurel - tel - qu'il - calcule - ? - Par - ailleurs - , - pourrions-nous - avoir - plus - détails - les - 4 - milliards - d'économies - supplémentaires - 2015 - , - les - 5 - milliards - prévus - 2016 - ?\"]]\n"
     ]
    }
   ],
   "source": [
    "# on enlève les stop-words et on tokénise. En somme on bigdate\n",
    "import nltk\n",
    "# nltk.download('stopwords') \n",
    "# [Gab il faut que tu télécharges ça, je le mets en commentaire car je l'ai déjà fait]\n",
    "from nltk.corpus import stopwords\n",
    "from nltk.tokenize import word_tokenize\n",
    "stop_w=stopwords.words('french')\n",
    "#stop_w=.append(stop_w=.append(\"ayant\",\"grand-chose\",\"après-midi\", \"au-delà\", \"devant\", \"octobre\", \"novembre\", \"action\", \"assemblée\", \"activité\", \"besoin\", \"définition\", \"adopté\", \"député\", \"spéciale\", \"spécial\", \"rappelle\", \"hong\", \"précédente\", \"information\", \"délai\", \"applicable\", \"expliqué\", \"propose\", \"relative\", \"indique\", \"vingt\", \"janvier\", \"puis\", \"jour\", \"lecture\", \"séance\", \"alinéa\", \"résolution\", \"adoption\", \"collègue\", \"cher\", \"collègues\", \"chers\",\"bis\", \"  er\", \"rectifié\", \"question\", \"rédactionnel\", \"scrutin\", \"exposer\", \"identiques\", \"identique\", \"commission\", \"adopte\", \"rejette\", \"additionnel\", \"tendant\", \"examiné\", \"examine\", \"rejeté\", \"avis\", \"suivant\", \"estimé\", \"déclaré\", \"parce\", \"beaucoup\", \"afin\", \"madame\", \"sous\", \"bonne\", \"monsieur\", \"quelle\", \"quinze\", \"lors\", \"là\", \"long\", \"messieurs\", \"ici\", \"trois\", \"êtes\", \"serait\", \"seront\", \"dix\", \"mot\", \"vin\", \"mon\", \"hier\", \"date\", \"cinq\", \"celui\", \"allez\", \"après\", \"bureau\", \"cause\", \"sous-amendement\", \"certaine\", \"chose\", \"code\", \"compris\", \"général\", \"pris\", \"demande\", \"jeudi\", \"jamais\", \"juillet\", \"mois\", \"plusieurs\", \"mardi\", \"mercredi\", \"lundi\", \"quatre\", \"semaine\", \"suppression\", \"semble\", \"souvent\", \"vers\", \"jamais\", \"comité\", \"discussion\", \"liens\", \"lieux\", \"membres\", \"vendredi\", \"dernière\", \"donner\", \"délégation\", \"défendu\", \"défavorable\", \"exemple\", \"favorable\", \"fonction\", \"grand\", \"habitant\", \"haut\", \"juridique\", \"mars\", \"membre\", \"mettre\", \"mise\", \"ministère\", \"mission\", \"niveau\", \"oui\", \"organique\", \"objet\", \"notion\", \"norme\", \"pense\", \"première\", \"prendre\", \"principe\", \"procédure\", \"puisque\", \"rien\", \"sceaux\", \"réponse\", \"spécial\", \"vise\", \"vos\",\"vote\", \"suppresion\", \"urgence\", \"rapporteur\", \"rapporteure\", \"décembre\", \"dans\", \"aujourd’hui\", \"j'ai\", \"l'on\", \"n'a\", \"qu'elle\", \"qu'il\", \"s'agit\")\n",
    "stop_liste=[\"ayant\",\"grand-chose\",\"après-midi\", \"au-delà\", \"devant\", \"octobre\", \"novembre\", \"action\", \"assemblée\", \"activité\", \"besoin\", \"définition\", \"adopté\", \"député\", \"spéciale\", \"spécial\", 'rappelle', 'hong', \"précédente\", \"information\", \"délai\", 'applicable', 'expliqué', 'propose', 'relative', 'indique', 'vingt', 'janvier', 'puis', 'jour', 'lecture', 'séance', 'alinéa', 'résolution', 'adoption', 'collègue', 'cher', 'collègues', 'chers','bis', '  er', 'rectifié', 'question', 'rédactionnel', 'scrutin', 'exposer', 'identiques', 'identique', 'commission', 'adopte', 'rejette', 'additionnel', 'tendant', 'examiné', 'examine', 'rejeté', 'avis', 'suivant', 'estimé', 'déclaré', 'parce', 'beaucoup', 'afin', 'madame', 'sous', 'bonne', 'monsieur', 'quelle', 'quinze', 'lors', 'là', 'long', 'messieurs', 'ici', 'trois', 'êtes', 'serait', 'seront', 'dix', 'mot', 'vin', 'mon', 'hier', 'date', 'cinq', 'celui', 'allez', 'après', 'bureau', 'cause', 'sous-amendement', 'certaine', 'chose', 'code', 'compris', 'général', 'pris', 'demande', 'jeudi', 'jamais', 'juillet', 'mois', 'plusieurs', 'mardi', 'mercredi', 'lundi', 'quatre', 'semaine', 'suppression', 'semble', 'souvent', 'vers', 'jamais', 'comité', 'discussion', 'liens', 'lieux', 'membres', 'vendredi', 'dernière', 'donner', 'délégation', 'défendu', 'défavorable', 'exemple', 'favorable', 'fonction', 'grand', 'habitant', 'haut', 'juridique', 'mars', 'membre', 'mettre', 'mise', 'ministère', 'mission', 'niveau', 'oui', 'organique', 'objet', 'notion', 'norme', 'pense', 'première', 'prendre', 'principe', 'procédure', 'puisque', 'rien', 'sceaux', 'réponse', 'spécial', 'vise', 'vos', 'vote', 'suppresion', 'urgence', \"rapporteur\", \"rapporteure\", 'décembre', 'dans', \"aujourd'hui\", \"j'ai\", \"l'on\", \"n'a\", \"qu'elle\", \"qu'il\", \"s'agit\"]\n",
    "for i in range(len(stop_liste)):\n",
    "    stop_w.append(stop_liste[i])\n",
    "st = set(stop_w)\n",
    "for i in range(len(df_2)) :\n",
    "    z = df_2[i,2]\n",
    "    z = ' - '.join(w for w in word_tokenize(z) if w not in st)\n",
    "    df_2[i,2] = z\n",
    "print(df_2)"
   ]
  },
  {
   "cell_type": "code",
   "execution_count": 20,
   "metadata": {},
   "outputs": [
    {
     "name": "stdout",
     "output_type": "stream",
     "text": [
      "160393\n"
     ]
    }
   ],
   "source": [
    "print(len(df_2))"
   ]
  },
  {
   "cell_type": "markdown",
   "metadata": {},
   "source": [
    "## Voir comment la proximité thématique prédit la participation"
   ]
  },
  {
   "cell_type": "markdown",
   "metadata": {
    "collapsed": true
   },
   "source": [
    "## Bibliographie\n",
    "\n",
    "\n",
    "<span>&#8226;</span> Benjamin Monnery & Maxime Le Bihan, 2018. \"Can Public and Private Sanctions Discipline Politicians? Evidence from the French Parliament,\" EconomiX Working Papers 2018-21, University of Paris Nanterre, EconomiX.\n",
    "\n",
    "<span>&#8226;</span> Wu, A. H. (2017). Gender stereotyping in academia: Evidence from economics job market rumors forum.\n"
   ]
  },
  {
   "cell_type": "code",
   "execution_count": null,
   "metadata": {
    "collapsed": true
   },
   "outputs": [],
   "source": []
  }
 ],
 "metadata": {
  "kernelspec": {
   "display_name": "Python 3",
   "language": "python",
   "name": "python3"
  },
  "language_info": {
   "codemirror_mode": {
    "name": "ipython",
    "version": 3
   },
   "file_extension": ".py",
   "mimetype": "text/x-python",
   "name": "python",
   "nbconvert_exporter": "python",
   "pygments_lexer": "ipython3",
   "version": "3.6.4"
  }
 },
 "nbformat": 4,
 "nbformat_minor": 2
}
